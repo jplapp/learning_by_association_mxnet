{
 "cells": [
  {
   "cell_type": "code",
   "execution_count": 1,
   "metadata": {},
   "outputs": [],
   "source": [
    "import os\n",
    "import argparse\n",
    "import logging\n",
    "logging.basicConfig(level=logging.INFO)\n",
    "from common import find_mxnet, data, fit\n",
    "from common.util import download_file\n",
    "import mxnet as mx\n",
    "import numpy as np\n",
    "from mxnet.symbol import *"
   ]
  },
  {
   "cell_type": "code",
   "execution_count": 2,
   "metadata": {},
   "outputs": [],
   "source": [
    "def download_cifar100():\n",
    "    data_dir=\"/efs/data/cifar-100-mxnet\"\n",
    "    #data_dir=\"/data/cifar-100-mxnet\"\n",
    "    fnames = (os.path.join(data_dir, \"train.rec\"),\n",
    "              os.path.join(data_dir, \"test.rec\"))\n",
    "    return fnames"
   ]
  },
  {
   "cell_type": "code",
   "execution_count": 3,
   "metadata": {},
   "outputs": [],
   "source": [
    "(train_fname, val_fname) = download_cifar100()\n",
    "\n",
    "# parse args\n",
    "parser = argparse.ArgumentParser(description=\"train cifar100\",\n",
    "                                 formatter_class=argparse.ArgumentDefaultsHelpFormatter)\n",
    "fit.add_fit_args(parser)\n",
    "data.add_data_args(parser)\n",
    "data.add_data_aug_args(parser)\n",
    "data.set_data_aug_level(parser, 2)\n",
    "\n",
    "num_unsup_examples = 50000\n",
    "subset_factor = 5\n",
    "\n",
    "parser.set_defaults(\n",
    "    # data\n",
    "    data_train     = train_fname,\n",
    "    data_val       = val_fname,\n",
    "    num_classes    = 100,\n",
    "    image_shape    = '3,28,28',\n",
    " #   model_prefix   = '/efs/checkpoints/inceptionStandard',\n",
    "    pad_size       = 4,\n",
    "    # train\n",
    "    batch_size     = 128,\n",
    "    num_epochs     = 150,\n",
    "    lr_step_epochs = '80,120',\n",
    "    gpus           = '0,1,2,3',\n",
    "    disp_batches   = 10,\n",
    "    num_examples   = num_unsup_examples / subset_factor, \n",
    "    wd             = 1e-4,\n",
    "    lr             = .05,\n",
    "    lr_factor      = .33,\n",
    "    optimizer      = 'sgd'\n",
    ")\n",
    "\n",
    "args = parser.parse_args(\"\")\n",
    "unsup_multiplier = 0\n",
    "labeled_per_class = 500 / subset_factor\n",
    "sample_seed = 47\n",
    "val_interval = 1\n",
    "num_sup_examples = labeled_per_class * args.num_classes\n",
    "sup_batch_size = args.batch_size"
   ]
  },
  {
   "cell_type": "code",
   "execution_count": 4,
   "metadata": {},
   "outputs": [],
   "source": [
    "from common.multi_iterator import Multi_iterator\n",
    "from common.data import get_partial_rec_iter\n",
    "\n",
    "(train_sup, val) = get_partial_rec_iter(args, get_val=True, devide_by=5, shuffle=True)\n",
    "(train_unsup, _) = get_partial_rec_iter(args, get_val=False, devide_by=1, shuffle=True)\n",
    "    \n",
    "train = Multi_iterator(train_sup, train_unsup, unsup_multiplier, num_unsup_examples, num_sup_examples)"
   ]
  },
  {
   "cell_type": "code",
   "execution_count": 5,
   "metadata": {},
   "outputs": [
    {
     "data": {
      "text/plain": [
       "[<NDArray 128x3x28x28 @cpu(0)>]"
      ]
     },
     "execution_count": 5,
     "metadata": {},
     "output_type": "execute_result"
    }
   ],
   "source": [
    "train.next().data"
   ]
  },
  {
   "cell_type": "code",
   "execution_count": 6,
   "metadata": {},
   "outputs": [],
   "source": [
    "from symbols import inception_cifar as inception\n",
    "from common.lba import compute_semisup_loss, logit_loss\n",
    "\n",
    "t_nb = sup_batch_size * unsup_multiplier\n",
    "\n",
    "def build():\n",
    "    dataSup = mx.symbol.Variable(name=\"dataSup\")\n",
    "    labelSup = mx.symbol.Variable(name='labelSup')\n",
    "    overall_loss = []\n",
    "    \n",
    "    if unsup_multiplier >= 1:\n",
    "        dataUnsup = []\n",
    "        for i in range(unsup_multiplier):\n",
    "            dataUnsup.append(Variable(name=\"dataUnsup\"+str(i)))\n",
    "\n",
    "        # concat data, feed both through the network\n",
    "        # then split it up again\n",
    "        data = concat(dataSup, *dataUnsup, dim=0)\n",
    "\n",
    "        embeddings = inception.build_embeddings(data, nembeddings=256)\n",
    "        splitted = split(embeddings, num_outputs=(unsup_multiplier+1), axis=0, name='split')\n",
    "\n",
    "        supEmbeddings = splitted[0]\n",
    "        \n",
    "        unsupEmbeddings = []\n",
    "        for i in range(unsup_multiplier):\n",
    "            unsupEmbeddings.append(splitted[1+i])\n",
    "    \n",
    "        unsupEmbeddings = concat(*unsupEmbeddings, dim=0)\n",
    "            \n",
    "        (walker_loss, visit_loss) = compute_semisup_loss(supEmbeddings, unsupEmbeddings, labelSup, t_nb, \n",
    "                                                     walker_weight=1.0, visit_weight=1.0)\n",
    "        overall_loss = [walker_loss, visit_loss]\n",
    "        \n",
    "    else:\n",
    "        supEmbeddings = inception.build_embeddings(dataSup, nembeddings=256)\n",
    "        \n",
    "    overall_loss = [logit_loss(supEmbeddings, labelSup, 100)] + overall_loss\n",
    "    \n",
    "    return Group(overall_loss)"
   ]
  },
  {
   "cell_type": "code",
   "execution_count": 7,
   "metadata": {},
   "outputs": [],
   "source": [
    "class Multi_Accuracy(mx.metric.EvalMetric):\n",
    "    \"\"\"Calculate accuracies of multi label\"\"\"\n",
    "\n",
    "    def __init__(self, num=None):\n",
    "        super(Multi_Accuracy, self).__init__('multi-accuracy', num)\n",
    "\n",
    "    def update(self, labels, preds):\n",
    "\n",
    "        #for i in range(len(preds)):\n",
    "        for i in range(1):\n",
    "            pred_label = mx.nd.argmax_channel(preds[i]).asnumpy().astype('int32')\n",
    "            label = labels[0].asnumpy().astype('int32')\n",
    "\n",
    "            #mx.metric.check_label_shapes(label, pred_label)\n",
    "            \n",
    "            #print((pred_label.flat == label.flat).sum())\n",
    "            #print(len(pred_label.flat))\n",
    "\n",
    "            \n",
    "            self.sum_metric[i] += (pred_label.flat == label.flat).sum()\n",
    "            self.num_inst[i] += len(pred_label.flat)"
   ]
  },
  {
   "cell_type": "code",
   "execution_count": null,
   "metadata": {},
   "outputs": [],
   "source": [
    "# evaluation metrices\n",
    "eval_metrics = Multi_Accuracy(num= 3 if unsup_multiplier >= 1 else 1)\n",
    "                    \n",
    "def fit_model(args, network, data, **kwargs):\n",
    "    \"\"\"\n",
    "    train a model\n",
    "    args : argparse returns\n",
    "    network : the symbol definition of the nerual network\n",
    "    data_loader : function that returns the train and val data iterators\n",
    "    \"\"\"\n",
    "    # kvstore\n",
    "    kv = mx.kvstore.create(args.kv_store)\n",
    "\n",
    "    # logging\n",
    "    head = '%(asctime)-15s Node[' + str(kv.rank) + '] %(message)s'\n",
    "    logging.basicConfig(level=logging.DEBUG, format=head)\n",
    "    logging.info('start with arguments %s', args)\n",
    "    batch_size = sup_batch_size * (unsup_multiplier + 1)\n",
    "\n",
    "    # data iterators\n",
    "    (train, val) = data\n",
    "    if args.test_io:\n",
    "        tic = time.time()\n",
    "        for i, batch in enumerate(train):\n",
    "            for j in batch.data:\n",
    "                j.wait_to_read()\n",
    "            if (i+1) % args.disp_batches == 0:\n",
    "                logging.info('Batch [%d]\\tSpeed: %.2f samples/sec' % (\n",
    "                    i, args.disp_batches*batch_size/(time.time()-tic)))\n",
    "                tic = time.time()\n",
    "        return\n",
    "\n",
    "    # load model\n",
    "    if 'arg_params' in kwargs and 'aux_params' in kwargs:\n",
    "        arg_params = kwargs['arg_params']\n",
    "        aux_params = kwargs['aux_params']\n",
    "    else:\n",
    "        sym, arg_params, aux_params = fit._load_model(args, kv.rank)\n",
    "        if sym is not None:\n",
    "            assert sym.tojson() == network.tojson()\n",
    "\n",
    "    # save model\n",
    "    checkpoint = fit._save_model(args, kv.rank)\n",
    "\n",
    "    # devices for training\n",
    "    devs = mx.cpu() if args.gpus is None or args.gpus is '' else [\n",
    "        mx.gpu(int(i)) for i in args.gpus.split(',')]\n",
    "\n",
    "    # learning rate\n",
    "    lr, lr_scheduler = fit._get_lr_scheduler(args, kv)\n",
    "\n",
    "    data_names = ['dataSup'] + ['dataUnsup'+str(i) for i in range(unsup_multiplier)]\n",
    "        \n",
    "    # create model\n",
    "    model = mx.mod.Module(\n",
    "        context       = devs,\n",
    "        symbol        = network,\n",
    "        label_names   = ['labelSup'],\n",
    "        data_names   = data_names\n",
    "    )\n",
    "    \n",
    "    def validate_model(epoch, *args):\n",
    "        if epoch % val_interval != 0: \n",
    "            return\n",
    "        res = model.score(val, eval_metrics)\n",
    "        #TODO: pull this into default\n",
    "        for name, value in res:\n",
    "            print('Epoch[%d] Validation-%s=%f' % (epoch, name, value))\n",
    "\n",
    "    \n",
    "    #print(model.label_names)\n",
    "    lr_scheduler  = lr_scheduler\n",
    "    optimizer_params = {\n",
    "            'learning_rate': lr,\n",
    "            'momentum' : args.mom,\n",
    "            'wd' : args.wd,\n",
    "            #'rescale_grad': 1,\n",
    "            'lr_scheduler': lr_scheduler}\n",
    "\n",
    "    #monitor = mx.mon.Monitor(interval=1000, pattern='.*aba_backward.*') \n",
    "    monitor = mx.mon.Monitor(interval=1000, pattern='.*') \n",
    "    \n",
    "    # callbacks that run after each batch\n",
    "    batch_end_callbacks = [mx.callback.Speedometer(batch_size, args.disp_batches)]\n",
    "    \n",
    "    epoch_end_callbacks = validate_model\n",
    "\n",
    "    # run\n",
    "    model.fit(train,\n",
    "        begin_epoch        = args.load_epoch if args.load_epoch else 0,\n",
    "        num_epoch          = args.num_epochs,\n",
    "        #eval_data          = val,\n",
    "        eval_metric        = eval_metrics,\n",
    "        kvstore            = kv,\n",
    "        optimizer          = args.optimizer,\n",
    "        optimizer_params   = optimizer_params,\n",
    "        #initializer        = initializer,\n",
    "        arg_params         = arg_params,\n",
    "        aux_params         = aux_params,\n",
    "        batch_end_callback = batch_end_callbacks,\n",
    "        epoch_end_callback = epoch_end_callbacks,\n",
    "        allow_missing      = True\n",
    "        #monitor            = monitor\n",
    "             )\n",
    "    return model"
   ]
  },
  {
   "cell_type": "code",
   "execution_count": null,
   "metadata": {},
   "outputs": [
    {
     "name": "stderr",
     "output_type": "stream",
     "text": [
      "INFO:root:start with arguments Namespace(batch_size=128, benchmark=0, data_nthreads=4, data_train='/efs/data/cifar-100-mxnet/train.rec', data_val='/efs/data/cifar-100-mxnet/test.rec', disp_batches=10, dtype='float32', gpus='0,1,2,3', image_shape='3,28,28', kv_store='device', load_epoch=None, lr=0.05, lr_factor=0.33, lr_step_epochs='80,120', max_random_aspect_ratio=0, max_random_h=36, max_random_l=50, max_random_rotate_angle=0, max_random_s=50, max_random_scale=1, max_random_shear_ratio=0, min_random_scale=1, model_prefix=None, mom=0.9, monitor=0, network=None, num_classes=100, num_epochs=150, num_examples=10000.0, num_layers=None, optimizer='sgd', pad_size=4, random_crop=1, random_mirror=1, rgb_mean='123.68,116.779,103.939', test_io=0, top_k=0, wd=0.0001)\n"
     ]
    },
    {
     "name": "stdout",
     "output_type": "stream",
     "text": [
      "[6250.0, 9375.0]\n"
     ]
    },
    {
     "name": "stderr",
     "output_type": "stream",
     "text": [
      "INFO:root:Epoch[0] Batch [10]\tSpeed: 466.34 samples/sec\tTrain-multi-accuracy_0=0.019886\n",
      "INFO:root:Epoch[0] Batch [20]\tSpeed: 435.24 samples/sec\tTrain-multi-accuracy_0=0.020313\n",
      "INFO:root:Epoch[0] Batch [30]\tSpeed: 437.07 samples/sec\tTrain-multi-accuracy_0=0.022656\n",
      "INFO:root:Epoch[0] Batch [40]\tSpeed: 437.01 samples/sec\tTrain-multi-accuracy_0=0.017969\n",
      "INFO:root:Epoch[0] Batch [50]\tSpeed: 436.31 samples/sec\tTrain-multi-accuracy_0=0.028906\n",
      "INFO:root:Epoch[0] Batch [60]\tSpeed: 435.60 samples/sec\tTrain-multi-accuracy_0=0.024219\n",
      "INFO:root:Epoch[0] Batch [70]\tSpeed: 435.95 samples/sec\tTrain-multi-accuracy_0=0.028906\n",
      "INFO:root:Epoch[0] Train-multi-accuracy_0=0.030273\n",
      "INFO:root:Epoch[0] Time cost=25.073\n"
     ]
    },
    {
     "name": "stdout",
     "output_type": "stream",
     "text": [
      "Epoch[0] Validation-multi-accuracy_0=0.030854\n"
     ]
    },
    {
     "name": "stderr",
     "output_type": "stream",
     "text": [
      "INFO:root:Epoch[1] Batch [10]\tSpeed: 435.94 samples/sec\tTrain-multi-accuracy_0=0.031250\n",
      "INFO:root:Epoch[1] Batch [20]\tSpeed: 435.29 samples/sec\tTrain-multi-accuracy_0=0.025000\n",
      "INFO:root:Epoch[1] Batch [30]\tSpeed: 435.51 samples/sec\tTrain-multi-accuracy_0=0.027344\n",
      "INFO:root:Epoch[1] Batch [40]\tSpeed: 435.80 samples/sec\tTrain-multi-accuracy_0=0.028125\n",
      "INFO:root:Epoch[1] Batch [50]\tSpeed: 435.54 samples/sec\tTrain-multi-accuracy_0=0.039062\n",
      "INFO:root:Epoch[1] Batch [60]\tSpeed: 433.81 samples/sec\tTrain-multi-accuracy_0=0.034375\n",
      "INFO:root:Epoch[1] Batch [70]\tSpeed: 435.10 samples/sec\tTrain-multi-accuracy_0=0.046875\n",
      "INFO:root:Epoch[1] Train-multi-accuracy_0=0.046875\n",
      "INFO:root:Epoch[1] Time cost=22.756\n"
     ]
    },
    {
     "name": "stdout",
     "output_type": "stream",
     "text": [
      "Epoch[1] Validation-multi-accuracy_0=0.050581\n"
     ]
    },
    {
     "name": "stderr",
     "output_type": "stream",
     "text": [
      "INFO:root:Epoch[2] Batch [10]\tSpeed: 435.36 samples/sec\tTrain-multi-accuracy_0=0.049716\n",
      "INFO:root:Epoch[2] Batch [20]\tSpeed: 435.15 samples/sec\tTrain-multi-accuracy_0=0.040625\n",
      "INFO:root:Epoch[2] Batch [30]\tSpeed: 434.83 samples/sec\tTrain-multi-accuracy_0=0.032031\n",
      "INFO:root:Epoch[2] Batch [40]\tSpeed: 434.17 samples/sec\tTrain-multi-accuracy_0=0.031250\n",
      "INFO:root:Epoch[2] Batch [50]\tSpeed: 434.64 samples/sec\tTrain-multi-accuracy_0=0.041406\n",
      "INFO:root:Epoch[2] Batch [60]\tSpeed: 435.58 samples/sec\tTrain-multi-accuracy_0=0.035156\n",
      "INFO:root:Epoch[2] Batch [70]\tSpeed: 433.82 samples/sec\tTrain-multi-accuracy_0=0.055469\n",
      "INFO:root:Epoch[2] Train-multi-accuracy_0=0.047991\n",
      "INFO:root:Epoch[2] Time cost=22.785\n"
     ]
    },
    {
     "name": "stdout",
     "output_type": "stream",
     "text": [
      "Epoch[2] Validation-multi-accuracy_0=0.049279\n"
     ]
    },
    {
     "name": "stderr",
     "output_type": "stream",
     "text": [
      "INFO:root:Epoch[3] Batch [10]\tSpeed: 435.06 samples/sec\tTrain-multi-accuracy_0=0.056108\n",
      "INFO:root:Epoch[3] Batch [20]\tSpeed: 435.15 samples/sec\tTrain-multi-accuracy_0=0.045312\n",
      "INFO:root:Epoch[3] Batch [30]\tSpeed: 434.55 samples/sec\tTrain-multi-accuracy_0=0.054688\n",
      "INFO:root:Epoch[3] Batch [40]\tSpeed: 435.26 samples/sec\tTrain-multi-accuracy_0=0.058594\n",
      "INFO:root:Epoch[3] Batch [50]\tSpeed: 435.16 samples/sec\tTrain-multi-accuracy_0=0.047656\n",
      "INFO:root:Epoch[3] Batch [60]\tSpeed: 434.86 samples/sec\tTrain-multi-accuracy_0=0.057031\n",
      "INFO:root:Epoch[3] Batch [70]\tSpeed: 434.54 samples/sec\tTrain-multi-accuracy_0=0.049219\n",
      "INFO:root:Epoch[3] Train-multi-accuracy_0=0.071429\n",
      "INFO:root:Epoch[3] Time cost=22.771\n"
     ]
    },
    {
     "name": "stdout",
     "output_type": "stream",
     "text": [
      "Epoch[3] Validation-multi-accuracy_0=0.058393\n"
     ]
    },
    {
     "name": "stderr",
     "output_type": "stream",
     "text": [
      "INFO:root:Epoch[4] Batch [10]\tSpeed: 434.48 samples/sec\tTrain-multi-accuracy_0=0.066761\n",
      "INFO:root:Epoch[4] Batch [20]\tSpeed: 433.69 samples/sec\tTrain-multi-accuracy_0=0.048438\n",
      "INFO:root:Epoch[4] Batch [30]\tSpeed: 434.52 samples/sec\tTrain-multi-accuracy_0=0.056250\n",
      "INFO:root:Epoch[4] Batch [40]\tSpeed: 435.02 samples/sec\tTrain-multi-accuracy_0=0.058594\n",
      "INFO:root:Epoch[4] Batch [50]\tSpeed: 433.43 samples/sec\tTrain-multi-accuracy_0=0.058594\n",
      "INFO:root:Epoch[4] Batch [60]\tSpeed: 432.90 samples/sec\tTrain-multi-accuracy_0=0.062500\n",
      "INFO:root:Epoch[4] Batch [70]\tSpeed: 433.64 samples/sec\tTrain-multi-accuracy_0=0.064844\n",
      "INFO:root:Epoch[4] Train-multi-accuracy_0=0.074777\n",
      "INFO:root:Epoch[4] Time cost=22.822\n"
     ]
    },
    {
     "name": "stdout",
     "output_type": "stream",
     "text": [
      "Epoch[4] Validation-multi-accuracy_0=0.079627\n"
     ]
    },
    {
     "name": "stderr",
     "output_type": "stream",
     "text": [
      "INFO:root:Epoch[5] Batch [10]\tSpeed: 434.80 samples/sec\tTrain-multi-accuracy_0=0.057528\n",
      "INFO:root:Epoch[5] Batch [20]\tSpeed: 433.89 samples/sec\tTrain-multi-accuracy_0=0.059375\n",
      "INFO:root:Epoch[5] Batch [30]\tSpeed: 435.13 samples/sec\tTrain-multi-accuracy_0=0.067969\n",
      "INFO:root:Epoch[5] Batch [40]\tSpeed: 433.59 samples/sec\tTrain-multi-accuracy_0=0.080469\n",
      "INFO:root:Epoch[5] Batch [50]\tSpeed: 433.72 samples/sec\tTrain-multi-accuracy_0=0.082031\n",
      "INFO:root:Epoch[5] Batch [60]\tSpeed: 433.30 samples/sec\tTrain-multi-accuracy_0=0.080469\n",
      "INFO:root:Epoch[5] Batch [70]\tSpeed: 433.88 samples/sec\tTrain-multi-accuracy_0=0.084375\n",
      "INFO:root:Epoch[5] Train-multi-accuracy_0=0.082589\n",
      "INFO:root:Epoch[5] Time cost=22.821\n"
     ]
    },
    {
     "name": "stdout",
     "output_type": "stream",
     "text": [
      "Epoch[5] Validation-multi-accuracy_0=0.090645\n"
     ]
    },
    {
     "name": "stderr",
     "output_type": "stream",
     "text": [
      "INFO:root:Epoch[6] Batch [10]\tSpeed: 434.24 samples/sec\tTrain-multi-accuracy_0=0.083097\n",
      "INFO:root:Epoch[6] Batch [20]\tSpeed: 432.29 samples/sec\tTrain-multi-accuracy_0=0.064844\n",
      "INFO:root:Epoch[6] Batch [30]\tSpeed: 433.46 samples/sec\tTrain-multi-accuracy_0=0.065625\n",
      "INFO:root:Epoch[6] Batch [40]\tSpeed: 432.49 samples/sec\tTrain-multi-accuracy_0=0.094531\n",
      "INFO:root:Epoch[6] Batch [50]\tSpeed: 434.39 samples/sec\tTrain-multi-accuracy_0=0.091406\n",
      "INFO:root:Epoch[6] Batch [60]\tSpeed: 432.90 samples/sec\tTrain-multi-accuracy_0=0.085938\n",
      "INFO:root:Epoch[6] Batch [70]\tSpeed: 431.90 samples/sec\tTrain-multi-accuracy_0=0.090625\n",
      "INFO:root:Epoch[6] Train-multi-accuracy_0=0.101562\n",
      "INFO:root:Epoch[6] Time cost=22.869\n"
     ]
    },
    {
     "name": "stdout",
     "output_type": "stream",
     "text": [
      "Epoch[6] Validation-multi-accuracy_0=0.086639\n"
     ]
    },
    {
     "name": "stderr",
     "output_type": "stream",
     "text": [
      "INFO:root:Epoch[7] Batch [10]\tSpeed: 432.62 samples/sec\tTrain-multi-accuracy_0=0.107244\n",
      "INFO:root:Epoch[7] Batch [20]\tSpeed: 433.87 samples/sec\tTrain-multi-accuracy_0=0.105469\n",
      "INFO:root:Epoch[7] Batch [30]\tSpeed: 432.33 samples/sec\tTrain-multi-accuracy_0=0.108594\n",
      "INFO:root:Epoch[7] Batch [40]\tSpeed: 433.07 samples/sec\tTrain-multi-accuracy_0=0.082031\n",
      "INFO:root:Epoch[7] Batch [50]\tSpeed: 433.64 samples/sec\tTrain-multi-accuracy_0=0.117188\n",
      "INFO:root:Epoch[7] Batch [60]\tSpeed: 434.47 samples/sec\tTrain-multi-accuracy_0=0.099219\n",
      "INFO:root:Epoch[7] Batch [70]\tSpeed: 433.11 samples/sec\tTrain-multi-accuracy_0=0.103906\n",
      "INFO:root:Epoch[7] Train-multi-accuracy_0=0.113839\n",
      "INFO:root:Epoch[7] Time cost=22.853\n"
     ]
    },
    {
     "name": "stdout",
     "output_type": "stream",
     "text": [
      "Epoch[7] Validation-multi-accuracy_0=0.133413\n"
     ]
    },
    {
     "name": "stderr",
     "output_type": "stream",
     "text": [
      "INFO:root:Epoch[8] Batch [10]\tSpeed: 434.25 samples/sec\tTrain-multi-accuracy_0=0.115057\n",
      "INFO:root:Epoch[8] Batch [20]\tSpeed: 433.22 samples/sec\tTrain-multi-accuracy_0=0.110156\n",
      "INFO:root:Epoch[8] Batch [30]\tSpeed: 433.79 samples/sec\tTrain-multi-accuracy_0=0.103125\n",
      "INFO:root:Epoch[8] Batch [40]\tSpeed: 432.73 samples/sec\tTrain-multi-accuracy_0=0.119531\n",
      "INFO:root:Epoch[8] Batch [50]\tSpeed: 435.28 samples/sec\tTrain-multi-accuracy_0=0.111719\n",
      "INFO:root:Epoch[8] Batch [60]\tSpeed: 435.59 samples/sec\tTrain-multi-accuracy_0=0.107813\n",
      "INFO:root:Epoch[8] Batch [70]\tSpeed: 434.34 samples/sec\tTrain-multi-accuracy_0=0.133594\n",
      "INFO:root:Epoch[8] Train-multi-accuracy_0=0.114258\n",
      "INFO:root:Epoch[8] Time cost=23.203\n"
     ]
    },
    {
     "name": "stdout",
     "output_type": "stream",
     "text": [
      "Epoch[8] Validation-multi-accuracy_0=0.129450\n"
     ]
    },
    {
     "name": "stderr",
     "output_type": "stream",
     "text": [
      "INFO:root:Epoch[9] Batch [10]\tSpeed: 433.66 samples/sec\tTrain-multi-accuracy_0=0.127841\n",
      "INFO:root:Epoch[9] Batch [20]\tSpeed: 433.20 samples/sec\tTrain-multi-accuracy_0=0.125000\n",
      "INFO:root:Epoch[9] Batch [30]\tSpeed: 433.39 samples/sec\tTrain-multi-accuracy_0=0.117969\n",
      "INFO:root:Epoch[9] Batch [40]\tSpeed: 433.26 samples/sec\tTrain-multi-accuracy_0=0.117188\n",
      "INFO:root:Epoch[9] Batch [50]\tSpeed: 433.08 samples/sec\tTrain-multi-accuracy_0=0.130469\n",
      "INFO:root:Epoch[9] Batch [60]\tSpeed: 433.42 samples/sec\tTrain-multi-accuracy_0=0.131250\n",
      "INFO:root:Epoch[9] Batch [70]\tSpeed: 432.99 samples/sec\tTrain-multi-accuracy_0=0.154688\n",
      "INFO:root:Epoch[9] Train-multi-accuracy_0=0.122768\n",
      "INFO:root:Epoch[9] Time cost=22.855\n"
     ]
    },
    {
     "name": "stdout",
     "output_type": "stream",
     "text": [
      "Epoch[9] Validation-multi-accuracy_0=0.154046\n"
     ]
    },
    {
     "name": "stderr",
     "output_type": "stream",
     "text": [
      "INFO:root:Epoch[10] Batch [10]\tSpeed: 432.98 samples/sec\tTrain-multi-accuracy_0=0.133523\n",
      "INFO:root:Epoch[10] Batch [20]\tSpeed: 434.63 samples/sec\tTrain-multi-accuracy_0=0.150781\n",
      "INFO:root:Epoch[10] Batch [30]\tSpeed: 433.83 samples/sec\tTrain-multi-accuracy_0=0.125000\n",
      "INFO:root:Epoch[10] Batch [40]\tSpeed: 433.82 samples/sec\tTrain-multi-accuracy_0=0.150000\n",
      "INFO:root:Epoch[10] Batch [50]\tSpeed: 433.27 samples/sec\tTrain-multi-accuracy_0=0.157812\n",
      "INFO:root:Epoch[10] Batch [60]\tSpeed: 433.99 samples/sec\tTrain-multi-accuracy_0=0.132031\n",
      "INFO:root:Epoch[10] Batch [70]\tSpeed: 433.59 samples/sec\tTrain-multi-accuracy_0=0.127344\n",
      "INFO:root:Epoch[10] Train-multi-accuracy_0=0.142857\n",
      "INFO:root:Epoch[10] Time cost=22.838\n"
     ]
    },
    {
     "name": "stdout",
     "output_type": "stream",
     "text": [
      "Epoch[10] Validation-multi-accuracy_0=0.150541\n"
     ]
    },
    {
     "name": "stderr",
     "output_type": "stream",
     "text": [
      "INFO:root:Epoch[11] Batch [10]\tSpeed: 434.25 samples/sec\tTrain-multi-accuracy_0=0.147017\n",
      "INFO:root:Epoch[11] Batch [20]\tSpeed: 434.77 samples/sec\tTrain-multi-accuracy_0=0.127344\n",
      "INFO:root:Epoch[11] Batch [30]\tSpeed: 433.90 samples/sec\tTrain-multi-accuracy_0=0.146875\n",
      "INFO:root:Epoch[11] Batch [40]\tSpeed: 433.44 samples/sec\tTrain-multi-accuracy_0=0.142969\n",
      "INFO:root:Epoch[11] Batch [50]\tSpeed: 434.32 samples/sec\tTrain-multi-accuracy_0=0.160938\n",
      "INFO:root:Epoch[11] Batch [60]\tSpeed: 434.10 samples/sec\tTrain-multi-accuracy_0=0.142187\n",
      "INFO:root:Epoch[11] Batch [70]\tSpeed: 433.99 samples/sec\tTrain-multi-accuracy_0=0.169531\n",
      "INFO:root:Epoch[11] Train-multi-accuracy_0=0.152902\n",
      "INFO:root:Epoch[11] Time cost=22.817\n"
     ]
    },
    {
     "name": "stdout",
     "output_type": "stream",
     "text": [
      "Epoch[11] Validation-multi-accuracy_0=0.166466\n"
     ]
    },
    {
     "name": "stderr",
     "output_type": "stream",
     "text": [
      "INFO:root:Epoch[12] Batch [10]\tSpeed: 433.64 samples/sec\tTrain-multi-accuracy_0=0.146307\n",
      "INFO:root:Epoch[12] Batch [20]\tSpeed: 434.32 samples/sec\tTrain-multi-accuracy_0=0.164844\n",
      "INFO:root:Epoch[12] Batch [30]\tSpeed: 434.05 samples/sec\tTrain-multi-accuracy_0=0.166406\n",
      "INFO:root:Epoch[12] Batch [40]\tSpeed: 434.31 samples/sec\tTrain-multi-accuracy_0=0.164844\n",
      "INFO:root:Epoch[12] Batch [50]\tSpeed: 435.18 samples/sec\tTrain-multi-accuracy_0=0.175781\n",
      "INFO:root:Epoch[12] Batch [60]\tSpeed: 434.63 samples/sec\tTrain-multi-accuracy_0=0.157031\n",
      "INFO:root:Epoch[12] Batch [70]\tSpeed: 432.33 samples/sec\tTrain-multi-accuracy_0=0.186719\n",
      "INFO:root:Epoch[12] Train-multi-accuracy_0=0.179688\n",
      "INFO:root:Epoch[12] Time cost=22.822\n"
     ]
    },
    {
     "name": "stdout",
     "output_type": "stream",
     "text": [
      "Epoch[12] Validation-multi-accuracy_0=0.191707\n"
     ]
    },
    {
     "name": "stderr",
     "output_type": "stream",
     "text": [
      "INFO:root:Epoch[13] Batch [10]\tSpeed: 434.92 samples/sec\tTrain-multi-accuracy_0=0.183239\n",
      "INFO:root:Epoch[13] Batch [20]\tSpeed: 434.41 samples/sec\tTrain-multi-accuracy_0=0.150781\n",
      "INFO:root:Epoch[13] Batch [30]\tSpeed: 434.98 samples/sec\tTrain-multi-accuracy_0=0.182812\n",
      "INFO:root:Epoch[13] Batch [40]\tSpeed: 432.88 samples/sec\tTrain-multi-accuracy_0=0.175781\n",
      "INFO:root:Epoch[13] Batch [50]\tSpeed: 434.57 samples/sec\tTrain-multi-accuracy_0=0.159375\n",
      "INFO:root:Epoch[13] Batch [60]\tSpeed: 433.76 samples/sec\tTrain-multi-accuracy_0=0.189062\n",
      "INFO:root:Epoch[13] Batch [70]\tSpeed: 434.51 samples/sec\tTrain-multi-accuracy_0=0.188281\n",
      "INFO:root:Epoch[13] Train-multi-accuracy_0=0.188616\n",
      "INFO:root:Epoch[13] Time cost=22.805\n"
     ]
    },
    {
     "name": "stdout",
     "output_type": "stream",
     "text": [
      "Epoch[13] Validation-multi-accuracy_0=0.193910\n"
     ]
    },
    {
     "name": "stderr",
     "output_type": "stream",
     "text": [
      "INFO:root:Epoch[14] Batch [10]\tSpeed: 434.48 samples/sec\tTrain-multi-accuracy_0=0.173295\n",
      "INFO:root:Epoch[14] Batch [20]\tSpeed: 432.76 samples/sec\tTrain-multi-accuracy_0=0.168750\n",
      "INFO:root:Epoch[14] Batch [30]\tSpeed: 434.52 samples/sec\tTrain-multi-accuracy_0=0.159375\n",
      "INFO:root:Epoch[14] Batch [40]\tSpeed: 434.92 samples/sec\tTrain-multi-accuracy_0=0.183594\n",
      "INFO:root:Epoch[14] Batch [50]\tSpeed: 432.28 samples/sec\tTrain-multi-accuracy_0=0.190625\n",
      "INFO:root:Epoch[14] Batch [60]\tSpeed: 434.51 samples/sec\tTrain-multi-accuracy_0=0.192188\n",
      "INFO:root:Epoch[14] Batch [70]\tSpeed: 433.87 samples/sec\tTrain-multi-accuracy_0=0.197656\n",
      "INFO:root:Epoch[14] Train-multi-accuracy_0=0.188616\n",
      "INFO:root:Epoch[14] Time cost=22.819\n"
     ]
    },
    {
     "name": "stdout",
     "output_type": "stream",
     "text": [
      "Epoch[14] Validation-multi-accuracy_0=0.211038\n"
     ]
    },
    {
     "name": "stderr",
     "output_type": "stream",
     "text": [
      "INFO:root:Epoch[15] Batch [10]\tSpeed: 434.15 samples/sec\tTrain-multi-accuracy_0=0.201705\n",
      "INFO:root:Epoch[15] Batch [20]\tSpeed: 434.43 samples/sec\tTrain-multi-accuracy_0=0.184375\n",
      "INFO:root:Epoch[15] Batch [30]\tSpeed: 433.55 samples/sec\tTrain-multi-accuracy_0=0.169531\n",
      "INFO:root:Epoch[15] Batch [40]\tSpeed: 434.27 samples/sec\tTrain-multi-accuracy_0=0.192969\n",
      "INFO:root:Epoch[15] Batch [50]\tSpeed: 435.12 samples/sec\tTrain-multi-accuracy_0=0.214062\n",
      "INFO:root:Epoch[15] Batch [60]\tSpeed: 434.75 samples/sec\tTrain-multi-accuracy_0=0.175781\n",
      "INFO:root:Epoch[15] Batch [70]\tSpeed: 434.29 samples/sec\tTrain-multi-accuracy_0=0.205469\n",
      "INFO:root:Epoch[15] Train-multi-accuracy_0=0.190848\n",
      "INFO:root:Epoch[15] Time cost=22.816\n"
     ]
    },
    {
     "name": "stdout",
     "output_type": "stream",
     "text": [
      "Epoch[15] Validation-multi-accuracy_0=0.206030\n"
     ]
    },
    {
     "name": "stderr",
     "output_type": "stream",
     "text": [
      "INFO:root:Epoch[16] Batch [10]\tSpeed: 435.79 samples/sec\tTrain-multi-accuracy_0=0.184659\n",
      "INFO:root:Epoch[16] Batch [20]\tSpeed: 434.15 samples/sec\tTrain-multi-accuracy_0=0.206250\n",
      "INFO:root:Epoch[16] Batch [30]\tSpeed: 434.59 samples/sec\tTrain-multi-accuracy_0=0.208594\n",
      "INFO:root:Epoch[16] Batch [40]\tSpeed: 434.58 samples/sec\tTrain-multi-accuracy_0=0.205469\n",
      "INFO:root:Epoch[16] Batch [50]\tSpeed: 433.42 samples/sec\tTrain-multi-accuracy_0=0.202344\n",
      "INFO:root:Epoch[16] Batch [60]\tSpeed: 434.17 samples/sec\tTrain-multi-accuracy_0=0.193750\n",
      "INFO:root:Epoch[16] Batch [70]\tSpeed: 433.50 samples/sec\tTrain-multi-accuracy_0=0.192969\n",
      "INFO:root:Epoch[16] Train-multi-accuracy_0=0.224609\n",
      "INFO:root:Epoch[16] Time cost=23.237\n"
     ]
    },
    {
     "name": "stdout",
     "output_type": "stream",
     "text": [
      "Epoch[16] Validation-multi-accuracy_0=0.239517\n"
     ]
    },
    {
     "name": "stderr",
     "output_type": "stream",
     "text": [
      "INFO:root:Epoch[17] Batch [10]\tSpeed: 434.60 samples/sec\tTrain-multi-accuracy_0=0.232955\n",
      "INFO:root:Epoch[17] Batch [20]\tSpeed: 431.41 samples/sec\tTrain-multi-accuracy_0=0.194531\n",
      "INFO:root:Epoch[17] Batch [30]\tSpeed: 432.13 samples/sec\tTrain-multi-accuracy_0=0.222656\n",
      "INFO:root:Epoch[17] Batch [40]\tSpeed: 433.68 samples/sec\tTrain-multi-accuracy_0=0.225000\n",
      "INFO:root:Epoch[17] Batch [50]\tSpeed: 434.72 samples/sec\tTrain-multi-accuracy_0=0.221094\n",
      "INFO:root:Epoch[17] Batch [60]\tSpeed: 434.15 samples/sec\tTrain-multi-accuracy_0=0.222656\n",
      "INFO:root:Epoch[17] Batch [70]\tSpeed: 434.98 samples/sec\tTrain-multi-accuracy_0=0.207031\n",
      "INFO:root:Epoch[17] Train-multi-accuracy_0=0.237723\n",
      "INFO:root:Epoch[17] Time cost=22.841\n"
     ]
    },
    {
     "name": "stdout",
     "output_type": "stream",
     "text": [
      "Epoch[17] Validation-multi-accuracy_0=0.220753\n"
     ]
    },
    {
     "name": "stderr",
     "output_type": "stream",
     "text": [
      "INFO:root:Epoch[18] Batch [10]\tSpeed: 434.29 samples/sec\tTrain-multi-accuracy_0=0.213778\n",
      "INFO:root:Epoch[18] Batch [20]\tSpeed: 434.65 samples/sec\tTrain-multi-accuracy_0=0.222656\n",
      "INFO:root:Epoch[18] Batch [30]\tSpeed: 434.19 samples/sec\tTrain-multi-accuracy_0=0.228906\n",
      "INFO:root:Epoch[18] Batch [40]\tSpeed: 434.83 samples/sec\tTrain-multi-accuracy_0=0.228125\n",
      "INFO:root:Epoch[18] Batch [50]\tSpeed: 435.22 samples/sec\tTrain-multi-accuracy_0=0.227344\n",
      "INFO:root:Epoch[18] Batch [60]\tSpeed: 433.74 samples/sec\tTrain-multi-accuracy_0=0.240625\n",
      "INFO:root:Epoch[18] Batch [70]\tSpeed: 433.51 samples/sec\tTrain-multi-accuracy_0=0.217188\n",
      "INFO:root:Epoch[18] Train-multi-accuracy_0=0.234375\n",
      "INFO:root:Epoch[18] Time cost=22.817\n"
     ]
    },
    {
     "name": "stdout",
     "output_type": "stream",
     "text": [
      "Epoch[18] Validation-multi-accuracy_0=0.250200\n"
     ]
    },
    {
     "name": "stderr",
     "output_type": "stream",
     "text": [
      "INFO:root:Epoch[19] Batch [10]\tSpeed: 431.20 samples/sec\tTrain-multi-accuracy_0=0.242188\n",
      "INFO:root:Epoch[19] Batch [20]\tSpeed: 433.05 samples/sec\tTrain-multi-accuracy_0=0.235156\n",
      "INFO:root:Epoch[19] Batch [30]\tSpeed: 432.25 samples/sec\tTrain-multi-accuracy_0=0.231250\n",
      "INFO:root:Epoch[19] Batch [40]\tSpeed: 433.46 samples/sec\tTrain-multi-accuracy_0=0.223438\n",
      "INFO:root:Epoch[19] Batch [50]\tSpeed: 433.07 samples/sec\tTrain-multi-accuracy_0=0.241406\n",
      "INFO:root:Epoch[19] Batch [60]\tSpeed: 433.97 samples/sec\tTrain-multi-accuracy_0=0.240625\n",
      "INFO:root:Epoch[19] Batch [70]\tSpeed: 435.65 samples/sec\tTrain-multi-accuracy_0=0.235156\n",
      "INFO:root:Epoch[19] Train-multi-accuracy_0=0.273438\n",
      "INFO:root:Epoch[19] Time cost=22.857\n"
     ]
    },
    {
     "name": "stdout",
     "output_type": "stream",
     "text": [
      "Epoch[19] Validation-multi-accuracy_0=0.254808\n"
     ]
    },
    {
     "name": "stderr",
     "output_type": "stream",
     "text": [
      "INFO:root:Epoch[20] Batch [10]\tSpeed: 433.33 samples/sec\tTrain-multi-accuracy_0=0.267756\n",
      "INFO:root:Epoch[20] Batch [20]\tSpeed: 434.77 samples/sec\tTrain-multi-accuracy_0=0.257812\n",
      "INFO:root:Epoch[20] Batch [30]\tSpeed: 434.86 samples/sec\tTrain-multi-accuracy_0=0.246875\n",
      "INFO:root:Epoch[20] Batch [40]\tSpeed: 433.85 samples/sec\tTrain-multi-accuracy_0=0.242969\n",
      "INFO:root:Epoch[20] Batch [50]\tSpeed: 434.77 samples/sec\tTrain-multi-accuracy_0=0.260156\n",
      "INFO:root:Epoch[20] Batch [60]\tSpeed: 434.26 samples/sec\tTrain-multi-accuracy_0=0.267969\n",
      "INFO:root:Epoch[20] Batch [70]\tSpeed: 434.44 samples/sec\tTrain-multi-accuracy_0=0.253906\n",
      "INFO:root:Epoch[20] Train-multi-accuracy_0=0.256696\n",
      "INFO:root:Epoch[20] Time cost=22.802\n"
     ]
    },
    {
     "name": "stdout",
     "output_type": "stream",
     "text": [
      "Epoch[20] Validation-multi-accuracy_0=0.274439\n"
     ]
    },
    {
     "name": "stderr",
     "output_type": "stream",
     "text": [
      "INFO:root:Epoch[21] Batch [10]\tSpeed: 434.00 samples/sec\tTrain-multi-accuracy_0=0.269886\n",
      "INFO:root:Epoch[21] Batch [20]\tSpeed: 433.67 samples/sec\tTrain-multi-accuracy_0=0.252344\n",
      "INFO:root:Epoch[21] Batch [30]\tSpeed: 434.37 samples/sec\tTrain-multi-accuracy_0=0.258594\n",
      "INFO:root:Epoch[21] Batch [40]\tSpeed: 434.23 samples/sec\tTrain-multi-accuracy_0=0.246875\n",
      "INFO:root:Epoch[21] Batch [50]\tSpeed: 434.98 samples/sec\tTrain-multi-accuracy_0=0.244531\n",
      "INFO:root:Epoch[21] Batch [60]\tSpeed: 433.51 samples/sec\tTrain-multi-accuracy_0=0.265625\n",
      "INFO:root:Epoch[21] Batch [70]\tSpeed: 435.08 samples/sec\tTrain-multi-accuracy_0=0.260937\n",
      "INFO:root:Epoch[21] Train-multi-accuracy_0=0.247768\n",
      "INFO:root:Epoch[21] Time cost=22.806\n"
     ]
    },
    {
     "name": "stdout",
     "output_type": "stream",
     "text": [
      "Epoch[21] Validation-multi-accuracy_0=0.258213\n"
     ]
    },
    {
     "name": "stderr",
     "output_type": "stream",
     "text": [
      "INFO:root:Epoch[22] Batch [10]\tSpeed: 432.84 samples/sec\tTrain-multi-accuracy_0=0.251420\n",
      "INFO:root:Epoch[22] Batch [20]\tSpeed: 431.46 samples/sec\tTrain-multi-accuracy_0=0.267969\n",
      "INFO:root:Epoch[22] Batch [30]\tSpeed: 434.09 samples/sec\tTrain-multi-accuracy_0=0.288281\n",
      "INFO:root:Epoch[22] Batch [40]\tSpeed: 432.85 samples/sec\tTrain-multi-accuracy_0=0.260937\n",
      "INFO:root:Epoch[22] Batch [50]\tSpeed: 433.13 samples/sec\tTrain-multi-accuracy_0=0.293750\n",
      "INFO:root:Epoch[22] Batch [60]\tSpeed: 434.38 samples/sec\tTrain-multi-accuracy_0=0.282031\n",
      "INFO:root:Epoch[22] Batch [70]\tSpeed: 434.38 samples/sec\tTrain-multi-accuracy_0=0.272656\n",
      "INFO:root:Epoch[22] Train-multi-accuracy_0=0.250000\n",
      "INFO:root:Epoch[22] Time cost=22.853\n"
     ]
    },
    {
     "name": "stdout",
     "output_type": "stream",
     "text": [
      "Epoch[22] Validation-multi-accuracy_0=0.279447\n"
     ]
    },
    {
     "name": "stderr",
     "output_type": "stream",
     "text": [
      "INFO:root:Epoch[23] Batch [10]\tSpeed: 434.32 samples/sec\tTrain-multi-accuracy_0=0.273438\n",
      "INFO:root:Epoch[23] Batch [20]\tSpeed: 434.44 samples/sec\tTrain-multi-accuracy_0=0.267188\n",
      "INFO:root:Epoch[23] Batch [30]\tSpeed: 433.49 samples/sec\tTrain-multi-accuracy_0=0.255469\n",
      "INFO:root:Epoch[23] Batch [40]\tSpeed: 435.10 samples/sec\tTrain-multi-accuracy_0=0.254688\n",
      "INFO:root:Epoch[23] Batch [50]\tSpeed: 434.38 samples/sec\tTrain-multi-accuracy_0=0.256250\n",
      "INFO:root:Epoch[23] Batch [60]\tSpeed: 433.78 samples/sec\tTrain-multi-accuracy_0=0.271094\n",
      "INFO:root:Epoch[23] Batch [70]\tSpeed: 433.23 samples/sec\tTrain-multi-accuracy_0=0.300000\n",
      "INFO:root:Epoch[23] Train-multi-accuracy_0=0.281250\n",
      "INFO:root:Epoch[23] Time cost=22.814\n"
     ]
    },
    {
     "name": "stdout",
     "output_type": "stream",
     "text": [
      "Epoch[23] Validation-multi-accuracy_0=0.282652\n"
     ]
    },
    {
     "name": "stderr",
     "output_type": "stream",
     "text": [
      "INFO:root:Epoch[24] Batch [10]\tSpeed: 434.14 samples/sec\tTrain-multi-accuracy_0=0.282670\n",
      "INFO:root:Epoch[24] Batch [20]\tSpeed: 433.85 samples/sec\tTrain-multi-accuracy_0=0.281250\n",
      "INFO:root:Epoch[24] Batch [30]\tSpeed: 435.23 samples/sec\tTrain-multi-accuracy_0=0.270313\n",
      "INFO:root:Epoch[24] Batch [40]\tSpeed: 435.69 samples/sec\tTrain-multi-accuracy_0=0.282031\n",
      "INFO:root:Epoch[24] Batch [50]\tSpeed: 435.02 samples/sec\tTrain-multi-accuracy_0=0.297656\n",
      "INFO:root:Epoch[24] Batch [60]\tSpeed: 434.40 samples/sec\tTrain-multi-accuracy_0=0.281250\n",
      "INFO:root:Epoch[24] Batch [70]\tSpeed: 433.60 samples/sec\tTrain-multi-accuracy_0=0.300781\n",
      "INFO:root:Epoch[24] Train-multi-accuracy_0=0.280273\n",
      "INFO:root:Epoch[24] Time cost=23.178\n"
     ]
    },
    {
     "name": "stdout",
     "output_type": "stream",
     "text": [
      "Epoch[24] Validation-multi-accuracy_0=0.283426\n"
     ]
    },
    {
     "name": "stderr",
     "output_type": "stream",
     "text": [
      "INFO:root:Epoch[25] Batch [10]\tSpeed: 433.76 samples/sec\tTrain-multi-accuracy_0=0.270597\n",
      "INFO:root:Epoch[25] Batch [20]\tSpeed: 435.84 samples/sec\tTrain-multi-accuracy_0=0.300781\n",
      "INFO:root:Epoch[25] Batch [30]\tSpeed: 435.34 samples/sec\tTrain-multi-accuracy_0=0.294531\n",
      "INFO:root:Epoch[25] Batch [40]\tSpeed: 435.26 samples/sec\tTrain-multi-accuracy_0=0.309375\n",
      "INFO:root:Epoch[25] Batch [50]\tSpeed: 434.57 samples/sec\tTrain-multi-accuracy_0=0.284375\n",
      "INFO:root:Epoch[25] Batch [60]\tSpeed: 433.73 samples/sec\tTrain-multi-accuracy_0=0.309375\n",
      "INFO:root:Epoch[25] Batch [70]\tSpeed: 434.99 samples/sec\tTrain-multi-accuracy_0=0.320312\n",
      "INFO:root:Epoch[25] Train-multi-accuracy_0=0.294643\n",
      "INFO:root:Epoch[25] Time cost=22.784\n"
     ]
    },
    {
     "name": "stdout",
     "output_type": "stream",
     "text": [
      "Epoch[25] Validation-multi-accuracy_0=0.261218\n"
     ]
    },
    {
     "name": "stderr",
     "output_type": "stream",
     "text": [
      "INFO:root:Epoch[26] Batch [10]\tSpeed: 434.33 samples/sec\tTrain-multi-accuracy_0=0.310369\n",
      "INFO:root:Epoch[26] Batch [20]\tSpeed: 434.37 samples/sec\tTrain-multi-accuracy_0=0.280469\n",
      "INFO:root:Epoch[26] Batch [30]\tSpeed: 434.48 samples/sec\tTrain-multi-accuracy_0=0.296094\n",
      "INFO:root:Epoch[26] Batch [40]\tSpeed: 434.92 samples/sec\tTrain-multi-accuracy_0=0.317188\n",
      "INFO:root:Epoch[26] Batch [50]\tSpeed: 434.51 samples/sec\tTrain-multi-accuracy_0=0.308594\n",
      "INFO:root:Epoch[26] Batch [60]\tSpeed: 434.12 samples/sec\tTrain-multi-accuracy_0=0.330469\n",
      "INFO:root:Epoch[26] Batch [70]\tSpeed: 431.66 samples/sec\tTrain-multi-accuracy_0=0.310156\n",
      "INFO:root:Epoch[26] Train-multi-accuracy_0=0.282366\n",
      "INFO:root:Epoch[26] Time cost=22.827\n"
     ]
    },
    {
     "name": "stdout",
     "output_type": "stream",
     "text": [
      "Epoch[26] Validation-multi-accuracy_0=0.314002\n"
     ]
    },
    {
     "name": "stderr",
     "output_type": "stream",
     "text": [
      "INFO:root:Epoch[27] Batch [10]\tSpeed: 432.26 samples/sec\tTrain-multi-accuracy_0=0.324574\n",
      "INFO:root:Epoch[27] Batch [20]\tSpeed: 434.65 samples/sec\tTrain-multi-accuracy_0=0.312500\n",
      "INFO:root:Epoch[27] Batch [30]\tSpeed: 433.88 samples/sec\tTrain-multi-accuracy_0=0.270313\n",
      "INFO:root:Epoch[27] Batch [40]\tSpeed: 433.59 samples/sec\tTrain-multi-accuracy_0=0.321875\n",
      "INFO:root:Epoch[27] Batch [50]\tSpeed: 435.05 samples/sec\tTrain-multi-accuracy_0=0.322656\n",
      "INFO:root:Epoch[27] Batch [60]\tSpeed: 433.09 samples/sec\tTrain-multi-accuracy_0=0.297656\n",
      "INFO:root:Epoch[27] Batch [70]\tSpeed: 433.91 samples/sec\tTrain-multi-accuracy_0=0.310156\n",
      "INFO:root:Epoch[27] Train-multi-accuracy_0=0.323661\n",
      "INFO:root:Epoch[27] Time cost=22.834\n"
     ]
    },
    {
     "name": "stdout",
     "output_type": "stream",
     "text": [
      "Epoch[27] Validation-multi-accuracy_0=0.300481\n"
     ]
    },
    {
     "name": "stderr",
     "output_type": "stream",
     "text": [
      "INFO:root:Epoch[28] Batch [10]\tSpeed: 432.30 samples/sec\tTrain-multi-accuracy_0=0.310369\n",
      "INFO:root:Epoch[28] Batch [20]\tSpeed: 433.91 samples/sec\tTrain-multi-accuracy_0=0.332031\n",
      "INFO:root:Epoch[28] Batch [30]\tSpeed: 432.93 samples/sec\tTrain-multi-accuracy_0=0.303906\n",
      "INFO:root:Epoch[28] Batch [40]\tSpeed: 433.57 samples/sec\tTrain-multi-accuracy_0=0.336719\n",
      "INFO:root:Epoch[28] Batch [50]\tSpeed: 434.51 samples/sec\tTrain-multi-accuracy_0=0.332031\n",
      "INFO:root:Epoch[28] Batch [60]\tSpeed: 433.20 samples/sec\tTrain-multi-accuracy_0=0.325781\n",
      "INFO:root:Epoch[28] Batch [70]\tSpeed: 434.74 samples/sec\tTrain-multi-accuracy_0=0.332813\n",
      "INFO:root:Epoch[28] Train-multi-accuracy_0=0.342634\n",
      "INFO:root:Epoch[28] Time cost=22.847\n"
     ]
    },
    {
     "name": "stdout",
     "output_type": "stream",
     "text": [
      "Epoch[28] Validation-multi-accuracy_0=0.315104\n"
     ]
    },
    {
     "name": "stderr",
     "output_type": "stream",
     "text": [
      "INFO:root:Epoch[29] Batch [10]\tSpeed: 433.03 samples/sec\tTrain-multi-accuracy_0=0.333807\n",
      "INFO:root:Epoch[29] Batch [20]\tSpeed: 434.18 samples/sec\tTrain-multi-accuracy_0=0.319531\n",
      "INFO:root:Epoch[29] Batch [30]\tSpeed: 433.43 samples/sec\tTrain-multi-accuracy_0=0.310156\n",
      "INFO:root:Epoch[29] Batch [40]\tSpeed: 433.58 samples/sec\tTrain-multi-accuracy_0=0.335156\n",
      "INFO:root:Epoch[29] Batch [50]\tSpeed: 434.55 samples/sec\tTrain-multi-accuracy_0=0.345313\n",
      "INFO:root:Epoch[29] Batch [60]\tSpeed: 434.19 samples/sec\tTrain-multi-accuracy_0=0.324219\n",
      "INFO:root:Epoch[29] Batch [70]\tSpeed: 434.48 samples/sec\tTrain-multi-accuracy_0=0.329688\n",
      "INFO:root:Epoch[29] Train-multi-accuracy_0=0.321429\n",
      "INFO:root:Epoch[29] Time cost=22.836\n"
     ]
    },
    {
     "name": "stdout",
     "output_type": "stream",
     "text": [
      "Epoch[29] Validation-multi-accuracy_0=0.293470\n"
     ]
    },
    {
     "name": "stderr",
     "output_type": "stream",
     "text": [
      "INFO:root:Epoch[30] Batch [10]\tSpeed: 434.46 samples/sec\tTrain-multi-accuracy_0=0.330966\n",
      "INFO:root:Epoch[30] Batch [20]\tSpeed: 433.66 samples/sec\tTrain-multi-accuracy_0=0.338281\n",
      "INFO:root:Epoch[30] Batch [30]\tSpeed: 434.75 samples/sec\tTrain-multi-accuracy_0=0.362500\n",
      "INFO:root:Epoch[30] Batch [40]\tSpeed: 434.25 samples/sec\tTrain-multi-accuracy_0=0.308594\n",
      "INFO:root:Epoch[30] Batch [50]\tSpeed: 434.33 samples/sec\tTrain-multi-accuracy_0=0.336719\n",
      "INFO:root:Epoch[30] Batch [60]\tSpeed: 434.22 samples/sec\tTrain-multi-accuracy_0=0.340625\n",
      "INFO:root:Epoch[30] Batch [70]\tSpeed: 434.26 samples/sec\tTrain-multi-accuracy_0=0.332031\n",
      "INFO:root:Epoch[30] Train-multi-accuracy_0=0.343750\n",
      "INFO:root:Epoch[30] Time cost=22.812\n"
     ]
    },
    {
     "name": "stdout",
     "output_type": "stream",
     "text": [
      "Epoch[30] Validation-multi-accuracy_0=0.318710\n"
     ]
    },
    {
     "name": "stderr",
     "output_type": "stream",
     "text": [
      "INFO:root:Epoch[31] Batch [10]\tSpeed: 434.10 samples/sec\tTrain-multi-accuracy_0=0.340909\n",
      "INFO:root:Epoch[31] Batch [20]\tSpeed: 434.55 samples/sec\tTrain-multi-accuracy_0=0.358594\n",
      "INFO:root:Epoch[31] Batch [30]\tSpeed: 434.20 samples/sec\tTrain-multi-accuracy_0=0.341406\n",
      "INFO:root:Epoch[31] Batch [40]\tSpeed: 432.97 samples/sec\tTrain-multi-accuracy_0=0.372656\n",
      "INFO:root:Epoch[31] Batch [50]\tSpeed: 433.76 samples/sec\tTrain-multi-accuracy_0=0.371094\n",
      "INFO:root:Epoch[31] Batch [60]\tSpeed: 434.91 samples/sec\tTrain-multi-accuracy_0=0.350000\n",
      "INFO:root:Epoch[31] Batch [70]\tSpeed: 433.60 samples/sec\tTrain-multi-accuracy_0=0.357812\n",
      "INFO:root:Epoch[31] Train-multi-accuracy_0=0.343750\n",
      "INFO:root:Epoch[31] Time cost=22.816\n"
     ]
    },
    {
     "name": "stdout",
     "output_type": "stream",
     "text": [
      "Epoch[31] Validation-multi-accuracy_0=0.328826\n"
     ]
    },
    {
     "name": "stderr",
     "output_type": "stream",
     "text": [
      "INFO:root:Epoch[32] Batch [10]\tSpeed: 435.73 samples/sec\tTrain-multi-accuracy_0=0.348011\n",
      "INFO:root:Epoch[32] Batch [20]\tSpeed: 433.22 samples/sec\tTrain-multi-accuracy_0=0.354687\n",
      "INFO:root:Epoch[32] Batch [30]\tSpeed: 434.20 samples/sec\tTrain-multi-accuracy_0=0.348438\n",
      "INFO:root:Epoch[32] Batch [40]\tSpeed: 434.63 samples/sec\tTrain-multi-accuracy_0=0.324219\n",
      "INFO:root:Epoch[32] Batch [50]\tSpeed: 433.96 samples/sec\tTrain-multi-accuracy_0=0.352344\n",
      "INFO:root:Epoch[32] Batch [60]\tSpeed: 434.85 samples/sec\tTrain-multi-accuracy_0=0.358594\n",
      "INFO:root:Epoch[32] Batch [70]\tSpeed: 434.46 samples/sec\tTrain-multi-accuracy_0=0.346875\n",
      "INFO:root:Epoch[32] Train-multi-accuracy_0=0.362305\n",
      "INFO:root:Epoch[32] Time cost=23.224\n"
     ]
    },
    {
     "name": "stdout",
     "output_type": "stream",
     "text": [
      "Epoch[32] Validation-multi-accuracy_0=0.339597\n"
     ]
    },
    {
     "name": "stderr",
     "output_type": "stream",
     "text": [
      "INFO:root:Epoch[33] Batch [10]\tSpeed: 434.95 samples/sec\tTrain-multi-accuracy_0=0.345881\n",
      "INFO:root:Epoch[33] Batch [20]\tSpeed: 435.16 samples/sec\tTrain-multi-accuracy_0=0.375781\n",
      "INFO:root:Epoch[33] Batch [30]\tSpeed: 433.80 samples/sec\tTrain-multi-accuracy_0=0.357812\n",
      "INFO:root:Epoch[33] Batch [40]\tSpeed: 434.27 samples/sec\tTrain-multi-accuracy_0=0.359375\n",
      "INFO:root:Epoch[33] Batch [50]\tSpeed: 432.92 samples/sec\tTrain-multi-accuracy_0=0.357812\n",
      "INFO:root:Epoch[33] Batch [60]\tSpeed: 432.48 samples/sec\tTrain-multi-accuracy_0=0.354687\n",
      "INFO:root:Epoch[33] Batch [70]\tSpeed: 433.85 samples/sec\tTrain-multi-accuracy_0=0.350000\n",
      "INFO:root:Epoch[33] Train-multi-accuracy_0=0.371652\n",
      "INFO:root:Epoch[33] Time cost=22.818\n"
     ]
    },
    {
     "name": "stdout",
     "output_type": "stream",
     "text": [
      "Epoch[33] Validation-multi-accuracy_0=0.351262\n"
     ]
    },
    {
     "name": "stderr",
     "output_type": "stream",
     "text": [
      "INFO:root:Epoch[34] Batch [10]\tSpeed: 432.69 samples/sec\tTrain-multi-accuracy_0=0.384233\n",
      "INFO:root:Epoch[34] Batch [20]\tSpeed: 435.65 samples/sec\tTrain-multi-accuracy_0=0.372656\n",
      "INFO:root:Epoch[34] Batch [30]\tSpeed: 434.39 samples/sec\tTrain-multi-accuracy_0=0.376563\n",
      "INFO:root:Epoch[34] Batch [40]\tSpeed: 434.15 samples/sec\tTrain-multi-accuracy_0=0.394531\n",
      "INFO:root:Epoch[34] Batch [50]\tSpeed: 434.34 samples/sec\tTrain-multi-accuracy_0=0.386719\n",
      "INFO:root:Epoch[34] Batch [60]\tSpeed: 434.18 samples/sec\tTrain-multi-accuracy_0=0.371875\n",
      "INFO:root:Epoch[34] Batch [70]\tSpeed: 435.20 samples/sec\tTrain-multi-accuracy_0=0.355469\n",
      "INFO:root:Epoch[34] Train-multi-accuracy_0=0.366071\n",
      "INFO:root:Epoch[34] Time cost=22.799\n"
     ]
    },
    {
     "name": "stdout",
     "output_type": "stream",
     "text": [
      "Epoch[34] Validation-multi-accuracy_0=0.312500\n"
     ]
    },
    {
     "name": "stderr",
     "output_type": "stream",
     "text": [
      "INFO:root:Epoch[35] Batch [10]\tSpeed: 434.26 samples/sec\tTrain-multi-accuracy_0=0.380682\n",
      "INFO:root:Epoch[35] Batch [20]\tSpeed: 434.38 samples/sec\tTrain-multi-accuracy_0=0.367969\n",
      "INFO:root:Epoch[35] Batch [30]\tSpeed: 435.25 samples/sec\tTrain-multi-accuracy_0=0.367969\n",
      "INFO:root:Epoch[35] Batch [40]\tSpeed: 434.60 samples/sec\tTrain-multi-accuracy_0=0.390625\n",
      "INFO:root:Epoch[35] Batch [50]\tSpeed: 434.67 samples/sec\tTrain-multi-accuracy_0=0.390625\n",
      "INFO:root:Epoch[35] Batch [60]\tSpeed: 433.42 samples/sec\tTrain-multi-accuracy_0=0.390625\n",
      "INFO:root:Epoch[35] Batch [70]\tSpeed: 434.27 samples/sec\tTrain-multi-accuracy_0=0.379688\n",
      "INFO:root:Epoch[35] Train-multi-accuracy_0=0.382812\n",
      "INFO:root:Epoch[35] Time cost=22.798\n"
     ]
    },
    {
     "name": "stdout",
     "output_type": "stream",
     "text": [
      "Epoch[35] Validation-multi-accuracy_0=0.351262\n"
     ]
    },
    {
     "name": "stderr",
     "output_type": "stream",
     "text": [
      "INFO:root:Epoch[36] Batch [10]\tSpeed: 434.89 samples/sec\tTrain-multi-accuracy_0=0.375710\n",
      "INFO:root:Epoch[36] Batch [20]\tSpeed: 434.95 samples/sec\tTrain-multi-accuracy_0=0.405469\n",
      "INFO:root:Epoch[36] Batch [30]\tSpeed: 434.53 samples/sec\tTrain-multi-accuracy_0=0.372656\n",
      "INFO:root:Epoch[36] Batch [40]\tSpeed: 434.01 samples/sec\tTrain-multi-accuracy_0=0.378125\n",
      "INFO:root:Epoch[36] Batch [50]\tSpeed: 433.89 samples/sec\tTrain-multi-accuracy_0=0.378906\n",
      "INFO:root:Epoch[36] Batch [60]\tSpeed: 435.49 samples/sec\tTrain-multi-accuracy_0=0.392969\n",
      "INFO:root:Epoch[36] Batch [70]\tSpeed: 435.07 samples/sec\tTrain-multi-accuracy_0=0.385156\n",
      "INFO:root:Epoch[36] Train-multi-accuracy_0=0.398438\n",
      "INFO:root:Epoch[36] Time cost=22.783\n"
     ]
    },
    {
     "name": "stdout",
     "output_type": "stream",
     "text": [
      "Epoch[36] Validation-multi-accuracy_0=0.359075\n"
     ]
    },
    {
     "name": "stderr",
     "output_type": "stream",
     "text": [
      "INFO:root:Epoch[37] Batch [10]\tSpeed: 433.67 samples/sec\tTrain-multi-accuracy_0=0.396307\n",
      "INFO:root:Epoch[37] Batch [20]\tSpeed: 435.40 samples/sec\tTrain-multi-accuracy_0=0.404687\n",
      "INFO:root:Epoch[37] Batch [30]\tSpeed: 433.88 samples/sec\tTrain-multi-accuracy_0=0.401562\n",
      "INFO:root:Epoch[37] Batch [40]\tSpeed: 432.62 samples/sec\tTrain-multi-accuracy_0=0.375781\n",
      "INFO:root:Epoch[37] Batch [50]\tSpeed: 434.29 samples/sec\tTrain-multi-accuracy_0=0.397656\n",
      "INFO:root:Epoch[37] Batch [60]\tSpeed: 431.85 samples/sec\tTrain-multi-accuracy_0=0.407813\n",
      "INFO:root:Epoch[37] Batch [70]\tSpeed: 431.17 samples/sec\tTrain-multi-accuracy_0=0.400000\n",
      "INFO:root:Epoch[37] Train-multi-accuracy_0=0.407366\n",
      "INFO:root:Epoch[37] Time cost=22.861\n"
     ]
    },
    {
     "name": "stdout",
     "output_type": "stream",
     "text": [
      "Epoch[37] Validation-multi-accuracy_0=0.333033\n"
     ]
    },
    {
     "name": "stderr",
     "output_type": "stream",
     "text": [
      "INFO:root:Epoch[38] Batch [10]\tSpeed: 434.07 samples/sec\tTrain-multi-accuracy_0=0.406960\n",
      "INFO:root:Epoch[38] Batch [20]\tSpeed: 434.40 samples/sec\tTrain-multi-accuracy_0=0.414844\n",
      "INFO:root:Epoch[38] Batch [30]\tSpeed: 433.10 samples/sec\tTrain-multi-accuracy_0=0.410938\n",
      "INFO:root:Epoch[38] Batch [40]\tSpeed: 432.64 samples/sec\tTrain-multi-accuracy_0=0.400000\n",
      "INFO:root:Epoch[38] Batch [50]\tSpeed: 433.14 samples/sec\tTrain-multi-accuracy_0=0.400000\n",
      "INFO:root:Epoch[38] Batch [60]\tSpeed: 434.25 samples/sec\tTrain-multi-accuracy_0=0.410156\n",
      "INFO:root:Epoch[38] Batch [70]\tSpeed: 433.67 samples/sec\tTrain-multi-accuracy_0=0.410156\n",
      "INFO:root:Epoch[38] Train-multi-accuracy_0=0.395089\n",
      "INFO:root:Epoch[38] Time cost=22.842\n"
     ]
    },
    {
     "name": "stdout",
     "output_type": "stream",
     "text": [
      "Epoch[38] Validation-multi-accuracy_0=0.334435\n"
     ]
    },
    {
     "name": "stderr",
     "output_type": "stream",
     "text": [
      "INFO:root:Epoch[39] Batch [10]\tSpeed: 433.90 samples/sec\tTrain-multi-accuracy_0=0.425426\n",
      "INFO:root:Epoch[39] Batch [20]\tSpeed: 432.89 samples/sec\tTrain-multi-accuracy_0=0.403906\n",
      "INFO:root:Epoch[39] Batch [30]\tSpeed: 434.38 samples/sec\tTrain-multi-accuracy_0=0.414062\n",
      "INFO:root:Epoch[39] Batch [40]\tSpeed: 434.12 samples/sec\tTrain-multi-accuracy_0=0.428125\n",
      "INFO:root:Epoch[39] Batch [50]\tSpeed: 432.97 samples/sec\tTrain-multi-accuracy_0=0.397656\n",
      "INFO:root:Epoch[39] Batch [60]\tSpeed: 432.88 samples/sec\tTrain-multi-accuracy_0=0.424219\n",
      "INFO:root:Epoch[39] Batch [70]\tSpeed: 432.83 samples/sec\tTrain-multi-accuracy_0=0.414844\n",
      "INFO:root:Epoch[39] Train-multi-accuracy_0=0.410714\n",
      "INFO:root:Epoch[39] Time cost=22.850\n"
     ]
    },
    {
     "name": "stdout",
     "output_type": "stream",
     "text": [
      "Epoch[39] Validation-multi-accuracy_0=0.335737\n"
     ]
    },
    {
     "name": "stderr",
     "output_type": "stream",
     "text": [
      "INFO:root:Epoch[40] Batch [10]\tSpeed: 435.08 samples/sec\tTrain-multi-accuracy_0=0.420455\n",
      "INFO:root:Epoch[40] Batch [20]\tSpeed: 433.65 samples/sec\tTrain-multi-accuracy_0=0.422656\n",
      "INFO:root:Epoch[40] Batch [30]\tSpeed: 432.77 samples/sec\tTrain-multi-accuracy_0=0.399219\n",
      "INFO:root:Epoch[40] Batch [40]\tSpeed: 434.78 samples/sec\tTrain-multi-accuracy_0=0.413281\n",
      "INFO:root:Epoch[40] Batch [50]\tSpeed: 433.95 samples/sec\tTrain-multi-accuracy_0=0.394531\n",
      "INFO:root:Epoch[40] Batch [60]\tSpeed: 435.41 samples/sec\tTrain-multi-accuracy_0=0.417187\n",
      "INFO:root:Epoch[40] Batch [70]\tSpeed: 433.73 samples/sec\tTrain-multi-accuracy_0=0.421094\n",
      "INFO:root:Epoch[40] Train-multi-accuracy_0=0.432617\n",
      "INFO:root:Epoch[40] Time cost=23.241\n"
     ]
    },
    {
     "name": "stdout",
     "output_type": "stream",
     "text": [
      "Epoch[40] Validation-multi-accuracy_0=0.381329\n"
     ]
    },
    {
     "name": "stderr",
     "output_type": "stream",
     "text": [
      "INFO:root:Epoch[41] Batch [10]\tSpeed: 434.07 samples/sec\tTrain-multi-accuracy_0=0.431818\n",
      "INFO:root:Epoch[41] Batch [20]\tSpeed: 434.19 samples/sec\tTrain-multi-accuracy_0=0.420312\n",
      "INFO:root:Epoch[41] Batch [30]\tSpeed: 434.47 samples/sec\tTrain-multi-accuracy_0=0.437500\n",
      "INFO:root:Epoch[41] Batch [40]\tSpeed: 435.43 samples/sec\tTrain-multi-accuracy_0=0.420312\n",
      "INFO:root:Epoch[41] Batch [50]\tSpeed: 434.38 samples/sec\tTrain-multi-accuracy_0=0.435156\n",
      "INFO:root:Epoch[41] Batch [60]\tSpeed: 434.21 samples/sec\tTrain-multi-accuracy_0=0.423438\n",
      "INFO:root:Epoch[41] Batch [70]\tSpeed: 434.89 samples/sec\tTrain-multi-accuracy_0=0.421094\n",
      "INFO:root:Epoch[41] Train-multi-accuracy_0=0.422991\n",
      "INFO:root:Epoch[41] Time cost=22.796\n"
     ]
    },
    {
     "name": "stdout",
     "output_type": "stream",
     "text": [
      "Epoch[41] Validation-multi-accuracy_0=0.378005\n"
     ]
    },
    {
     "name": "stderr",
     "output_type": "stream",
     "text": [
      "INFO:root:Epoch[42] Batch [10]\tSpeed: 435.56 samples/sec\tTrain-multi-accuracy_0=0.421875\n",
      "INFO:root:Epoch[42] Batch [20]\tSpeed: 435.01 samples/sec\tTrain-multi-accuracy_0=0.440625\n",
      "INFO:root:Epoch[42] Batch [30]\tSpeed: 433.36 samples/sec\tTrain-multi-accuracy_0=0.425781\n",
      "INFO:root:Epoch[42] Batch [40]\tSpeed: 434.02 samples/sec\tTrain-multi-accuracy_0=0.420312\n",
      "INFO:root:Epoch[42] Batch [50]\tSpeed: 434.23 samples/sec\tTrain-multi-accuracy_0=0.453906\n",
      "INFO:root:Epoch[42] Batch [60]\tSpeed: 434.95 samples/sec\tTrain-multi-accuracy_0=0.429688\n",
      "INFO:root:Epoch[42] Batch [70]\tSpeed: 434.28 samples/sec\tTrain-multi-accuracy_0=0.442188\n",
      "INFO:root:Epoch[42] Train-multi-accuracy_0=0.425223\n",
      "INFO:root:Epoch[42] Time cost=22.794\n"
     ]
    },
    {
     "name": "stdout",
     "output_type": "stream",
     "text": [
      "Epoch[42] Validation-multi-accuracy_0=0.379207\n"
     ]
    },
    {
     "name": "stderr",
     "output_type": "stream",
     "text": [
      "INFO:root:Epoch[43] Batch [10]\tSpeed: 434.01 samples/sec\tTrain-multi-accuracy_0=0.433239\n",
      "INFO:root:Epoch[43] Batch [20]\tSpeed: 434.13 samples/sec\tTrain-multi-accuracy_0=0.444531\n",
      "INFO:root:Epoch[43] Batch [30]\tSpeed: 433.71 samples/sec\tTrain-multi-accuracy_0=0.440625\n",
      "INFO:root:Epoch[43] Batch [40]\tSpeed: 433.11 samples/sec\tTrain-multi-accuracy_0=0.461719\n",
      "INFO:root:Epoch[43] Batch [50]\tSpeed: 434.68 samples/sec\tTrain-multi-accuracy_0=0.437500\n",
      "INFO:root:Epoch[43] Batch [60]\tSpeed: 432.93 samples/sec\tTrain-multi-accuracy_0=0.450781\n",
      "INFO:root:Epoch[43] Batch [70]\tSpeed: 433.18 samples/sec\tTrain-multi-accuracy_0=0.431250\n",
      "INFO:root:Epoch[43] Train-multi-accuracy_0=0.424107\n",
      "INFO:root:Epoch[43] Time cost=22.838\n"
     ]
    },
    {
     "name": "stdout",
     "output_type": "stream",
     "text": [
      "Epoch[43] Validation-multi-accuracy_0=0.386418\n"
     ]
    },
    {
     "name": "stderr",
     "output_type": "stream",
     "text": [
      "INFO:root:Epoch[44] Batch [10]\tSpeed: 434.08 samples/sec\tTrain-multi-accuracy_0=0.462358\n",
      "INFO:root:Epoch[44] Batch [20]\tSpeed: 433.82 samples/sec\tTrain-multi-accuracy_0=0.439063\n",
      "INFO:root:Epoch[44] Batch [30]\tSpeed: 433.75 samples/sec\tTrain-multi-accuracy_0=0.454688\n",
      "INFO:root:Epoch[44] Batch [40]\tSpeed: 432.72 samples/sec\tTrain-multi-accuracy_0=0.451562\n",
      "INFO:root:Epoch[44] Batch [50]\tSpeed: 433.12 samples/sec\tTrain-multi-accuracy_0=0.464062\n",
      "INFO:root:Epoch[44] Batch [60]\tSpeed: 434.07 samples/sec\tTrain-multi-accuracy_0=0.435937\n",
      "INFO:root:Epoch[44] Batch [70]\tSpeed: 434.49 samples/sec\tTrain-multi-accuracy_0=0.443750\n",
      "INFO:root:Epoch[44] Train-multi-accuracy_0=0.410714\n",
      "INFO:root:Epoch[44] Time cost=22.833\n"
     ]
    },
    {
     "name": "stdout",
     "output_type": "stream",
     "text": [
      "Epoch[44] Validation-multi-accuracy_0=0.405549\n"
     ]
    },
    {
     "name": "stderr",
     "output_type": "stream",
     "text": [
      "INFO:root:Epoch[45] Batch [10]\tSpeed: 434.22 samples/sec\tTrain-multi-accuracy_0=0.446023\n",
      "INFO:root:Epoch[45] Batch [20]\tSpeed: 433.85 samples/sec\tTrain-multi-accuracy_0=0.442188\n",
      "INFO:root:Epoch[45] Batch [30]\tSpeed: 433.95 samples/sec\tTrain-multi-accuracy_0=0.460938\n",
      "INFO:root:Epoch[45] Batch [40]\tSpeed: 433.15 samples/sec\tTrain-multi-accuracy_0=0.458594\n",
      "INFO:root:Epoch[45] Batch [50]\tSpeed: 433.74 samples/sec\tTrain-multi-accuracy_0=0.445312\n",
      "INFO:root:Epoch[45] Batch [60]\tSpeed: 434.33 samples/sec\tTrain-multi-accuracy_0=0.451562\n",
      "INFO:root:Epoch[45] Batch [70]\tSpeed: 433.50 samples/sec\tTrain-multi-accuracy_0=0.453125\n",
      "INFO:root:Epoch[45] Train-multi-accuracy_0=0.440848\n",
      "INFO:root:Epoch[45] Time cost=22.835\n"
     ]
    },
    {
     "name": "stdout",
     "output_type": "stream",
     "text": [
      "Epoch[45] Validation-multi-accuracy_0=0.415365\n"
     ]
    },
    {
     "name": "stderr",
     "output_type": "stream",
     "text": [
      "INFO:root:Epoch[46] Batch [10]\tSpeed: 433.35 samples/sec\tTrain-multi-accuracy_0=0.460227\n",
      "INFO:root:Epoch[46] Batch [20]\tSpeed: 433.46 samples/sec\tTrain-multi-accuracy_0=0.475781\n",
      "INFO:root:Epoch[46] Batch [30]\tSpeed: 433.68 samples/sec\tTrain-multi-accuracy_0=0.467969\n",
      "INFO:root:Epoch[46] Batch [40]\tSpeed: 434.36 samples/sec\tTrain-multi-accuracy_0=0.478906\n",
      "INFO:root:Epoch[46] Batch [50]\tSpeed: 433.96 samples/sec\tTrain-multi-accuracy_0=0.450781\n",
      "INFO:root:Epoch[46] Batch [60]\tSpeed: 433.85 samples/sec\tTrain-multi-accuracy_0=0.472656\n",
      "INFO:root:Epoch[46] Batch [70]\tSpeed: 432.74 samples/sec\tTrain-multi-accuracy_0=0.475781\n",
      "INFO:root:Epoch[46] Train-multi-accuracy_0=0.483259\n",
      "INFO:root:Epoch[46] Time cost=22.839\n"
     ]
    },
    {
     "name": "stdout",
     "output_type": "stream",
     "text": [
      "Epoch[46] Validation-multi-accuracy_0=0.363381\n"
     ]
    },
    {
     "name": "stderr",
     "output_type": "stream",
     "text": [
      "INFO:root:Epoch[47] Batch [10]\tSpeed: 432.90 samples/sec\tTrain-multi-accuracy_0=0.455256\n",
      "INFO:root:Epoch[47] Batch [20]\tSpeed: 433.45 samples/sec\tTrain-multi-accuracy_0=0.454688\n",
      "INFO:root:Epoch[47] Batch [30]\tSpeed: 433.28 samples/sec\tTrain-multi-accuracy_0=0.475000\n",
      "INFO:root:Epoch[47] Batch [40]\tSpeed: 434.09 samples/sec\tTrain-multi-accuracy_0=0.447656\n",
      "INFO:root:Epoch[47] Batch [50]\tSpeed: 433.19 samples/sec\tTrain-multi-accuracy_0=0.488281\n",
      "INFO:root:Epoch[47] Batch [60]\tSpeed: 432.89 samples/sec\tTrain-multi-accuracy_0=0.498437\n",
      "INFO:root:Epoch[47] Batch [70]\tSpeed: 433.13 samples/sec\tTrain-multi-accuracy_0=0.453125\n",
      "INFO:root:Epoch[47] Train-multi-accuracy_0=0.468750\n",
      "INFO:root:Epoch[47] Time cost=22.858\n"
     ]
    },
    {
     "name": "stdout",
     "output_type": "stream",
     "text": [
      "Epoch[47] Validation-multi-accuracy_0=0.376903\n"
     ]
    },
    {
     "name": "stderr",
     "output_type": "stream",
     "text": [
      "INFO:root:Epoch[48] Batch [10]\tSpeed: 433.87 samples/sec\tTrain-multi-accuracy_0=0.496449\n",
      "INFO:root:Epoch[48] Batch [20]\tSpeed: 434.71 samples/sec\tTrain-multi-accuracy_0=0.492188\n",
      "INFO:root:Epoch[48] Batch [30]\tSpeed: 432.53 samples/sec\tTrain-multi-accuracy_0=0.478906\n",
      "INFO:root:Epoch[48] Batch [40]\tSpeed: 432.13 samples/sec\tTrain-multi-accuracy_0=0.482812\n",
      "INFO:root:Epoch[48] Batch [50]\tSpeed: 432.19 samples/sec\tTrain-multi-accuracy_0=0.491406\n",
      "INFO:root:Epoch[48] Batch [60]\tSpeed: 434.35 samples/sec\tTrain-multi-accuracy_0=0.494531\n",
      "INFO:root:Epoch[48] Batch [70]\tSpeed: 434.09 samples/sec\tTrain-multi-accuracy_0=0.489063\n",
      "INFO:root:Epoch[48] Train-multi-accuracy_0=0.484375\n",
      "INFO:root:Epoch[48] Time cost=23.235\n"
     ]
    },
    {
     "name": "stdout",
     "output_type": "stream",
     "text": [
      "Epoch[48] Validation-multi-accuracy_0=0.403184\n"
     ]
    },
    {
     "name": "stderr",
     "output_type": "stream",
     "text": [
      "INFO:root:Epoch[49] Batch [10]\tSpeed: 434.12 samples/sec\tTrain-multi-accuracy_0=0.489347\n",
      "INFO:root:Epoch[49] Batch [20]\tSpeed: 434.00 samples/sec\tTrain-multi-accuracy_0=0.478906\n",
      "INFO:root:Epoch[49] Batch [30]\tSpeed: 435.21 samples/sec\tTrain-multi-accuracy_0=0.493750\n",
      "INFO:root:Epoch[49] Batch [40]\tSpeed: 433.61 samples/sec\tTrain-multi-accuracy_0=0.477344\n",
      "INFO:root:Epoch[49] Batch [50]\tSpeed: 432.43 samples/sec\tTrain-multi-accuracy_0=0.481250\n",
      "INFO:root:Epoch[49] Batch [60]\tSpeed: 433.24 samples/sec\tTrain-multi-accuracy_0=0.497656\n",
      "INFO:root:Epoch[49] Batch [70]\tSpeed: 432.66 samples/sec\tTrain-multi-accuracy_0=0.470313\n",
      "INFO:root:Epoch[49] Train-multi-accuracy_0=0.460938\n",
      "INFO:root:Epoch[49] Time cost=22.829\n"
     ]
    },
    {
     "name": "stdout",
     "output_type": "stream",
     "text": [
      "Epoch[49] Validation-multi-accuracy_0=0.392829\n"
     ]
    },
    {
     "name": "stderr",
     "output_type": "stream",
     "text": [
      "INFO:root:Epoch[50] Batch [10]\tSpeed: 433.49 samples/sec\tTrain-multi-accuracy_0=0.496449\n",
      "INFO:root:Epoch[50] Batch [20]\tSpeed: 434.57 samples/sec\tTrain-multi-accuracy_0=0.480469\n",
      "INFO:root:Epoch[50] Batch [30]\tSpeed: 433.54 samples/sec\tTrain-multi-accuracy_0=0.500000\n",
      "INFO:root:Epoch[50] Batch [40]\tSpeed: 434.01 samples/sec\tTrain-multi-accuracy_0=0.505469\n",
      "INFO:root:Epoch[50] Batch [50]\tSpeed: 433.18 samples/sec\tTrain-multi-accuracy_0=0.496875\n",
      "INFO:root:Epoch[50] Batch [60]\tSpeed: 433.28 samples/sec\tTrain-multi-accuracy_0=0.526563\n",
      "INFO:root:Epoch[50] Batch [70]\tSpeed: 432.69 samples/sec\tTrain-multi-accuracy_0=0.507031\n",
      "INFO:root:Epoch[50] Train-multi-accuracy_0=0.479911\n",
      "INFO:root:Epoch[50] Time cost=22.846\n"
     ]
    },
    {
     "name": "stdout",
     "output_type": "stream",
     "text": [
      "Epoch[50] Validation-multi-accuracy_0=0.383313\n"
     ]
    },
    {
     "name": "stderr",
     "output_type": "stream",
     "text": [
      "INFO:root:Epoch[51] Batch [10]\tSpeed: 433.33 samples/sec\tTrain-multi-accuracy_0=0.522017\n",
      "INFO:root:Epoch[51] Batch [20]\tSpeed: 434.12 samples/sec\tTrain-multi-accuracy_0=0.486719\n",
      "INFO:root:Epoch[51] Batch [30]\tSpeed: 433.82 samples/sec\tTrain-multi-accuracy_0=0.513281\n",
      "INFO:root:Epoch[51] Batch [40]\tSpeed: 432.69 samples/sec\tTrain-multi-accuracy_0=0.491406\n",
      "INFO:root:Epoch[51] Batch [50]\tSpeed: 433.50 samples/sec\tTrain-multi-accuracy_0=0.512500\n",
      "INFO:root:Epoch[51] Batch [60]\tSpeed: 434.53 samples/sec\tTrain-multi-accuracy_0=0.504687\n",
      "INFO:root:Epoch[51] Batch [70]\tSpeed: 432.32 samples/sec\tTrain-multi-accuracy_0=0.507812\n",
      "INFO:root:Epoch[51] Train-multi-accuracy_0=0.503348\n",
      "INFO:root:Epoch[51] Time cost=22.844\n"
     ]
    },
    {
     "name": "stdout",
     "output_type": "stream",
     "text": [
      "Epoch[51] Validation-multi-accuracy_0=0.407452\n"
     ]
    },
    {
     "name": "stderr",
     "output_type": "stream",
     "text": [
      "INFO:root:Epoch[52] Batch [10]\tSpeed: 433.32 samples/sec\tTrain-multi-accuracy_0=0.533381\n",
      "INFO:root:Epoch[52] Batch [20]\tSpeed: 433.79 samples/sec\tTrain-multi-accuracy_0=0.521094\n",
      "INFO:root:Epoch[52] Batch [30]\tSpeed: 434.64 samples/sec\tTrain-multi-accuracy_0=0.499219\n",
      "INFO:root:Epoch[52] Batch [40]\tSpeed: 432.83 samples/sec\tTrain-multi-accuracy_0=0.504687\n",
      "INFO:root:Epoch[52] Batch [50]\tSpeed: 434.54 samples/sec\tTrain-multi-accuracy_0=0.540625\n",
      "INFO:root:Epoch[52] Batch [60]\tSpeed: 435.53 samples/sec\tTrain-multi-accuracy_0=0.505469\n",
      "INFO:root:Epoch[52] Batch [70]\tSpeed: 434.79 samples/sec\tTrain-multi-accuracy_0=0.507812\n",
      "INFO:root:Epoch[52] Train-multi-accuracy_0=0.506696\n",
      "INFO:root:Epoch[52] Time cost=22.805\n"
     ]
    },
    {
     "name": "stdout",
     "output_type": "stream",
     "text": [
      "Epoch[52] Validation-multi-accuracy_0=0.387220\n"
     ]
    },
    {
     "name": "stderr",
     "output_type": "stream",
     "text": [
      "INFO:root:Epoch[53] Batch [10]\tSpeed: 433.87 samples/sec\tTrain-multi-accuracy_0=0.506392\n",
      "INFO:root:Epoch[53] Batch [20]\tSpeed: 433.37 samples/sec\tTrain-multi-accuracy_0=0.517188\n",
      "INFO:root:Epoch[53] Batch [30]\tSpeed: 433.57 samples/sec\tTrain-multi-accuracy_0=0.515625\n",
      "INFO:root:Epoch[53] Batch [40]\tSpeed: 433.75 samples/sec\tTrain-multi-accuracy_0=0.498437\n",
      "INFO:root:Epoch[53] Batch [50]\tSpeed: 433.11 samples/sec\tTrain-multi-accuracy_0=0.495312\n",
      "INFO:root:Epoch[53] Batch [60]\tSpeed: 433.13 samples/sec\tTrain-multi-accuracy_0=0.517969\n",
      "INFO:root:Epoch[53] Batch [70]\tSpeed: 434.52 samples/sec\tTrain-multi-accuracy_0=0.500000\n",
      "INFO:root:Epoch[53] Train-multi-accuracy_0=0.529018\n",
      "INFO:root:Epoch[53] Time cost=22.835\n"
     ]
    },
    {
     "name": "stdout",
     "output_type": "stream",
     "text": [
      "Epoch[53] Validation-multi-accuracy_0=0.369291\n"
     ]
    },
    {
     "name": "stderr",
     "output_type": "stream",
     "text": [
      "INFO:root:Epoch[54] Batch [10]\tSpeed: 432.63 samples/sec\tTrain-multi-accuracy_0=0.514205\n",
      "INFO:root:Epoch[54] Batch [20]\tSpeed: 433.43 samples/sec\tTrain-multi-accuracy_0=0.507031\n",
      "INFO:root:Epoch[54] Batch [30]\tSpeed: 432.53 samples/sec\tTrain-multi-accuracy_0=0.489844\n",
      "INFO:root:Epoch[54] Batch [40]\tSpeed: 432.89 samples/sec\tTrain-multi-accuracy_0=0.533594\n",
      "INFO:root:Epoch[54] Batch [50]\tSpeed: 432.49 samples/sec\tTrain-multi-accuracy_0=0.545312\n",
      "INFO:root:Epoch[54] Batch [60]\tSpeed: 432.25 samples/sec\tTrain-multi-accuracy_0=0.522656\n",
      "INFO:root:Epoch[54] Batch [70]\tSpeed: 432.50 samples/sec\tTrain-multi-accuracy_0=0.544531\n",
      "INFO:root:Epoch[54] Train-multi-accuracy_0=0.503348\n",
      "INFO:root:Epoch[54] Time cost=22.901\n"
     ]
    },
    {
     "name": "stdout",
     "output_type": "stream",
     "text": [
      "Epoch[54] Validation-multi-accuracy_0=0.402744\n"
     ]
    },
    {
     "name": "stderr",
     "output_type": "stream",
     "text": [
      "INFO:root:Epoch[55] Batch [10]\tSpeed: 433.41 samples/sec\tTrain-multi-accuracy_0=0.512074\n",
      "INFO:root:Epoch[55] Batch [20]\tSpeed: 434.31 samples/sec\tTrain-multi-accuracy_0=0.532031\n",
      "INFO:root:Epoch[55] Batch [30]\tSpeed: 433.17 samples/sec\tTrain-multi-accuracy_0=0.525000\n",
      "INFO:root:Epoch[55] Batch [40]\tSpeed: 434.42 samples/sec\tTrain-multi-accuracy_0=0.500781\n",
      "INFO:root:Epoch[55] Batch [50]\tSpeed: 434.56 samples/sec\tTrain-multi-accuracy_0=0.530469\n",
      "INFO:root:Epoch[55] Batch [60]\tSpeed: 434.69 samples/sec\tTrain-multi-accuracy_0=0.525781\n",
      "INFO:root:Epoch[55] Batch [70]\tSpeed: 433.27 samples/sec\tTrain-multi-accuracy_0=0.529687\n",
      "INFO:root:Epoch[55] Train-multi-accuracy_0=0.552455\n",
      "INFO:root:Epoch[55] Time cost=22.825\n"
     ]
    },
    {
     "name": "stdout",
     "output_type": "stream",
     "text": [
      "Epoch[55] Validation-multi-accuracy_0=0.414463\n"
     ]
    },
    {
     "name": "stderr",
     "output_type": "stream",
     "text": [
      "INFO:root:Epoch[56] Batch [10]\tSpeed: 434.28 samples/sec\tTrain-multi-accuracy_0=0.555398\n",
      "INFO:root:Epoch[56] Batch [20]\tSpeed: 433.20 samples/sec\tTrain-multi-accuracy_0=0.556250\n",
      "INFO:root:Epoch[56] Batch [30]\tSpeed: 434.24 samples/sec\tTrain-multi-accuracy_0=0.526563\n",
      "INFO:root:Epoch[56] Batch [40]\tSpeed: 433.30 samples/sec\tTrain-multi-accuracy_0=0.505469\n",
      "INFO:root:Epoch[56] Batch [50]\tSpeed: 436.35 samples/sec\tTrain-multi-accuracy_0=0.550000\n",
      "INFO:root:Epoch[56] Batch [60]\tSpeed: 433.49 samples/sec\tTrain-multi-accuracy_0=0.543750\n",
      "INFO:root:Epoch[56] Batch [70]\tSpeed: 432.66 samples/sec\tTrain-multi-accuracy_0=0.544531\n",
      "INFO:root:Epoch[56] Train-multi-accuracy_0=0.540039\n",
      "INFO:root:Epoch[56] Time cost=23.255\n"
     ]
    },
    {
     "name": "stdout",
     "output_type": "stream",
     "text": [
      "Epoch[56] Validation-multi-accuracy_0=0.371143\n"
     ]
    },
    {
     "name": "stderr",
     "output_type": "stream",
     "text": [
      "INFO:root:Epoch[57] Batch [10]\tSpeed: 434.87 samples/sec\tTrain-multi-accuracy_0=0.559659\n",
      "INFO:root:Epoch[57] Batch [20]\tSpeed: 435.20 samples/sec\tTrain-multi-accuracy_0=0.557813\n",
      "INFO:root:Epoch[57] Batch [30]\tSpeed: 432.87 samples/sec\tTrain-multi-accuracy_0=0.536719\n",
      "INFO:root:Epoch[57] Batch [40]\tSpeed: 433.74 samples/sec\tTrain-multi-accuracy_0=0.516406\n",
      "INFO:root:Epoch[57] Batch [50]\tSpeed: 433.39 samples/sec\tTrain-multi-accuracy_0=0.534375\n",
      "INFO:root:Epoch[57] Batch [60]\tSpeed: 434.11 samples/sec\tTrain-multi-accuracy_0=0.537500\n",
      "INFO:root:Epoch[57] Batch [70]\tSpeed: 433.55 samples/sec\tTrain-multi-accuracy_0=0.553125\n",
      "INFO:root:Epoch[57] Train-multi-accuracy_0=0.572545\n",
      "INFO:root:Epoch[57] Time cost=22.822\n"
     ]
    },
    {
     "name": "stdout",
     "output_type": "stream",
     "text": [
      "Epoch[57] Validation-multi-accuracy_0=0.388822\n"
     ]
    },
    {
     "name": "stderr",
     "output_type": "stream",
     "text": [
      "INFO:root:Epoch[58] Batch [10]\tSpeed: 432.82 samples/sec\tTrain-multi-accuracy_0=0.560369\n",
      "INFO:root:Epoch[58] Batch [20]\tSpeed: 434.76 samples/sec\tTrain-multi-accuracy_0=0.559375\n",
      "INFO:root:Epoch[58] Batch [30]\tSpeed: 434.00 samples/sec\tTrain-multi-accuracy_0=0.532813\n",
      "INFO:root:Epoch[58] Batch [40]\tSpeed: 434.43 samples/sec\tTrain-multi-accuracy_0=0.558594\n",
      "INFO:root:Epoch[58] Batch [50]\tSpeed: 435.63 samples/sec\tTrain-multi-accuracy_0=0.542188\n",
      "INFO:root:Epoch[58] Batch [60]\tSpeed: 432.45 samples/sec\tTrain-multi-accuracy_0=0.563281\n",
      "INFO:root:Epoch[58] Batch [70]\tSpeed: 433.07 samples/sec\tTrain-multi-accuracy_0=0.550000\n",
      "INFO:root:Epoch[58] Train-multi-accuracy_0=0.523438\n",
      "INFO:root:Epoch[58] Time cost=22.832\n"
     ]
    },
    {
     "name": "stdout",
     "output_type": "stream",
     "text": [
      "Epoch[58] Validation-multi-accuracy_0=0.404347\n"
     ]
    },
    {
     "name": "stderr",
     "output_type": "stream",
     "text": [
      "INFO:root:Epoch[59] Batch [10]\tSpeed: 433.19 samples/sec\tTrain-multi-accuracy_0=0.551847\n",
      "INFO:root:Epoch[59] Batch [20]\tSpeed: 433.31 samples/sec\tTrain-multi-accuracy_0=0.580469\n",
      "INFO:root:Epoch[59] Batch [30]\tSpeed: 434.79 samples/sec\tTrain-multi-accuracy_0=0.551562\n",
      "INFO:root:Epoch[59] Batch [40]\tSpeed: 434.83 samples/sec\tTrain-multi-accuracy_0=0.560156\n",
      "INFO:root:Epoch[59] Batch [50]\tSpeed: 433.90 samples/sec\tTrain-multi-accuracy_0=0.539062\n",
      "INFO:root:Epoch[59] Batch [60]\tSpeed: 434.45 samples/sec\tTrain-multi-accuracy_0=0.560156\n",
      "INFO:root:Epoch[59] Batch [70]\tSpeed: 434.21 samples/sec\tTrain-multi-accuracy_0=0.571094\n",
      "INFO:root:Epoch[59] Train-multi-accuracy_0=0.571429\n",
      "INFO:root:Epoch[59] Time cost=22.815\n"
     ]
    },
    {
     "name": "stdout",
     "output_type": "stream",
     "text": [
      "Epoch[59] Validation-multi-accuracy_0=0.398738\n"
     ]
    },
    {
     "name": "stderr",
     "output_type": "stream",
     "text": [
      "INFO:root:Epoch[60] Batch [10]\tSpeed: 434.20 samples/sec\tTrain-multi-accuracy_0=0.559659\n",
      "INFO:root:Epoch[60] Batch [20]\tSpeed: 433.20 samples/sec\tTrain-multi-accuracy_0=0.573438\n",
      "INFO:root:Epoch[60] Batch [30]\tSpeed: 431.81 samples/sec\tTrain-multi-accuracy_0=0.566406\n",
      "INFO:root:Epoch[60] Batch [40]\tSpeed: 432.37 samples/sec\tTrain-multi-accuracy_0=0.514062\n",
      "INFO:root:Epoch[60] Batch [50]\tSpeed: 433.48 samples/sec\tTrain-multi-accuracy_0=0.575781\n",
      "INFO:root:Epoch[60] Batch [60]\tSpeed: 432.84 samples/sec\tTrain-multi-accuracy_0=0.561719\n",
      "INFO:root:Epoch[60] Batch [70]\tSpeed: 433.15 samples/sec\tTrain-multi-accuracy_0=0.564844\n",
      "INFO:root:Epoch[60] Train-multi-accuracy_0=0.569196\n",
      "INFO:root:Epoch[60] Time cost=22.880\n"
     ]
    },
    {
     "name": "stdout",
     "output_type": "stream",
     "text": [
      "Epoch[60] Validation-multi-accuracy_0=0.421675\n"
     ]
    },
    {
     "name": "stderr",
     "output_type": "stream",
     "text": [
      "INFO:root:Epoch[61] Batch [10]\tSpeed: 431.09 samples/sec\tTrain-multi-accuracy_0=0.583807\n",
      "INFO:root:Epoch[61] Batch [20]\tSpeed: 434.92 samples/sec\tTrain-multi-accuracy_0=0.550000\n",
      "INFO:root:Epoch[61] Batch [30]\tSpeed: 432.56 samples/sec\tTrain-multi-accuracy_0=0.583594\n",
      "INFO:root:Epoch[61] Batch [40]\tSpeed: 432.80 samples/sec\tTrain-multi-accuracy_0=0.590625\n",
      "INFO:root:Epoch[61] Batch [50]\tSpeed: 432.57 samples/sec\tTrain-multi-accuracy_0=0.575781\n",
      "INFO:root:Epoch[61] Batch [60]\tSpeed: 432.57 samples/sec\tTrain-multi-accuracy_0=0.571875\n",
      "INFO:root:Epoch[61] Batch [70]\tSpeed: 432.74 samples/sec\tTrain-multi-accuracy_0=0.536719\n",
      "INFO:root:Epoch[61] Train-multi-accuracy_0=0.555804\n",
      "INFO:root:Epoch[61] Time cost=22.886\n"
     ]
    },
    {
     "name": "stdout",
     "output_type": "stream",
     "text": [
      "Epoch[61] Validation-multi-accuracy_0=0.418470\n"
     ]
    },
    {
     "name": "stderr",
     "output_type": "stream",
     "text": [
      "INFO:root:Epoch[62] Batch [10]\tSpeed: 432.26 samples/sec\tTrain-multi-accuracy_0=0.573864\n",
      "INFO:root:Epoch[62] Batch [20]\tSpeed: 431.72 samples/sec\tTrain-multi-accuracy_0=0.582812\n",
      "INFO:root:Epoch[62] Batch [30]\tSpeed: 431.99 samples/sec\tTrain-multi-accuracy_0=0.565625\n",
      "INFO:root:Epoch[62] Batch [40]\tSpeed: 432.62 samples/sec\tTrain-multi-accuracy_0=0.582031\n",
      "INFO:root:Epoch[63] Batch [20]\tSpeed: 432.37 samples/sec\tTrain-multi-accuracy_0=0.573438\n",
      "INFO:root:Epoch[63] Batch [30]\tSpeed: 432.62 samples/sec\tTrain-multi-accuracy_0=0.576562\n",
      "INFO:root:Epoch[63] Batch [40]\tSpeed: 432.79 samples/sec\tTrain-multi-accuracy_0=0.574219\n",
      "INFO:root:Epoch[63] Batch [50]\tSpeed: 431.89 samples/sec\tTrain-multi-accuracy_0=0.587500\n",
      "INFO:root:Epoch[63] Batch [60]\tSpeed: 432.44 samples/sec\tTrain-multi-accuracy_0=0.601562\n",
      "INFO:root:Epoch[63] Batch [70]\tSpeed: 432.28 samples/sec\tTrain-multi-accuracy_0=0.581250\n",
      "INFO:root:Epoch[63] Train-multi-accuracy_0=0.606027\n",
      "INFO:root:Epoch[63] Time cost=22.899\n"
     ]
    },
    {
     "name": "stdout",
     "output_type": "stream",
     "text": [
      "Epoch[63] Validation-multi-accuracy_0=0.422276\n"
     ]
    },
    {
     "name": "stderr",
     "output_type": "stream",
     "text": [
      "INFO:root:Epoch[64] Batch [10]\tSpeed: 435.08 samples/sec\tTrain-multi-accuracy_0=0.610085\n",
      "INFO:root:Epoch[64] Batch [20]\tSpeed: 433.52 samples/sec\tTrain-multi-accuracy_0=0.598437\n",
      "INFO:root:Epoch[64] Batch [30]\tSpeed: 433.21 samples/sec\tTrain-multi-accuracy_0=0.565625\n",
      "INFO:root:Epoch[64] Batch [40]\tSpeed: 432.06 samples/sec\tTrain-multi-accuracy_0=0.567187\n",
      "INFO:root:Epoch[64] Batch [50]\tSpeed: 433.24 samples/sec\tTrain-multi-accuracy_0=0.600781\n",
      "INFO:root:Epoch[64] Batch [60]\tSpeed: 433.24 samples/sec\tTrain-multi-accuracy_0=0.567969\n",
      "INFO:root:Epoch[64] Batch [70]\tSpeed: 432.05 samples/sec\tTrain-multi-accuracy_0=0.604688\n",
      "INFO:root:Epoch[64] Train-multi-accuracy_0=0.578125\n",
      "INFO:root:Epoch[64] Time cost=23.291\n"
     ]
    },
    {
     "name": "stdout",
     "output_type": "stream",
     "text": [
      "Epoch[64] Validation-multi-accuracy_0=0.417623\n"
     ]
    },
    {
     "name": "stderr",
     "output_type": "stream",
     "text": [
      "INFO:root:Epoch[65] Batch [10]\tSpeed: 432.74 samples/sec\tTrain-multi-accuracy_0=0.605114\n",
      "INFO:root:Epoch[65] Batch [20]\tSpeed: 431.62 samples/sec\tTrain-multi-accuracy_0=0.598437\n",
      "INFO:root:Epoch[65] Batch [30]\tSpeed: 432.87 samples/sec\tTrain-multi-accuracy_0=0.584375\n",
      "INFO:root:Epoch[65] Batch [40]\tSpeed: 432.00 samples/sec\tTrain-multi-accuracy_0=0.590625\n",
      "INFO:root:Epoch[65] Batch [50]\tSpeed: 432.41 samples/sec\tTrain-multi-accuracy_0=0.595313\n",
      "INFO:root:Epoch[65] Batch [60]\tSpeed: 433.05 samples/sec\tTrain-multi-accuracy_0=0.587500\n",
      "INFO:root:Epoch[65] Batch [70]\tSpeed: 432.67 samples/sec\tTrain-multi-accuracy_0=0.605469\n",
      "INFO:root:Epoch[65] Train-multi-accuracy_0=0.588170\n",
      "INFO:root:Epoch[65] Time cost=22.908\n"
     ]
    },
    {
     "name": "stdout",
     "output_type": "stream",
     "text": [
      "Epoch[65] Validation-multi-accuracy_0=0.416466\n"
     ]
    },
    {
     "name": "stderr",
     "output_type": "stream",
     "text": [
      "INFO:root:Epoch[66] Batch [10]\tSpeed: 433.22 samples/sec\tTrain-multi-accuracy_0=0.603693\n",
      "INFO:root:Epoch[66] Batch [20]\tSpeed: 432.99 samples/sec\tTrain-multi-accuracy_0=0.592969\n",
      "INFO:root:Epoch[66] Batch [30]\tSpeed: 434.31 samples/sec\tTrain-multi-accuracy_0=0.589844\n",
      "INFO:root:Epoch[66] Batch [40]\tSpeed: 433.06 samples/sec\tTrain-multi-accuracy_0=0.624219\n",
      "INFO:root:Epoch[66] Batch [50]\tSpeed: 433.17 samples/sec\tTrain-multi-accuracy_0=0.603906\n",
      "INFO:root:Epoch[66] Batch [60]\tSpeed: 434.28 samples/sec\tTrain-multi-accuracy_0=0.632031\n",
      "INFO:root:Epoch[66] Batch [70]\tSpeed: 432.62 samples/sec\tTrain-multi-accuracy_0=0.589063\n",
      "INFO:root:Epoch[66] Train-multi-accuracy_0=0.601562\n",
      "INFO:root:Epoch[66] Time cost=22.856\n"
     ]
    },
    {
     "name": "stdout",
     "output_type": "stream",
     "text": [
      "Epoch[66] Validation-multi-accuracy_0=0.404247\n"
     ]
    },
    {
     "name": "stderr",
     "output_type": "stream",
     "text": [
      "INFO:root:Epoch[67] Batch [10]\tSpeed: 432.19 samples/sec\tTrain-multi-accuracy_0=0.605114\n",
      "INFO:root:Epoch[67] Batch [20]\tSpeed: 432.90 samples/sec\tTrain-multi-accuracy_0=0.624219\n",
      "INFO:root:Epoch[67] Batch [30]\tSpeed: 432.31 samples/sec\tTrain-multi-accuracy_0=0.603906\n",
      "INFO:root:Epoch[67] Batch [40]\tSpeed: 432.75 samples/sec\tTrain-multi-accuracy_0=0.593750\n",
      "INFO:root:Epoch[67] Batch [50]\tSpeed: 432.95 samples/sec\tTrain-multi-accuracy_0=0.603906\n",
      "INFO:root:Epoch[67] Batch [60]\tSpeed: 432.26 samples/sec\tTrain-multi-accuracy_0=0.609375\n",
      "INFO:root:Epoch[67] Batch [70]\tSpeed: 432.57 samples/sec\tTrain-multi-accuracy_0=0.613281\n",
      "INFO:root:Epoch[67] Train-multi-accuracy_0=0.599330\n",
      "INFO:root:Epoch[67] Time cost=22.891\n"
     ]
    },
    {
     "name": "stdout",
     "output_type": "stream",
     "text": [
      "Epoch[67] Validation-multi-accuracy_0=0.404347\n"
     ]
    },
    {
     "name": "stderr",
     "output_type": "stream",
     "text": [
      "INFO:root:Epoch[68] Batch [10]\tSpeed: 431.44 samples/sec\tTrain-multi-accuracy_0=0.623580\n",
      "INFO:root:Epoch[68] Batch [20]\tSpeed: 431.87 samples/sec\tTrain-multi-accuracy_0=0.641406\n",
      "INFO:root:Epoch[68] Batch [30]\tSpeed: 433.47 samples/sec\tTrain-multi-accuracy_0=0.625000\n",
      "INFO:root:Epoch[68] Batch [40]\tSpeed: 432.09 samples/sec\tTrain-multi-accuracy_0=0.600781\n",
      "INFO:root:Epoch[68] Batch [50]\tSpeed: 434.17 samples/sec\tTrain-multi-accuracy_0=0.608594\n",
      "INFO:root:Epoch[68] Batch [60]\tSpeed: 431.62 samples/sec\tTrain-multi-accuracy_0=0.632812\n",
      "INFO:root:Epoch[68] Batch [70]\tSpeed: 433.14 samples/sec\tTrain-multi-accuracy_0=0.614844\n",
      "INFO:root:Epoch[68] Train-multi-accuracy_0=0.611607\n",
      "INFO:root:Epoch[68] Time cost=22.897\n",
      "INFO:root:Epoch[73] Batch [40]\tSpeed: 434.24 samples/sec\tTrain-multi-accuracy_0=0.643750\n",
      "INFO:root:Epoch[73] Batch [50]\tSpeed: 433.27 samples/sec\tTrain-multi-accuracy_0=0.639844\n",
      "INFO:root:Epoch[73] Batch [60]\tSpeed: 433.97 samples/sec\tTrain-multi-accuracy_0=0.655469\n",
      "INFO:root:Epoch[73] Batch [70]\tSpeed: 434.31 samples/sec\tTrain-multi-accuracy_0=0.661719\n",
      "INFO:root:Epoch[73] Train-multi-accuracy_0=0.677455\n",
      "INFO:root:Epoch[73] Time cost=22.853\n"
     ]
    },
    {
     "name": "stdout",
     "output_type": "stream",
     "text": [
      "Epoch[73] Validation-multi-accuracy_0=0.408454\n"
     ]
    },
    {
     "name": "stderr",
     "output_type": "stream",
     "text": [
      "INFO:root:Epoch[74] Batch [10]\tSpeed: 432.20 samples/sec\tTrain-multi-accuracy_0=0.648438\n",
      "INFO:root:Epoch[74] Batch [20]\tSpeed: 433.04 samples/sec\tTrain-multi-accuracy_0=0.660156\n",
      "INFO:root:Epoch[74] Batch [30]\tSpeed: 433.60 samples/sec\tTrain-multi-accuracy_0=0.664062\n",
      "INFO:root:Epoch[74] Batch [40]\tSpeed: 434.03 samples/sec\tTrain-multi-accuracy_0=0.649219\n",
      "INFO:root:Epoch[74] Batch [50]\tSpeed: 433.31 samples/sec\tTrain-multi-accuracy_0=0.635938\n",
      "INFO:root:Epoch[74] Batch [60]\tSpeed: 433.98 samples/sec\tTrain-multi-accuracy_0=0.658594\n",
      "INFO:root:Epoch[74] Batch [70]\tSpeed: 434.37 samples/sec\tTrain-multi-accuracy_0=0.647656\n",
      "INFO:root:Epoch[74] Train-multi-accuracy_0=0.648438\n",
      "INFO:root:Epoch[74] Time cost=22.845\n"
     ]
    },
    {
     "name": "stdout",
     "output_type": "stream",
     "text": [
      "Epoch[74] Validation-multi-accuracy_0=0.423478\n"
     ]
    },
    {
     "name": "stderr",
     "output_type": "stream",
     "text": [
      "INFO:root:Epoch[75] Batch [10]\tSpeed: 432.34 samples/sec\tTrain-multi-accuracy_0=0.673295\n",
      "INFO:root:Epoch[75] Batch [20]\tSpeed: 433.71 samples/sec\tTrain-multi-accuracy_0=0.639844\n",
      "INFO:root:Epoch[75] Batch [30]\tSpeed: 434.61 samples/sec\tTrain-multi-accuracy_0=0.653125\n",
      "INFO:root:Epoch[75] Batch [40]\tSpeed: 433.78 samples/sec\tTrain-multi-accuracy_0=0.651563\n",
      "INFO:root:Epoch[75] Batch [50]\tSpeed: 434.12 samples/sec\tTrain-multi-accuracy_0=0.648438\n",
      "INFO:root:Epoch[75] Batch [60]\tSpeed: 432.97 samples/sec\tTrain-multi-accuracy_0=0.652344\n",
      "INFO:root:Epoch[75] Batch [70]\tSpeed: 435.32 samples/sec\tTrain-multi-accuracy_0=0.676562\n",
      "INFO:root:Epoch[75] Train-multi-accuracy_0=0.654018\n",
      "INFO:root:Epoch[75] Time cost=22.835\n"
     ]
    },
    {
     "name": "stdout",
     "output_type": "stream",
     "text": [
      "Epoch[75] Validation-multi-accuracy_0=0.428285\n"
     ]
    },
    {
     "name": "stderr",
     "output_type": "stream",
     "text": [
      "INFO:root:Epoch[76] Batch [10]\tSpeed: 431.39 samples/sec\tTrain-multi-accuracy_0=0.678977\n",
      "INFO:root:Epoch[76] Batch [20]\tSpeed: 434.38 samples/sec\tTrain-multi-accuracy_0=0.677344\n",
      "INFO:root:Epoch[76] Batch [30]\tSpeed: 433.89 samples/sec\tTrain-multi-accuracy_0=0.647656\n",
      "INFO:root:Epoch[76] Batch [40]\tSpeed: 433.34 samples/sec\tTrain-multi-accuracy_0=0.657031\n",
      "INFO:root:Epoch[76] Batch [50]\tSpeed: 432.65 samples/sec\tTrain-multi-accuracy_0=0.697656\n",
      "INFO:root:Epoch[76] Batch [60]\tSpeed: 433.85 samples/sec\tTrain-multi-accuracy_0=0.681250\n",
      "INFO:root:Epoch[76] Batch [70]\tSpeed: 433.27 samples/sec\tTrain-multi-accuracy_0=0.671094\n",
      "INFO:root:Epoch[76] Train-multi-accuracy_0=0.650670\n",
      "INFO:root:Epoch[76] Time cost=22.854\n"
     ]
    },
    {
     "name": "stdout",
     "output_type": "stream",
     "text": [
      "Epoch[76] Validation-multi-accuracy_0=0.407352\n"
     ]
    },
    {
     "name": "stderr",
     "output_type": "stream",
     "text": [
      "INFO:root:Epoch[77] Batch [10]\tSpeed: 433.08 samples/sec\tTrain-multi-accuracy_0=0.666903\n",
      "INFO:root:Epoch[77] Batch [20]\tSpeed: 432.04 samples/sec\tTrain-multi-accuracy_0=0.686719\n",
      "INFO:root:Epoch[77] Batch [30]\tSpeed: 434.09 samples/sec\tTrain-multi-accuracy_0=0.671875\n",
      "INFO:root:Epoch[77] Batch [40]\tSpeed: 433.55 samples/sec\tTrain-multi-accuracy_0=0.690625\n",
      "INFO:root:Epoch[77] Batch [50]\tSpeed: 434.41 samples/sec\tTrain-multi-accuracy_0=0.650781\n",
      "INFO:root:Epoch[77] Batch [60]\tSpeed: 434.24 samples/sec\tTrain-multi-accuracy_0=0.686719\n",
      "INFO:root:Epoch[77] Batch [70]\tSpeed: 432.64 samples/sec\tTrain-multi-accuracy_0=0.675000\n",
      "INFO:root:Epoch[77] Train-multi-accuracy_0=0.707589\n",
      "INFO:root:Epoch[77] Time cost=22.850\n"
     ]
    },
    {
     "name": "stdout",
     "output_type": "stream",
     "text": [
      "Epoch[77] Validation-multi-accuracy_0=0.421074\n"
     ]
    },
    {
     "name": "stderr",
     "output_type": "stream",
     "text": [
      "INFO:root:Epoch[78] Batch [10]\tSpeed: 434.38 samples/sec\tTrain-multi-accuracy_0=0.672585\n",
      "INFO:root:Epoch[78] Batch [20]\tSpeed: 433.77 samples/sec\tTrain-multi-accuracy_0=0.679688\n",
      "INFO:root:Epoch[78] Batch [30]\tSpeed: 434.61 samples/sec\tTrain-multi-accuracy_0=0.678125\n",
      "INFO:root:Epoch[78] Batch [40]\tSpeed: 433.64 samples/sec\tTrain-multi-accuracy_0=0.675000\n",
      "INFO:root:Epoch[78] Batch [50]\tSpeed: 432.96 samples/sec\tTrain-multi-accuracy_0=0.685156\n",
      "INFO:root:Epoch[78] Batch [60]\tSpeed: 433.69 samples/sec\tTrain-multi-accuracy_0=0.669531\n",
      "INFO:root:Epoch[78] Batch [70]\tSpeed: 434.87 samples/sec\tTrain-multi-accuracy_0=0.651563\n",
      "INFO:root:Epoch[78] Train-multi-accuracy_0=0.687500\n",
      "INFO:root:Epoch[78] Time cost=22.826\n"
     ]
    },
    {
     "name": "stdout",
     "output_type": "stream",
     "text": [
      "Epoch[78] Validation-multi-accuracy_0=0.438902\n"
     ]
    },
    {
     "name": "stderr",
     "output_type": "stream",
     "text": [
      "INFO:root:Epoch[79] Batch [10]\tSpeed: 434.35 samples/sec\tTrain-multi-accuracy_0=0.692472\n",
      "INFO:root:Epoch[79] Batch [20]\tSpeed: 431.66 samples/sec\tTrain-multi-accuracy_0=0.699219\n",
      "INFO:root:Epoch[79] Batch [30]\tSpeed: 432.48 samples/sec\tTrain-multi-accuracy_0=0.701562\n",
      "INFO:root:Epoch[79] Batch [40]\tSpeed: 432.55 samples/sec\tTrain-multi-accuracy_0=0.664062\n",
      "INFO:root:Epoch[79] Batch [50]\tSpeed: 433.36 samples/sec\tTrain-multi-accuracy_0=0.683594\n",
      "INFO:root:Epoch[79] Batch [60]\tSpeed: 433.86 samples/sec\tTrain-multi-accuracy_0=0.698438\n",
      "INFO:root:Epoch[79] Batch [70]\tSpeed: 434.52 samples/sec\tTrain-multi-accuracy_0=0.705469\n",
      "INFO:root:Epoch[79] Train-multi-accuracy_0=0.660714\n",
      "INFO:root:Epoch[79] Time cost=22.854\n",
      "INFO:root:Update[6251]: Change learning rate to 1.65000e-02\n"
     ]
    },
    {
     "name": "stdout",
     "output_type": "stream",
     "text": [
      "Epoch[79] Validation-multi-accuracy_0=0.451222\n"
     ]
    },
    {
     "name": "stderr",
     "output_type": "stream",
     "text": [
      "INFO:root:Epoch[80] Batch [10]\tSpeed: 435.31 samples/sec\tTrain-multi-accuracy_0=0.688920\n",
      "INFO:root:Epoch[80] Batch [20]\tSpeed: 434.33 samples/sec\tTrain-multi-accuracy_0=0.700781\n",
      "INFO:root:Epoch[80] Batch [30]\tSpeed: 434.10 samples/sec\tTrain-multi-accuracy_0=0.750000\n",
      "INFO:root:Epoch[80] Batch [40]\tSpeed: 431.77 samples/sec\tTrain-multi-accuracy_0=0.747656\n",
      "INFO:root:Epoch[80] Batch [50]\tSpeed: 431.19 samples/sec\tTrain-multi-accuracy_0=0.768750\n",
      "INFO:root:Epoch[80] Batch [60]\tSpeed: 432.12 samples/sec\tTrain-multi-accuracy_0=0.780469\n",
      "INFO:root:Epoch[80] Batch [70]\tSpeed: 432.01 samples/sec\tTrain-multi-accuracy_0=0.780469\n",
      "INFO:root:Epoch[80] Train-multi-accuracy_0=0.792969\n",
      "INFO:root:Epoch[80] Time cost=23.257\n"
     ]
    },
    {
     "name": "stdout",
     "output_type": "stream",
     "text": [
      "Epoch[80] Validation-multi-accuracy_0=0.502077\n"
     ]
    },
    {
     "name": "stderr",
     "output_type": "stream",
     "text": [
      "INFO:root:Epoch[81] Batch [10]\tSpeed: 434.95 samples/sec\tTrain-multi-accuracy_0=0.776989\n",
      "INFO:root:Epoch[81] Batch [20]\tSpeed: 434.77 samples/sec\tTrain-multi-accuracy_0=0.803906\n",
      "INFO:root:Epoch[81] Batch [30]\tSpeed: 433.97 samples/sec\tTrain-multi-accuracy_0=0.791406\n",
      "INFO:root:Epoch[81] Batch [40]\tSpeed: 433.84 samples/sec\tTrain-multi-accuracy_0=0.796875\n",
      "INFO:root:Epoch[81] Batch [50]\tSpeed: 433.94 samples/sec\tTrain-multi-accuracy_0=0.803906\n",
      "INFO:root:Epoch[81] Batch [60]\tSpeed: 433.09 samples/sec\tTrain-multi-accuracy_0=0.806250\n",
      "INFO:root:Epoch[81] Batch [70]\tSpeed: 432.48 samples/sec\tTrain-multi-accuracy_0=0.804688\n",
      "INFO:root:Epoch[81] Train-multi-accuracy_0=0.829241\n",
      "INFO:root:Epoch[81] Time cost=22.824\n"
     ]
    },
    {
     "name": "stdout",
     "output_type": "stream",
     "text": [
      "Epoch[81] Validation-multi-accuracy_0=0.499499\n"
     ]
    },
    {
     "name": "stderr",
     "output_type": "stream",
     "text": [
      "INFO:root:Epoch[82] Batch [10]\tSpeed: 434.69 samples/sec\tTrain-multi-accuracy_0=0.826705\n",
      "INFO:root:Epoch[82] Batch [20]\tSpeed: 433.41 samples/sec\tTrain-multi-accuracy_0=0.794531\n",
      "INFO:root:Epoch[82] Batch [30]\tSpeed: 433.54 samples/sec\tTrain-multi-accuracy_0=0.792969\n",
      "INFO:root:Epoch[82] Batch [40]\tSpeed: 434.42 samples/sec\tTrain-multi-accuracy_0=0.786719\n",
      "INFO:root:Epoch[87] Batch [10]\tSpeed: 433.23 samples/sec\tTrain-multi-accuracy_0=0.838778\n",
      "INFO:root:Epoch[87] Batch [20]\tSpeed: 433.38 samples/sec\tTrain-multi-accuracy_0=0.832031\n",
      "INFO:root:Epoch[87] Batch [30]\tSpeed: 431.77 samples/sec\tTrain-multi-accuracy_0=0.842187\n",
      "INFO:root:Epoch[87] Batch [40]\tSpeed: 434.49 samples/sec\tTrain-multi-accuracy_0=0.817187\n",
      "INFO:root:Epoch[87] Batch [50]\tSpeed: 433.98 samples/sec\tTrain-multi-accuracy_0=0.850781\n",
      "INFO:root:Epoch[87] Batch [60]\tSpeed: 433.55 samples/sec\tTrain-multi-accuracy_0=0.853125\n",
      "INFO:root:Epoch[87] Batch [70]\tSpeed: 433.32 samples/sec\tTrain-multi-accuracy_0=0.850781\n",
      "INFO:root:Epoch[87] Train-multi-accuracy_0=0.830357\n",
      "INFO:root:Epoch[87] Time cost=22.856\n"
     ]
    },
    {
     "name": "stdout",
     "output_type": "stream",
     "text": [
      "Epoch[87] Validation-multi-accuracy_0=0.495393\n"
     ]
    },
    {
     "name": "stderr",
     "output_type": "stream",
     "text": [
      "INFO:root:Epoch[88] Batch [10]\tSpeed: 435.19 samples/sec\tTrain-multi-accuracy_0=0.869318\n",
      "INFO:root:Epoch[88] Batch [20]\tSpeed: 433.30 samples/sec\tTrain-multi-accuracy_0=0.841406\n",
      "INFO:root:Epoch[88] Batch [30]\tSpeed: 433.70 samples/sec\tTrain-multi-accuracy_0=0.849219\n",
      "INFO:root:Epoch[88] Batch [40]\tSpeed: 433.28 samples/sec\tTrain-multi-accuracy_0=0.846875\n",
      "INFO:root:Epoch[88] Batch [50]\tSpeed: 433.37 samples/sec\tTrain-multi-accuracy_0=0.846094\n",
      "INFO:root:Epoch[88] Batch [60]\tSpeed: 432.94 samples/sec\tTrain-multi-accuracy_0=0.840625\n",
      "INFO:root:Epoch[88] Batch [70]\tSpeed: 432.78 samples/sec\tTrain-multi-accuracy_0=0.835938\n",
      "INFO:root:Epoch[88] Train-multi-accuracy_0=0.847656\n",
      "INFO:root:Epoch[88] Time cost=23.274\n"
     ]
    },
    {
     "name": "stdout",
     "output_type": "stream",
     "text": [
      "Epoch[89] Validation-multi-accuracy_0=0.477063\n"
     ]
    },
    {
     "name": "stderr",
     "output_type": "stream",
     "text": [
      "INFO:root:Epoch[90] Batch [10]\tSpeed: 434.60 samples/sec\tTrain-multi-accuracy_0=0.869318\n",
      "INFO:root:Epoch[90] Batch [20]\tSpeed: 434.36 samples/sec\tTrain-multi-accuracy_0=0.871875\n",
      "INFO:root:Epoch[90] Batch [30]\tSpeed: 435.23 samples/sec\tTrain-multi-accuracy_0=0.843750\n",
      "INFO:root:Epoch[90] Batch [40]\tSpeed: 434.61 samples/sec\tTrain-multi-accuracy_0=0.862500\n",
      "INFO:root:Epoch[90] Batch [50]\tSpeed: 434.99 samples/sec\tTrain-multi-accuracy_0=0.863281\n",
      "INFO:root:Epoch[90] Batch [60]\tSpeed: 433.07 samples/sec\tTrain-multi-accuracy_0=0.870313\n",
      "INFO:root:Epoch[90] Batch [70]\tSpeed: 434.70 samples/sec\tTrain-multi-accuracy_0=0.845313\n",
      "INFO:root:Epoch[90] Train-multi-accuracy_0=0.852679\n",
      "INFO:root:Epoch[90] Time cost=22.802\n"
     ]
    },
    {
     "name": "stdout",
     "output_type": "stream",
     "text": [
      "Epoch[90] Validation-multi-accuracy_0=0.492989\n"
     ]
    },
    {
     "name": "stderr",
     "output_type": "stream",
     "text": [
      "INFO:root:Epoch[91] Batch [10]\tSpeed: 434.02 samples/sec\tTrain-multi-accuracy_0=0.870028\n",
      "INFO:root:Epoch[91] Batch [20]\tSpeed: 435.60 samples/sec\tTrain-multi-accuracy_0=0.853125\n",
      "INFO:root:Epoch[91] Batch [30]\tSpeed: 434.47 samples/sec\tTrain-multi-accuracy_0=0.871875\n",
      "INFO:root:Epoch[91] Batch [40]\tSpeed: 433.29 samples/sec\tTrain-multi-accuracy_0=0.851562\n",
      "INFO:root:Epoch[91] Batch [50]\tSpeed: 433.51 samples/sec\tTrain-multi-accuracy_0=0.851562\n",
      "INFO:root:Epoch[91] Batch [60]\tSpeed: 432.76 samples/sec\tTrain-multi-accuracy_0=0.863281\n",
      "INFO:root:Epoch[91] Batch [70]\tSpeed: 434.12 samples/sec\tTrain-multi-accuracy_0=0.850781\n",
      "INFO:root:Epoch[91] Train-multi-accuracy_0=0.858259\n",
      "INFO:root:Epoch[91] Time cost=22.832\n"
     ]
    },
    {
     "name": "stdout",
     "output_type": "stream",
     "text": [
      "Epoch[91] Validation-multi-accuracy_0=0.493189\n"
     ]
    },
    {
     "name": "stderr",
     "output_type": "stream",
     "text": [
      "INFO:root:Epoch[92] Batch [10]\tSpeed: 434.41 samples/sec\tTrain-multi-accuracy_0=0.884233\n",
      "INFO:root:Epoch[92] Batch [20]\tSpeed: 434.35 samples/sec\tTrain-multi-accuracy_0=0.867188\n",
      "INFO:root:Epoch[92] Batch [30]\tSpeed: 434.46 samples/sec\tTrain-multi-accuracy_0=0.847656\n",
      "INFO:root:Epoch[92] Batch [40]\tSpeed: 433.72 samples/sec\tTrain-multi-accuracy_0=0.844531\n",
      "INFO:root:Epoch[92] Batch [50]\tSpeed: 434.20 samples/sec\tTrain-multi-accuracy_0=0.858594\n",
      "INFO:root:Epoch[92] Batch [60]\tSpeed: 434.35 samples/sec\tTrain-multi-accuracy_0=0.872656\n",
      "INFO:root:Epoch[92] Batch [70]\tSpeed: 433.30 samples/sec\tTrain-multi-accuracy_0=0.857812\n",
      "INFO:root:Epoch[92] Train-multi-accuracy_0=0.858259\n",
      "INFO:root:Epoch[92] Time cost=22.815\n"
     ]
    },
    {
     "name": "stdout",
     "output_type": "stream",
     "text": [
      "Epoch[92] Validation-multi-accuracy_0=0.487580\n"
     ]
    },
    {
     "name": "stderr",
     "output_type": "stream",
     "text": [
      "INFO:root:Epoch[93] Batch [10]\tSpeed: 435.29 samples/sec\tTrain-multi-accuracy_0=0.865767\n",
      "INFO:root:Epoch[93] Batch [20]\tSpeed: 434.94 samples/sec\tTrain-multi-accuracy_0=0.871094\n",
      "INFO:root:Epoch[93] Batch [30]\tSpeed: 434.07 samples/sec\tTrain-multi-accuracy_0=0.850000\n",
      "INFO:root:Epoch[93] Batch [40]\tSpeed: 434.37 samples/sec\tTrain-multi-accuracy_0=0.883594\n",
      "INFO:root:Epoch[93] Batch [50]\tSpeed: 434.99 samples/sec\tTrain-multi-accuracy_0=0.854688\n",
      "INFO:root:Epoch[93] Batch [60]\tSpeed: 434.42 samples/sec\tTrain-multi-accuracy_0=0.871094\n",
      "INFO:root:Epoch[93] Batch [70]\tSpeed: 434.55 samples/sec\tTrain-multi-accuracy_0=0.854688\n",
      "INFO:root:Epoch[93] Train-multi-accuracy_0=0.860491\n",
      "INFO:root:Epoch[93] Time cost=22.791\n"
     ]
    },
    {
     "name": "stdout",
     "output_type": "stream",
     "text": [
      "Epoch[93] Validation-multi-accuracy_0=0.483674\n"
     ]
    },
    {
     "name": "stderr",
     "output_type": "stream",
     "text": [
      "INFO:root:Epoch[94] Batch [10]\tSpeed: 432.64 samples/sec\tTrain-multi-accuracy_0=0.880682\n",
      "INFO:root:Epoch[94] Batch [20]\tSpeed: 432.01 samples/sec\tTrain-multi-accuracy_0=0.865625\n",
      "INFO:root:Epoch[94] Batch [30]\tSpeed: 432.23 samples/sec\tTrain-multi-accuracy_0=0.864062\n",
      "INFO:root:Epoch[94] Batch [40]\tSpeed: 434.02 samples/sec\tTrain-multi-accuracy_0=0.853906\n",
      "INFO:root:Epoch[94] Batch [50]\tSpeed: 433.45 samples/sec\tTrain-multi-accuracy_0=0.857812\n",
      "INFO:root:Epoch[94] Batch [60]\tSpeed: 434.44 samples/sec\tTrain-multi-accuracy_0=0.871094\n",
      "INFO:root:Epoch[94] Batch [70]\tSpeed: 434.87 samples/sec\tTrain-multi-accuracy_0=0.862500\n",
      "INFO:root:Epoch[94] Train-multi-accuracy_0=0.866071\n",
      "INFO:root:Epoch[94] Time cost=22.853\n"
     ]
    },
    {
     "name": "stdout",
     "output_type": "stream",
     "text": [
      "Epoch[94] Validation-multi-accuracy_0=0.481971\n"
     ]
    },
    {
     "name": "stderr",
     "output_type": "stream",
     "text": [
      "INFO:root:Epoch[95] Batch [10]\tSpeed: 434.26 samples/sec\tTrain-multi-accuracy_0=0.892045\n",
      "INFO:root:Epoch[95] Batch [20]\tSpeed: 434.66 samples/sec\tTrain-multi-accuracy_0=0.857812\n",
      "INFO:root:Epoch[95] Batch [30]\tSpeed: 433.45 samples/sec\tTrain-multi-accuracy_0=0.878125\n",
      "INFO:root:Epoch[95] Batch [40]\tSpeed: 433.49 samples/sec\tTrain-multi-accuracy_0=0.867188\n",
      "INFO:root:Epoch[95] Batch [50]\tSpeed: 433.59 samples/sec\tTrain-multi-accuracy_0=0.865625\n",
      "INFO:root:Epoch[95] Batch [60]\tSpeed: 434.03 samples/sec\tTrain-multi-accuracy_0=0.873437\n",
      "INFO:root:Epoch[95] Batch [70]\tSpeed: 434.80 samples/sec\tTrain-multi-accuracy_0=0.876563\n",
      "INFO:root:Epoch[95] Train-multi-accuracy_0=0.858259\n",
      "INFO:root:Epoch[95] Time cost=22.820\n"
     ]
    },
    {
     "name": "stdout",
     "output_type": "stream",
     "text": [
      "Epoch[95] Validation-multi-accuracy_0=0.475861\n"
     ]
    },
    {
     "name": "stderr",
     "output_type": "stream",
     "text": [
      "INFO:root:Epoch[96] Batch [10]\tSpeed: 433.70 samples/sec\tTrain-multi-accuracy_0=0.862926\n",
      "INFO:root:Epoch[96] Batch [20]\tSpeed: 433.82 samples/sec\tTrain-multi-accuracy_0=0.885156\n",
      "INFO:root:Epoch[96] Batch [30]\tSpeed: 434.68 samples/sec\tTrain-multi-accuracy_0=0.876563\n",
      "INFO:root:Epoch[96] Batch [40]\tSpeed: 433.63 samples/sec\tTrain-multi-accuracy_0=0.875781\n",
      "INFO:root:Epoch[96] Batch [50]\tSpeed: 434.62 samples/sec\tTrain-multi-accuracy_0=0.872656\n",
      "INFO:root:Epoch[96] Batch [60]\tSpeed: 434.78 samples/sec\tTrain-multi-accuracy_0=0.877344\n",
      "INFO:root:Epoch[96] Batch [70]\tSpeed: 433.70 samples/sec\tTrain-multi-accuracy_0=0.888281\n",
      "INFO:root:Epoch[96] Train-multi-accuracy_0=0.880859\n",
      "INFO:root:Epoch[96] Time cost=23.242\n"
     ]
    },
    {
     "name": "stdout",
     "output_type": "stream",
     "text": [
      "Epoch[96] Validation-multi-accuracy_0=0.492583\n"
     ]
    },
    {
     "name": "stderr",
     "output_type": "stream",
     "text": [
      "INFO:root:Epoch[97] Batch [10]\tSpeed: 433.15 samples/sec\tTrain-multi-accuracy_0=0.870028\n",
      "INFO:root:Epoch[97] Batch [20]\tSpeed: 434.44 samples/sec\tTrain-multi-accuracy_0=0.876563\n",
      "INFO:root:Epoch[97] Batch [30]\tSpeed: 433.74 samples/sec\tTrain-multi-accuracy_0=0.861719\n",
      "INFO:root:Epoch[97] Batch [40]\tSpeed: 432.62 samples/sec\tTrain-multi-accuracy_0=0.873437\n",
      "INFO:root:Epoch[97] Batch [50]\tSpeed: 434.31 samples/sec\tTrain-multi-accuracy_0=0.881250\n",
      "INFO:root:Epoch[97] Batch [60]\tSpeed: 433.91 samples/sec\tTrain-multi-accuracy_0=0.886719\n",
      "INFO:root:Epoch[97] Batch [70]\tSpeed: 434.09 samples/sec\tTrain-multi-accuracy_0=0.878906\n",
      "INFO:root:Epoch[97] Train-multi-accuracy_0=0.870536\n",
      "INFO:root:Epoch[97] Time cost=22.830\n"
     ]
    },
    {
     "name": "stdout",
     "output_type": "stream",
     "text": [
      "Epoch[97] Validation-multi-accuracy_0=0.481070\n"
     ]
    },
    {
     "name": "stderr",
     "output_type": "stream",
     "text": [
      "INFO:root:Epoch[98] Batch [10]\tSpeed: 433.88 samples/sec\tTrain-multi-accuracy_0=0.892756\n",
      "INFO:root:Epoch[98] Batch [20]\tSpeed: 433.39 samples/sec\tTrain-multi-accuracy_0=0.890625\n",
      "INFO:root:Epoch[98] Batch [30]\tSpeed: 432.85 samples/sec\tTrain-multi-accuracy_0=0.878125\n",
      "INFO:root:Epoch[98] Batch [40]\tSpeed: 433.02 samples/sec\tTrain-multi-accuracy_0=0.888281\n",
      "INFO:root:Epoch[98] Batch [50]\tSpeed: 434.63 samples/sec\tTrain-multi-accuracy_0=0.882812\n",
      "INFO:root:Epoch[98] Batch [60]\tSpeed: 434.03 samples/sec\tTrain-multi-accuracy_0=0.878906\n",
      "INFO:root:Epoch[98] Batch [70]\tSpeed: 434.33 samples/sec\tTrain-multi-accuracy_0=0.869531\n",
      "INFO:root:Epoch[98] Train-multi-accuracy_0=0.869420\n",
      "INFO:root:Epoch[98] Time cost=22.836\n"
     ]
    },
    {
     "name": "stdout",
     "output_type": "stream",
     "text": [
      "Epoch[98] Validation-multi-accuracy_0=0.474359\n"
     ]
    },
    {
     "name": "stderr",
     "output_type": "stream",
     "text": [
      "INFO:root:Epoch[99] Batch [10]\tSpeed: 434.12 samples/sec\tTrain-multi-accuracy_0=0.876420\n",
      "INFO:root:Epoch[99] Batch [20]\tSpeed: 434.22 samples/sec\tTrain-multi-accuracy_0=0.892188\n",
      "INFO:root:Epoch[99] Batch [30]\tSpeed: 434.16 samples/sec\tTrain-multi-accuracy_0=0.867969\n",
      "INFO:root:Epoch[99] Batch [40]\tSpeed: 432.68 samples/sec\tTrain-multi-accuracy_0=0.878906\n",
      "INFO:root:Epoch[99] Batch [50]\tSpeed: 434.70 samples/sec\tTrain-multi-accuracy_0=0.887500\n",
      "INFO:root:Epoch[99] Batch [60]\tSpeed: 433.47 samples/sec\tTrain-multi-accuracy_0=0.872656\n",
      "INFO:root:Epoch[99] Batch [70]\tSpeed: 434.10 samples/sec\tTrain-multi-accuracy_0=0.880469\n",
      "INFO:root:Epoch[99] Train-multi-accuracy_0=0.873884\n",
      "INFO:root:Epoch[99] Time cost=22.818\n"
     ]
    },
    {
     "name": "stdout",
     "output_type": "stream",
     "text": [
      "Epoch[99] Validation-multi-accuracy_0=0.482372\n"
     ]
    },
    {
     "name": "stderr",
     "output_type": "stream",
     "text": [
      "INFO:root:Epoch[100] Batch [10]\tSpeed: 434.00 samples/sec\tTrain-multi-accuracy_0=0.875710\n",
      "INFO:root:Epoch[100] Batch [20]\tSpeed: 432.40 samples/sec\tTrain-multi-accuracy_0=0.881250\n",
      "INFO:root:Epoch[100] Batch [30]\tSpeed: 433.08 samples/sec\tTrain-multi-accuracy_0=0.874219\n",
      "INFO:root:Epoch[100] Batch [40]\tSpeed: 433.66 samples/sec\tTrain-multi-accuracy_0=0.903906\n",
      "INFO:root:Epoch[100] Batch [50]\tSpeed: 433.20 samples/sec\tTrain-multi-accuracy_0=0.890625\n",
      "INFO:root:Epoch[100] Batch [60]\tSpeed: 433.27 samples/sec\tTrain-multi-accuracy_0=0.898438\n",
      "INFO:root:Epoch[100] Batch [70]\tSpeed: 433.66 samples/sec\tTrain-multi-accuracy_0=0.890625\n",
      "INFO:root:Epoch[100] Train-multi-accuracy_0=0.864955\n",
      "INFO:root:Epoch[100] Time cost=22.849\n"
     ]
    },
    {
     "name": "stdout",
     "output_type": "stream",
     "text": [
      "Epoch[100] Validation-multi-accuracy_0=0.480469\n"
     ]
    },
    {
     "name": "stderr",
     "output_type": "stream",
     "text": [
      "INFO:root:Epoch[101] Batch [10]\tSpeed: 434.32 samples/sec\tTrain-multi-accuracy_0=0.887784\n",
      "INFO:root:Epoch[101] Batch [20]\tSpeed: 434.25 samples/sec\tTrain-multi-accuracy_0=0.896094\n",
      "INFO:root:Epoch[101] Batch [30]\tSpeed: 433.93 samples/sec\tTrain-multi-accuracy_0=0.880469\n",
      "INFO:root:Epoch[101] Batch [40]\tSpeed: 432.98 samples/sec\tTrain-multi-accuracy_0=0.880469\n",
      "INFO:root:Epoch[101] Batch [50]\tSpeed: 434.50 samples/sec\tTrain-multi-accuracy_0=0.882812\n",
      "INFO:root:Epoch[101] Batch [60]\tSpeed: 434.97 samples/sec\tTrain-multi-accuracy_0=0.887500\n",
      "INFO:root:Epoch[101] Batch [70]\tSpeed: 432.94 samples/sec\tTrain-multi-accuracy_0=0.882031\n",
      "INFO:root:Epoch[101] Train-multi-accuracy_0=0.887277\n",
      "INFO:root:Epoch[101] Time cost=22.822\n"
     ]
    },
    {
     "name": "stdout",
     "output_type": "stream",
     "text": [
      "Epoch[101] Validation-multi-accuracy_0=0.483073\n"
     ]
    },
    {
     "name": "stderr",
     "output_type": "stream",
     "text": [
      "INFO:root:Epoch[102] Batch [10]\tSpeed: 432.95 samples/sec\tTrain-multi-accuracy_0=0.895597\n",
      "INFO:root:Epoch[102] Batch [20]\tSpeed: 434.02 samples/sec\tTrain-multi-accuracy_0=0.879687\n",
      "INFO:root:Epoch[102] Batch [30]\tSpeed: 435.59 samples/sec\tTrain-multi-accuracy_0=0.872656\n",
      "INFO:root:Epoch[102] Batch [40]\tSpeed: 434.08 samples/sec\tTrain-multi-accuracy_0=0.878906\n",
      "INFO:root:Epoch[102] Batch [50]\tSpeed: 434.38 samples/sec\tTrain-multi-accuracy_0=0.875781\n",
      "INFO:root:Epoch[102] Batch [60]\tSpeed: 434.51 samples/sec\tTrain-multi-accuracy_0=0.896094\n",
      "INFO:root:Epoch[102] Batch [70]\tSpeed: 435.62 samples/sec\tTrain-multi-accuracy_0=0.885938\n",
      "INFO:root:Epoch[102] Train-multi-accuracy_0=0.888393\n",
      "INFO:root:Epoch[102] Time cost=22.795\n"
     ]
    },
    {
     "name": "stdout",
     "output_type": "stream",
     "text": [
      "Epoch[102] Validation-multi-accuracy_0=0.478265\n"
     ]
    },
    {
     "name": "stderr",
     "output_type": "stream",
     "text": [
      "INFO:root:Epoch[103] Batch [10]\tSpeed: 433.85 samples/sec\tTrain-multi-accuracy_0=0.886364\n",
      "INFO:root:Epoch[103] Batch [20]\tSpeed: 435.03 samples/sec\tTrain-multi-accuracy_0=0.894531\n",
      "INFO:root:Epoch[103] Batch [30]\tSpeed: 433.77 samples/sec\tTrain-multi-accuracy_0=0.865625\n",
      "INFO:root:Epoch[103] Batch [40]\tSpeed: 434.21 samples/sec\tTrain-multi-accuracy_0=0.896094\n",
      "INFO:root:Epoch[103] Batch [50]\tSpeed: 435.22 samples/sec\tTrain-multi-accuracy_0=0.874219\n",
      "INFO:root:Epoch[103] Batch [60]\tSpeed: 434.22 samples/sec\tTrain-multi-accuracy_0=0.887500\n",
      "INFO:root:Epoch[103] Batch [70]\tSpeed: 433.84 samples/sec\tTrain-multi-accuracy_0=0.880469\n",
      "INFO:root:Epoch[103] Train-multi-accuracy_0=0.890625\n",
      "INFO:root:Epoch[103] Time cost=22.800\n"
     ]
    },
    {
     "name": "stdout",
     "output_type": "stream",
     "text": [
      "Epoch[103] Validation-multi-accuracy_0=0.491086\n"
     ]
    },
    {
     "name": "stderr",
     "output_type": "stream",
     "text": [
      "INFO:root:Epoch[104] Batch [10]\tSpeed: 436.17 samples/sec\tTrain-multi-accuracy_0=0.893466\n",
      "INFO:root:Epoch[104] Batch [20]\tSpeed: 433.76 samples/sec\tTrain-multi-accuracy_0=0.889062\n",
      "INFO:root:Epoch[104] Batch [30]\tSpeed: 432.76 samples/sec\tTrain-multi-accuracy_0=0.901563\n",
      "INFO:root:Epoch[104] Batch [40]\tSpeed: 434.32 samples/sec\tTrain-multi-accuracy_0=0.874219\n",
      "INFO:root:Epoch[104] Batch [50]\tSpeed: 433.22 samples/sec\tTrain-multi-accuracy_0=0.903906\n",
      "INFO:root:Epoch[104] Batch [60]\tSpeed: 433.48 samples/sec\tTrain-multi-accuracy_0=0.886719\n",
      "INFO:root:Epoch[104] Batch [70]\tSpeed: 434.52 samples/sec\tTrain-multi-accuracy_0=0.894531\n",
      "INFO:root:Epoch[104] Train-multi-accuracy_0=0.889648\n",
      "INFO:root:Epoch[104] Time cost=23.237\n"
     ]
    },
    {
     "name": "stdout",
     "output_type": "stream",
     "text": [
      "Epoch[104] Validation-multi-accuracy_0=0.481606\n"
     ]
    },
    {
     "name": "stderr",
     "output_type": "stream",
     "text": [
      "INFO:root:Epoch[105] Batch [10]\tSpeed: 434.26 samples/sec\tTrain-multi-accuracy_0=0.900568\n",
      "INFO:root:Epoch[105] Batch [20]\tSpeed: 434.76 samples/sec\tTrain-multi-accuracy_0=0.900000\n",
      "INFO:root:Epoch[105] Batch [30]\tSpeed: 434.39 samples/sec\tTrain-multi-accuracy_0=0.907813\n",
      "INFO:root:Epoch[105] Batch [40]\tSpeed: 434.08 samples/sec\tTrain-multi-accuracy_0=0.889844\n",
      "INFO:root:Epoch[105] Batch [50]\tSpeed: 433.79 samples/sec\tTrain-multi-accuracy_0=0.901563\n",
      "INFO:root:Epoch[105] Batch [60]\tSpeed: 433.87 samples/sec\tTrain-multi-accuracy_0=0.910937\n",
      "INFO:root:Epoch[105] Batch [70]\tSpeed: 435.19 samples/sec\tTrain-multi-accuracy_0=0.893750\n",
      "INFO:root:Epoch[105] Train-multi-accuracy_0=0.898438\n",
      "INFO:root:Epoch[105] Time cost=22.798\n"
     ]
    },
    {
     "name": "stdout",
     "output_type": "stream",
     "text": [
      "Epoch[105] Validation-multi-accuracy_0=0.475962\n"
     ]
    },
    {
     "name": "stderr",
     "output_type": "stream",
     "text": [
      "INFO:root:Epoch[106] Batch [10]\tSpeed: 434.09 samples/sec\tTrain-multi-accuracy_0=0.892756\n",
      "INFO:root:Epoch[106] Batch [20]\tSpeed: 434.10 samples/sec\tTrain-multi-accuracy_0=0.907813\n",
      "INFO:root:Epoch[106] Batch [30]\tSpeed: 434.06 samples/sec\tTrain-multi-accuracy_0=0.906250\n",
      "INFO:root:Epoch[106] Batch [40]\tSpeed: 432.20 samples/sec\tTrain-multi-accuracy_0=0.900000\n",
      "INFO:root:Epoch[106] Batch [50]\tSpeed: 433.86 samples/sec\tTrain-multi-accuracy_0=0.892188\n",
      "INFO:root:Epoch[106] Batch [60]\tSpeed: 433.73 samples/sec\tTrain-multi-accuracy_0=0.892969\n",
      "INFO:root:Epoch[106] Batch [70]\tSpeed: 433.06 samples/sec\tTrain-multi-accuracy_0=0.907031\n",
      "INFO:root:Epoch[106] Train-multi-accuracy_0=0.891741\n",
      "INFO:root:Epoch[106] Time cost=22.843\n"
     ]
    },
    {
     "name": "stdout",
     "output_type": "stream",
     "text": [
      "Epoch[106] Validation-multi-accuracy_0=0.478866\n"
     ]
    },
    {
     "name": "stderr",
     "output_type": "stream",
     "text": [
      "INFO:root:Epoch[107] Batch [10]\tSpeed: 435.29 samples/sec\tTrain-multi-accuracy_0=0.892045\n",
      "INFO:root:Epoch[107] Batch [20]\tSpeed: 433.14 samples/sec\tTrain-multi-accuracy_0=0.891406\n",
      "INFO:root:Epoch[107] Batch [30]\tSpeed: 432.99 samples/sec\tTrain-multi-accuracy_0=0.881250\n",
      "INFO:root:Epoch[107] Batch [40]\tSpeed: 431.95 samples/sec\tTrain-multi-accuracy_0=0.878906\n",
      "INFO:root:Epoch[107] Batch [50]\tSpeed: 433.74 samples/sec\tTrain-multi-accuracy_0=0.897656\n",
      "INFO:root:Epoch[107] Batch [60]\tSpeed: 433.26 samples/sec\tTrain-multi-accuracy_0=0.888281\n",
      "INFO:root:Epoch[107] Batch [70]\tSpeed: 434.96 samples/sec\tTrain-multi-accuracy_0=0.894531\n",
      "INFO:root:Epoch[107] Train-multi-accuracy_0=0.896205\n",
      "INFO:root:Epoch[107] Time cost=22.840\n"
     ]
    },
    {
     "name": "stdout",
     "output_type": "stream",
     "text": [
      "Epoch[107] Validation-multi-accuracy_0=0.476162\n"
     ]
    },
    {
     "name": "stderr",
     "output_type": "stream",
     "text": [
      "INFO:root:Epoch[108] Batch [10]\tSpeed: 434.82 samples/sec\tTrain-multi-accuracy_0=0.901278\n",
      "INFO:root:Epoch[108] Batch [20]\tSpeed: 433.91 samples/sec\tTrain-multi-accuracy_0=0.900781\n",
      "INFO:root:Epoch[108] Batch [30]\tSpeed: 434.16 samples/sec\tTrain-multi-accuracy_0=0.901563\n",
      "INFO:root:Epoch[108] Batch [40]\tSpeed: 434.35 samples/sec\tTrain-multi-accuracy_0=0.893750\n",
      "INFO:root:Epoch[108] Batch [50]\tSpeed: 435.13 samples/sec\tTrain-multi-accuracy_0=0.898438\n",
      "INFO:root:Epoch[108] Batch [60]\tSpeed: 433.51 samples/sec\tTrain-multi-accuracy_0=0.894531\n",
      "INFO:root:Epoch[108] Batch [70]\tSpeed: 435.00 samples/sec\tTrain-multi-accuracy_0=0.911719\n",
      "INFO:root:Epoch[108] Train-multi-accuracy_0=0.892857\n",
      "INFO:root:Epoch[108] Time cost=22.810\n"
     ]
    },
    {
     "name": "stdout",
     "output_type": "stream",
     "text": [
      "Epoch[108] Validation-multi-accuracy_0=0.482472\n"
     ]
    },
    {
     "name": "stderr",
     "output_type": "stream",
     "text": [
      "INFO:root:Epoch[109] Batch [10]\tSpeed: 433.39 samples/sec\tTrain-multi-accuracy_0=0.897727\n",
      "INFO:root:Epoch[109] Batch [20]\tSpeed: 433.41 samples/sec\tTrain-multi-accuracy_0=0.903906\n",
      "INFO:root:Epoch[109] Batch [30]\tSpeed: 432.25 samples/sec\tTrain-multi-accuracy_0=0.893750\n",
      "INFO:root:Epoch[109] Batch [40]\tSpeed: 433.36 samples/sec\tTrain-multi-accuracy_0=0.895312\n",
      "INFO:root:Epoch[109] Batch [50]\tSpeed: 432.71 samples/sec\tTrain-multi-accuracy_0=0.910156\n",
      "INFO:root:Epoch[109] Batch [60]\tSpeed: 432.68 samples/sec\tTrain-multi-accuracy_0=0.896094\n",
      "INFO:root:Epoch[109] Batch [70]\tSpeed: 433.27 samples/sec\tTrain-multi-accuracy_0=0.896875\n",
      "INFO:root:Epoch[109] Train-multi-accuracy_0=0.900670\n",
      "INFO:root:Epoch[109] Time cost=22.868\n"
     ]
    },
    {
     "name": "stdout",
     "output_type": "stream",
     "text": [
      "Epoch[109] Validation-multi-accuracy_0=0.474960\n"
     ]
    },
    {
     "name": "stderr",
     "output_type": "stream",
     "text": [
      "INFO:root:Epoch[110] Batch [10]\tSpeed: 432.74 samples/sec\tTrain-multi-accuracy_0=0.895597\n",
      "INFO:root:Epoch[110] Batch [20]\tSpeed: 432.51 samples/sec\tTrain-multi-accuracy_0=0.891406\n",
      "INFO:root:Epoch[110] Batch [30]\tSpeed: 433.54 samples/sec\tTrain-multi-accuracy_0=0.901563\n",
      "INFO:root:Epoch[110] Batch [40]\tSpeed: 433.39 samples/sec\tTrain-multi-accuracy_0=0.904687\n",
      "INFO:root:Epoch[110] Batch [50]\tSpeed: 433.65 samples/sec\tTrain-multi-accuracy_0=0.921094\n",
      "INFO:root:Epoch[110] Batch [60]\tSpeed: 434.11 samples/sec\tTrain-multi-accuracy_0=0.897656\n",
      "INFO:root:Epoch[110] Batch [70]\tSpeed: 433.96 samples/sec\tTrain-multi-accuracy_0=0.893750\n",
      "INFO:root:Epoch[110] Train-multi-accuracy_0=0.886161\n",
      "INFO:root:Epoch[110] Time cost=22.854\n"
     ]
    },
    {
     "name": "stdout",
     "output_type": "stream",
     "text": [
      "Epoch[110] Validation-multi-accuracy_0=0.491386\n"
     ]
    },
    {
     "name": "stderr",
     "output_type": "stream",
     "text": [
      "INFO:root:Epoch[111] Batch [10]\tSpeed: 434.02 samples/sec\tTrain-multi-accuracy_0=0.909801\n",
      "INFO:root:Epoch[111] Batch [20]\tSpeed: 433.05 samples/sec\tTrain-multi-accuracy_0=0.911719\n",
      "INFO:root:Epoch[111] Batch [30]\tSpeed: 434.90 samples/sec\tTrain-multi-accuracy_0=0.906250\n",
      "INFO:root:Epoch[111] Batch [40]\tSpeed: 434.01 samples/sec\tTrain-multi-accuracy_0=0.900000\n",
      "INFO:root:Epoch[111] Batch [50]\tSpeed: 433.79 samples/sec\tTrain-multi-accuracy_0=0.914844\n",
      "INFO:root:Epoch[111] Batch [60]\tSpeed: 433.32 samples/sec\tTrain-multi-accuracy_0=0.904687\n",
      "INFO:root:Epoch[111] Batch [70]\tSpeed: 433.17 samples/sec\tTrain-multi-accuracy_0=0.899219\n",
      "INFO:root:Epoch[111] Train-multi-accuracy_0=0.907366\n",
      "INFO:root:Epoch[111] Time cost=22.837\n"
     ]
    },
    {
     "name": "stdout",
     "output_type": "stream",
     "text": [
      "Epoch[111] Validation-multi-accuracy_0=0.478666\n"
     ]
    },
    {
     "name": "stderr",
     "output_type": "stream",
     "text": [
      "INFO:root:Epoch[112] Batch [10]\tSpeed: 435.12 samples/sec\tTrain-multi-accuracy_0=0.890625\n",
      "INFO:root:Epoch[112] Batch [20]\tSpeed: 435.12 samples/sec\tTrain-multi-accuracy_0=0.916406\n",
      "INFO:root:Epoch[112] Batch [30]\tSpeed: 434.24 samples/sec\tTrain-multi-accuracy_0=0.910937\n",
      "INFO:root:Epoch[112] Batch [40]\tSpeed: 433.92 samples/sec\tTrain-multi-accuracy_0=0.906250\n",
      "INFO:root:Epoch[112] Batch [50]\tSpeed: 434.85 samples/sec\tTrain-multi-accuracy_0=0.910937\n",
      "INFO:root:Epoch[112] Batch [60]\tSpeed: 434.78 samples/sec\tTrain-multi-accuracy_0=0.915625\n",
      "INFO:root:Epoch[112] Batch [70]\tSpeed: 433.82 samples/sec\tTrain-multi-accuracy_0=0.903125\n",
      "INFO:root:Epoch[112] Train-multi-accuracy_0=0.905273\n",
      "INFO:root:Epoch[112] Time cost=23.217\n"
     ]
    },
    {
     "name": "stdout",
     "output_type": "stream",
     "text": [
      "Epoch[112] Validation-multi-accuracy_0=0.483782\n"
     ]
    },
    {
     "name": "stderr",
     "output_type": "stream",
     "text": [
      "INFO:root:Epoch[113] Batch [10]\tSpeed: 433.34 samples/sec\tTrain-multi-accuracy_0=0.916193\n",
      "INFO:root:Epoch[113] Batch [20]\tSpeed: 434.28 samples/sec\tTrain-multi-accuracy_0=0.905469\n",
      "INFO:root:Epoch[113] Batch [30]\tSpeed: 433.75 samples/sec\tTrain-multi-accuracy_0=0.891406\n",
      "INFO:root:Epoch[113] Batch [40]\tSpeed: 433.99 samples/sec\tTrain-multi-accuracy_0=0.908594\n",
      "INFO:root:Epoch[113] Batch [50]\tSpeed: 435.52 samples/sec\tTrain-multi-accuracy_0=0.915625\n",
      "INFO:root:Epoch[113] Batch [60]\tSpeed: 433.45 samples/sec\tTrain-multi-accuracy_0=0.907813\n",
      "INFO:root:Epoch[113] Batch [70]\tSpeed: 435.06 samples/sec\tTrain-multi-accuracy_0=0.912500\n",
      "INFO:root:Epoch[113] Train-multi-accuracy_0=0.904018\n",
      "INFO:root:Epoch[113] Time cost=22.814\n"
     ]
    },
    {
     "name": "stdout",
     "output_type": "stream",
     "text": [
      "Epoch[113] Validation-multi-accuracy_0=0.465645\n"
     ]
    },
    {
     "name": "stderr",
     "output_type": "stream",
     "text": [
      "INFO:root:Epoch[114] Batch [10]\tSpeed: 432.94 samples/sec\tTrain-multi-accuracy_0=0.921875\n",
      "INFO:root:Epoch[114] Batch [20]\tSpeed: 433.50 samples/sec\tTrain-multi-accuracy_0=0.921875\n",
      "INFO:root:Epoch[114] Batch [30]\tSpeed: 433.70 samples/sec\tTrain-multi-accuracy_0=0.912500\n",
      "INFO:root:Epoch[114] Batch [40]\tSpeed: 433.56 samples/sec\tTrain-multi-accuracy_0=0.906250\n",
      "INFO:root:Epoch[114] Batch [50]\tSpeed: 433.95 samples/sec\tTrain-multi-accuracy_0=0.911719\n",
      "INFO:root:Epoch[114] Batch [60]\tSpeed: 433.45 samples/sec\tTrain-multi-accuracy_0=0.910937\n",
      "INFO:root:Epoch[114] Batch [70]\tSpeed: 433.44 samples/sec\tTrain-multi-accuracy_0=0.912500\n",
      "INFO:root:Epoch[114] Train-multi-accuracy_0=0.907366\n",
      "INFO:root:Epoch[114] Time cost=22.849\n"
     ]
    },
    {
     "name": "stdout",
     "output_type": "stream",
     "text": [
      "Epoch[114] Validation-multi-accuracy_0=0.477163\n"
     ]
    },
    {
     "name": "stderr",
     "output_type": "stream",
     "text": [
      "INFO:root:Epoch[115] Batch [10]\tSpeed: 434.33 samples/sec\tTrain-multi-accuracy_0=0.906960\n",
      "INFO:root:Epoch[115] Batch [20]\tSpeed: 432.99 samples/sec\tTrain-multi-accuracy_0=0.918750\n",
      "INFO:root:Epoch[115] Batch [30]\tSpeed: 432.89 samples/sec\tTrain-multi-accuracy_0=0.910937\n",
      "INFO:root:Epoch[115] Batch [40]\tSpeed: 433.17 samples/sec\tTrain-multi-accuracy_0=0.897656\n",
      "INFO:root:Epoch[115] Batch [50]\tSpeed: 433.51 samples/sec\tTrain-multi-accuracy_0=0.915625\n",
      "INFO:root:Epoch[115] Batch [60]\tSpeed: 432.93 samples/sec\tTrain-multi-accuracy_0=0.911719\n",
      "INFO:root:Epoch[115] Batch [70]\tSpeed: 434.11 samples/sec\tTrain-multi-accuracy_0=0.904687\n",
      "INFO:root:Epoch[115] Train-multi-accuracy_0=0.904018\n",
      "INFO:root:Epoch[115] Time cost=22.855\n"
     ]
    },
    {
     "name": "stdout",
     "output_type": "stream",
     "text": [
      "Epoch[115] Validation-multi-accuracy_0=0.465745\n"
     ]
    },
    {
     "name": "stderr",
     "output_type": "stream",
     "text": [
      "INFO:root:Epoch[116] Batch [10]\tSpeed: 433.51 samples/sec\tTrain-multi-accuracy_0=0.921875\n",
      "INFO:root:Epoch[116] Batch [20]\tSpeed: 434.30 samples/sec\tTrain-multi-accuracy_0=0.916406\n",
      "INFO:root:Epoch[116] Batch [30]\tSpeed: 434.28 samples/sec\tTrain-multi-accuracy_0=0.925000\n",
      "INFO:root:Epoch[116] Batch [40]\tSpeed: 434.93 samples/sec\tTrain-multi-accuracy_0=0.911719\n",
      "INFO:root:Epoch[116] Batch [50]\tSpeed: 434.65 samples/sec\tTrain-multi-accuracy_0=0.917969\n",
      "INFO:root:Epoch[116] Batch [60]\tSpeed: 434.34 samples/sec\tTrain-multi-accuracy_0=0.910937\n",
      "INFO:root:Epoch[116] Batch [70]\tSpeed: 434.65 samples/sec\tTrain-multi-accuracy_0=0.906250\n",
      "INFO:root:Epoch[116] Train-multi-accuracy_0=0.889509\n",
      "INFO:root:Epoch[116] Time cost=22.804\n"
     ]
    },
    {
     "name": "stdout",
     "output_type": "stream",
     "text": [
      "Epoch[116] Validation-multi-accuracy_0=0.467548\n"
     ]
    },
    {
     "name": "stderr",
     "output_type": "stream",
     "text": [
      "INFO:root:Epoch[117] Batch [10]\tSpeed: 435.35 samples/sec\tTrain-multi-accuracy_0=0.909801\n",
      "INFO:root:Epoch[117] Batch [20]\tSpeed: 433.35 samples/sec\tTrain-multi-accuracy_0=0.917188\n",
      "INFO:root:Epoch[117] Batch [30]\tSpeed: 433.73 samples/sec\tTrain-multi-accuracy_0=0.908594\n",
      "INFO:root:Epoch[117] Batch [40]\tSpeed: 434.57 samples/sec\tTrain-multi-accuracy_0=0.917188\n",
      "INFO:root:Epoch[117] Batch [50]\tSpeed: 433.39 samples/sec\tTrain-multi-accuracy_0=0.897656\n",
      "INFO:root:Epoch[117] Batch [60]\tSpeed: 433.39 samples/sec\tTrain-multi-accuracy_0=0.924219\n",
      "INFO:root:Epoch[117] Batch [70]\tSpeed: 433.44 samples/sec\tTrain-multi-accuracy_0=0.914844\n",
      "INFO:root:Epoch[117] Train-multi-accuracy_0=0.919643\n",
      "INFO:root:Epoch[117] Time cost=22.824\n"
     ]
    },
    {
     "name": "stdout",
     "output_type": "stream",
     "text": [
      "Epoch[117] Validation-multi-accuracy_0=0.470453\n"
     ]
    },
    {
     "name": "stderr",
     "output_type": "stream",
     "text": [
      "INFO:root:Epoch[118] Batch [10]\tSpeed: 434.73 samples/sec\tTrain-multi-accuracy_0=0.913352\n",
      "INFO:root:Epoch[118] Batch [20]\tSpeed: 433.18 samples/sec\tTrain-multi-accuracy_0=0.923438\n",
      "INFO:root:Epoch[118] Batch [30]\tSpeed: 433.42 samples/sec\tTrain-multi-accuracy_0=0.921875\n",
      "INFO:root:Epoch[118] Batch [40]\tSpeed: 431.54 samples/sec\tTrain-multi-accuracy_0=0.918750\n",
      "INFO:root:Epoch[118] Batch [50]\tSpeed: 432.68 samples/sec\tTrain-multi-accuracy_0=0.922656\n",
      "INFO:root:Epoch[118] Batch [60]\tSpeed: 433.40 samples/sec\tTrain-multi-accuracy_0=0.928125\n",
      "INFO:root:Epoch[118] Batch [70]\tSpeed: 433.75 samples/sec\tTrain-multi-accuracy_0=0.925000\n",
      "INFO:root:Epoch[118] Train-multi-accuracy_0=0.895089\n",
      "INFO:root:Epoch[118] Time cost=22.863\n"
     ]
    },
    {
     "name": "stdout",
     "output_type": "stream",
     "text": [
      "Epoch[118] Validation-multi-accuracy_0=0.480369\n"
     ]
    },
    {
     "name": "stderr",
     "output_type": "stream",
     "text": [
      "INFO:root:Epoch[119] Batch [10]\tSpeed: 434.33 samples/sec\tTrain-multi-accuracy_0=0.919034\n",
      "INFO:root:Epoch[119] Batch [20]\tSpeed: 435.51 samples/sec\tTrain-multi-accuracy_0=0.921875\n",
      "INFO:root:Epoch[119] Batch [30]\tSpeed: 434.07 samples/sec\tTrain-multi-accuracy_0=0.911719\n",
      "INFO:root:Epoch[119] Batch [40]\tSpeed: 434.32 samples/sec\tTrain-multi-accuracy_0=0.921094\n",
      "INFO:root:Epoch[119] Batch [50]\tSpeed: 435.48 samples/sec\tTrain-multi-accuracy_0=0.925781\n",
      "INFO:root:Epoch[119] Batch [60]\tSpeed: 435.23 samples/sec\tTrain-multi-accuracy_0=0.911719\n",
      "INFO:root:Epoch[119] Batch [70]\tSpeed: 433.84 samples/sec\tTrain-multi-accuracy_0=0.909375\n",
      "INFO:root:Epoch[119] Train-multi-accuracy_0=0.922991\n",
      "INFO:root:Epoch[119] Time cost=22.784\n",
      "INFO:root:Update[9376]: Change learning rate to 5.44500e-03\n"
     ]
    },
    {
     "name": "stdout",
     "output_type": "stream",
     "text": [
      "Epoch[119] Validation-multi-accuracy_0=0.463041\n"
     ]
    },
    {
     "name": "stderr",
     "output_type": "stream",
     "text": [
      "INFO:root:Epoch[120] Batch [10]\tSpeed: 434.87 samples/sec\tTrain-multi-accuracy_0=0.912642\n",
      "INFO:root:Epoch[120] Batch [20]\tSpeed: 434.73 samples/sec\tTrain-multi-accuracy_0=0.917188\n",
      "INFO:root:Epoch[120] Batch [30]\tSpeed: 433.68 samples/sec\tTrain-multi-accuracy_0=0.928906\n",
      "INFO:root:Epoch[120] Batch [40]\tSpeed: 432.65 samples/sec\tTrain-multi-accuracy_0=0.945312\n",
      "INFO:root:Epoch[120] Batch [50]\tSpeed: 433.41 samples/sec\tTrain-multi-accuracy_0=0.937500\n",
      "INFO:root:Epoch[120] Batch [60]\tSpeed: 434.11 samples/sec\tTrain-multi-accuracy_0=0.944531\n",
      "INFO:root:Epoch[120] Batch [70]\tSpeed: 433.13 samples/sec\tTrain-multi-accuracy_0=0.941406\n",
      "INFO:root:Epoch[120] Train-multi-accuracy_0=0.958008\n",
      "INFO:root:Epoch[120] Time cost=23.263\n"
     ]
    },
    {
     "name": "stdout",
     "output_type": "stream",
     "text": [
      "Epoch[120] Validation-multi-accuracy_0=0.510483\n"
     ]
    },
    {
     "name": "stderr",
     "output_type": "stream",
     "text": [
      "INFO:root:Epoch[121] Batch [10]\tSpeed: 433.36 samples/sec\tTrain-multi-accuracy_0=0.948153\n",
      "INFO:root:Epoch[121] Batch [20]\tSpeed: 434.39 samples/sec\tTrain-multi-accuracy_0=0.942187\n",
      "INFO:root:Epoch[121] Batch [30]\tSpeed: 434.61 samples/sec\tTrain-multi-accuracy_0=0.948438\n",
      "INFO:root:Epoch[121] Batch [40]\tSpeed: 433.60 samples/sec\tTrain-multi-accuracy_0=0.949219\n",
      "INFO:root:Epoch[121] Batch [50]\tSpeed: 434.94 samples/sec\tTrain-multi-accuracy_0=0.945312\n",
      "INFO:root:Epoch[121] Batch [60]\tSpeed: 434.26 samples/sec\tTrain-multi-accuracy_0=0.955469\n",
      "INFO:root:Epoch[121] Batch [70]\tSpeed: 433.90 samples/sec\tTrain-multi-accuracy_0=0.946875\n",
      "INFO:root:Epoch[121] Train-multi-accuracy_0=0.953125\n",
      "INFO:root:Epoch[121] Time cost=22.809\n"
     ]
    },
    {
     "name": "stdout",
     "output_type": "stream",
     "text": [
      "Epoch[121] Validation-multi-accuracy_0=0.509115\n"
     ]
    },
    {
     "name": "stderr",
     "output_type": "stream",
     "text": [
      "INFO:root:Epoch[122] Batch [10]\tSpeed: 433.85 samples/sec\tTrain-multi-accuracy_0=0.955966\n",
      "INFO:root:Epoch[122] Batch [20]\tSpeed: 432.93 samples/sec\tTrain-multi-accuracy_0=0.945312\n",
      "INFO:root:Epoch[122] Batch [30]\tSpeed: 433.58 samples/sec\tTrain-multi-accuracy_0=0.957031\n",
      "INFO:root:Epoch[122] Batch [40]\tSpeed: 431.54 samples/sec\tTrain-multi-accuracy_0=0.953125\n",
      "INFO:root:Epoch[122] Batch [50]\tSpeed: 433.92 samples/sec\tTrain-multi-accuracy_0=0.963281\n",
      "INFO:root:Epoch[122] Batch [60]\tSpeed: 431.53 samples/sec\tTrain-multi-accuracy_0=0.953125\n",
      "INFO:root:Epoch[122] Batch [70]\tSpeed: 434.30 samples/sec\tTrain-multi-accuracy_0=0.962500\n",
      "INFO:root:Epoch[122] Train-multi-accuracy_0=0.959821\n",
      "INFO:root:Epoch[122] Time cost=22.864\n"
     ]
    },
    {
     "name": "stdout",
     "output_type": "stream",
     "text": [
      "Epoch[122] Validation-multi-accuracy_0=0.512420\n"
     ]
    },
    {
     "name": "stderr",
     "output_type": "stream",
     "text": [
      "INFO:root:Epoch[123] Batch [10]\tSpeed: 434.10 samples/sec\tTrain-multi-accuracy_0=0.961648\n",
      "INFO:root:Epoch[123] Batch [20]\tSpeed: 433.22 samples/sec\tTrain-multi-accuracy_0=0.958594\n",
      "INFO:root:Epoch[123] Batch [30]\tSpeed: 433.55 samples/sec\tTrain-multi-accuracy_0=0.955469\n",
      "INFO:root:Epoch[123] Batch [40]\tSpeed: 431.18 samples/sec\tTrain-multi-accuracy_0=0.956250\n",
      "INFO:root:Epoch[123] Batch [50]\tSpeed: 433.15 samples/sec\tTrain-multi-accuracy_0=0.960938\n",
      "INFO:root:Epoch[123] Batch [60]\tSpeed: 434.10 samples/sec\tTrain-multi-accuracy_0=0.959375\n",
      "INFO:root:Epoch[123] Batch [70]\tSpeed: 435.10 samples/sec\tTrain-multi-accuracy_0=0.947656\n",
      "INFO:root:Epoch[123] Train-multi-accuracy_0=0.956473\n",
      "INFO:root:Epoch[123] Time cost=22.848\n"
     ]
    },
    {
     "name": "stdout",
     "output_type": "stream",
     "text": [
      "Epoch[123] Validation-multi-accuracy_0=0.509215\n"
     ]
    },
    {
     "name": "stderr",
     "output_type": "stream",
     "text": [
      "INFO:root:Epoch[124] Batch [10]\tSpeed: 434.48 samples/sec\tTrain-multi-accuracy_0=0.962358\n",
      "INFO:root:Epoch[124] Batch [20]\tSpeed: 433.35 samples/sec\tTrain-multi-accuracy_0=0.961719\n",
      "INFO:root:Epoch[124] Batch [30]\tSpeed: 434.09 samples/sec\tTrain-multi-accuracy_0=0.967187\n",
      "INFO:root:Epoch[124] Batch [40]\tSpeed: 434.82 samples/sec\tTrain-multi-accuracy_0=0.960156\n",
      "INFO:root:Epoch[124] Batch [50]\tSpeed: 434.84 samples/sec\tTrain-multi-accuracy_0=0.963281\n",
      "INFO:root:Epoch[124] Batch [60]\tSpeed: 434.50 samples/sec\tTrain-multi-accuracy_0=0.956250\n",
      "INFO:root:Epoch[124] Batch [70]\tSpeed: 434.50 samples/sec\tTrain-multi-accuracy_0=0.965625\n",
      "INFO:root:Epoch[124] Train-multi-accuracy_0=0.966518\n",
      "INFO:root:Epoch[124] Time cost=22.804\n"
     ]
    },
    {
     "name": "stdout",
     "output_type": "stream",
     "text": [
      "Epoch[124] Validation-multi-accuracy_0=0.509816\n"
     ]
    },
    {
     "name": "stderr",
     "output_type": "stream",
     "text": [
      "INFO:root:Epoch[125] Batch [10]\tSpeed: 434.80 samples/sec\tTrain-multi-accuracy_0=0.968040\n",
      "INFO:root:Epoch[125] Batch [20]\tSpeed: 434.73 samples/sec\tTrain-multi-accuracy_0=0.960938\n",
      "INFO:root:Epoch[125] Batch [30]\tSpeed: 433.36 samples/sec\tTrain-multi-accuracy_0=0.961719\n",
      "INFO:root:Epoch[125] Batch [40]\tSpeed: 433.62 samples/sec\tTrain-multi-accuracy_0=0.955469\n",
      "INFO:root:Epoch[125] Batch [50]\tSpeed: 434.62 samples/sec\tTrain-multi-accuracy_0=0.969531\n",
      "INFO:root:Epoch[125] Batch [60]\tSpeed: 434.27 samples/sec\tTrain-multi-accuracy_0=0.962500\n",
      "INFO:root:Epoch[125] Batch [70]\tSpeed: 433.83 samples/sec\tTrain-multi-accuracy_0=0.953906\n",
      "INFO:root:Epoch[125] Train-multi-accuracy_0=0.965402\n",
      "INFO:root:Epoch[125] Time cost=22.816\n"
     ]
    },
    {
     "name": "stdout",
     "output_type": "stream",
     "text": [
      "Epoch[125] Validation-multi-accuracy_0=0.511218\n"
     ]
    },
    {
     "name": "stderr",
     "output_type": "stream",
     "text": [
      "INFO:root:Epoch[126] Batch [10]\tSpeed: 434.79 samples/sec\tTrain-multi-accuracy_0=0.966619\n",
      "INFO:root:Epoch[126] Batch [20]\tSpeed: 434.30 samples/sec\tTrain-multi-accuracy_0=0.966406\n",
      "INFO:root:Epoch[126] Batch [30]\tSpeed: 434.29 samples/sec\tTrain-multi-accuracy_0=0.967187\n",
      "INFO:root:Epoch[126] Batch [40]\tSpeed: 435.29 samples/sec\tTrain-multi-accuracy_0=0.964844\n",
      "INFO:root:Epoch[126] Batch [50]\tSpeed: 434.70 samples/sec\tTrain-multi-accuracy_0=0.967187\n",
      "INFO:root:Epoch[126] Batch [60]\tSpeed: 434.67 samples/sec\tTrain-multi-accuracy_0=0.962500\n",
      "INFO:root:Epoch[126] Batch [70]\tSpeed: 434.65 samples/sec\tTrain-multi-accuracy_0=0.960156\n",
      "INFO:root:Epoch[126] Train-multi-accuracy_0=0.978795\n",
      "INFO:root:Epoch[126] Time cost=22.787\n"
     ]
    },
    {
     "name": "stdout",
     "output_type": "stream",
     "text": [
      "Epoch[126] Validation-multi-accuracy_0=0.509816\n"
     ]
    },
    {
     "name": "stderr",
     "output_type": "stream",
     "text": [
      "INFO:root:Epoch[127] Batch [10]\tSpeed: 434.84 samples/sec\tTrain-multi-accuracy_0=0.965909\n",
      "INFO:root:Epoch[127] Batch [20]\tSpeed: 435.10 samples/sec\tTrain-multi-accuracy_0=0.961719\n",
      "INFO:root:Epoch[127] Batch [30]\tSpeed: 432.98 samples/sec\tTrain-multi-accuracy_0=0.960156\n",
      "INFO:root:Epoch[127] Batch [40]\tSpeed: 434.59 samples/sec\tTrain-multi-accuracy_0=0.965625\n",
      "INFO:root:Epoch[127] Batch [50]\tSpeed: 433.62 samples/sec\tTrain-multi-accuracy_0=0.965625\n",
      "INFO:root:Epoch[127] Batch [60]\tSpeed: 434.12 samples/sec\tTrain-multi-accuracy_0=0.964063\n",
      "INFO:root:Epoch[127] Batch [70]\tSpeed: 434.33 samples/sec\tTrain-multi-accuracy_0=0.966406\n",
      "INFO:root:Epoch[127] Train-multi-accuracy_0=0.965402\n",
      "INFO:root:Epoch[127] Time cost=22.809\n"
     ]
    },
    {
     "name": "stdout",
     "output_type": "stream",
     "text": [
      "Epoch[127] Validation-multi-accuracy_0=0.506010\n"
     ]
    },
    {
     "name": "stderr",
     "output_type": "stream",
     "text": [
      "INFO:root:Epoch[128] Batch [10]\tSpeed: 423.92 samples/sec\tTrain-multi-accuracy_0=0.964489\n",
      "INFO:root:Epoch[128] Batch [20]\tSpeed: 433.75 samples/sec\tTrain-multi-accuracy_0=0.965625\n",
      "INFO:root:Epoch[128] Batch [30]\tSpeed: 433.10 samples/sec\tTrain-multi-accuracy_0=0.966406\n",
      "INFO:root:Epoch[128] Batch [40]\tSpeed: 433.54 samples/sec\tTrain-multi-accuracy_0=0.967187\n",
      "INFO:root:Epoch[128] Batch [50]\tSpeed: 433.22 samples/sec\tTrain-multi-accuracy_0=0.967187\n",
      "INFO:root:Epoch[128] Batch [60]\tSpeed: 433.86 samples/sec\tTrain-multi-accuracy_0=0.968750\n",
      "INFO:root:Epoch[128] Batch [70]\tSpeed: 433.69 samples/sec\tTrain-multi-accuracy_0=0.964844\n",
      "INFO:root:Epoch[128] Train-multi-accuracy_0=0.977539\n",
      "INFO:root:Epoch[128] Time cost=23.302\n"
     ]
    },
    {
     "name": "stdout",
     "output_type": "stream",
     "text": [
      "Epoch[128] Validation-multi-accuracy_0=0.512757\n"
     ]
    },
    {
     "name": "stderr",
     "output_type": "stream",
     "text": [
      "INFO:root:Epoch[129] Batch [10]\tSpeed: 432.84 samples/sec\tTrain-multi-accuracy_0=0.960227\n",
      "INFO:root:Epoch[129] Batch [20]\tSpeed: 433.57 samples/sec\tTrain-multi-accuracy_0=0.956250\n",
      "INFO:root:Epoch[129] Batch [30]\tSpeed: 433.44 samples/sec\tTrain-multi-accuracy_0=0.976562\n",
      "INFO:root:Epoch[129] Batch [40]\tSpeed: 434.06 samples/sec\tTrain-multi-accuracy_0=0.964063\n",
      "INFO:root:Epoch[129] Batch [50]\tSpeed: 433.77 samples/sec\tTrain-multi-accuracy_0=0.957812\n",
      "INFO:root:Epoch[129] Batch [60]\tSpeed: 434.22 samples/sec\tTrain-multi-accuracy_0=0.972656\n",
      "INFO:root:Epoch[129] Batch [70]\tSpeed: 433.60 samples/sec\tTrain-multi-accuracy_0=0.967969\n",
      "INFO:root:Epoch[129] Train-multi-accuracy_0=0.969866\n",
      "INFO:root:Epoch[129] Time cost=22.839\n"
     ]
    },
    {
     "name": "stdout",
     "output_type": "stream",
     "text": [
      "Epoch[129] Validation-multi-accuracy_0=0.504607\n"
     ]
    },
    {
     "name": "stderr",
     "output_type": "stream",
     "text": [
      "INFO:root:Epoch[130] Batch [10]\tSpeed: 432.19 samples/sec\tTrain-multi-accuracy_0=0.965199\n",
      "INFO:root:Epoch[130] Batch [20]\tSpeed: 431.44 samples/sec\tTrain-multi-accuracy_0=0.978125\n",
      "INFO:root:Epoch[130] Batch [30]\tSpeed: 433.51 samples/sec\tTrain-multi-accuracy_0=0.970313\n",
      "INFO:root:Epoch[130] Batch [40]\tSpeed: 431.63 samples/sec\tTrain-multi-accuracy_0=0.960156\n",
      "INFO:root:Epoch[130] Batch [50]\tSpeed: 432.89 samples/sec\tTrain-multi-accuracy_0=0.962500\n",
      "INFO:root:Epoch[130] Batch [60]\tSpeed: 432.15 samples/sec\tTrain-multi-accuracy_0=0.971094\n",
      "INFO:root:Epoch[130] Batch [70]\tSpeed: 433.97 samples/sec\tTrain-multi-accuracy_0=0.965625\n",
      "INFO:root:Epoch[130] Train-multi-accuracy_0=0.972098\n",
      "INFO:root:Epoch[130] Time cost=22.897\n"
     ]
    },
    {
     "name": "stdout",
     "output_type": "stream",
     "text": [
      "Epoch[130] Validation-multi-accuracy_0=0.503305\n"
     ]
    },
    {
     "name": "stderr",
     "output_type": "stream",
     "text": [
      "INFO:root:Epoch[131] Batch [10]\tSpeed: 432.31 samples/sec\tTrain-multi-accuracy_0=0.970881\n",
      "INFO:root:Epoch[131] Batch [20]\tSpeed: 433.93 samples/sec\tTrain-multi-accuracy_0=0.961719\n",
      "INFO:root:Epoch[131] Batch [30]\tSpeed: 432.67 samples/sec\tTrain-multi-accuracy_0=0.964844\n",
      "INFO:root:Epoch[131] Batch [40]\tSpeed: 433.86 samples/sec\tTrain-multi-accuracy_0=0.972656\n",
      "INFO:root:Epoch[131] Batch [50]\tSpeed: 433.70 samples/sec\tTrain-multi-accuracy_0=0.962500\n",
      "INFO:root:Epoch[131] Batch [60]\tSpeed: 433.43 samples/sec\tTrain-multi-accuracy_0=0.970313\n",
      "INFO:root:Epoch[131] Batch [70]\tSpeed: 433.75 samples/sec\tTrain-multi-accuracy_0=0.968750\n",
      "INFO:root:Epoch[131] Train-multi-accuracy_0=0.963170\n",
      "INFO:root:Epoch[131] Time cost=22.852\n"
     ]
    },
    {
     "name": "stdout",
     "output_type": "stream",
     "text": [
      "Epoch[131] Validation-multi-accuracy_0=0.507913\n"
     ]
    },
    {
     "name": "stderr",
     "output_type": "stream",
     "text": [
      "INFO:root:Epoch[132] Batch [10]\tSpeed: 434.01 samples/sec\tTrain-multi-accuracy_0=0.965909\n",
      "INFO:root:Epoch[132] Batch [20]\tSpeed: 433.10 samples/sec\tTrain-multi-accuracy_0=0.964063\n",
      "INFO:root:Epoch[132] Batch [30]\tSpeed: 431.89 samples/sec\tTrain-multi-accuracy_0=0.967969\n",
      "INFO:root:Epoch[132] Batch [40]\tSpeed: 431.48 samples/sec\tTrain-multi-accuracy_0=0.967187\n",
      "INFO:root:Epoch[132] Batch [50]\tSpeed: 434.28 samples/sec\tTrain-multi-accuracy_0=0.968750\n",
      "INFO:root:Epoch[132] Batch [60]\tSpeed: 431.38 samples/sec\tTrain-multi-accuracy_0=0.971094\n",
      "INFO:root:Epoch[132] Batch [70]\tSpeed: 431.59 samples/sec\tTrain-multi-accuracy_0=0.971094\n",
      "INFO:root:Epoch[132] Train-multi-accuracy_0=0.962054\n",
      "INFO:root:Epoch[132] Time cost=22.909\n"
     ]
    },
    {
     "name": "stdout",
     "output_type": "stream",
     "text": [
      "Epoch[132] Validation-multi-accuracy_0=0.511218\n"
     ]
    },
    {
     "name": "stderr",
     "output_type": "stream",
     "text": [
      "INFO:root:Epoch[133] Batch [10]\tSpeed: 384.01 samples/sec\tTrain-multi-accuracy_0=0.972301\n",
      "INFO:root:Epoch[133] Batch [20]\tSpeed: 434.13 samples/sec\tTrain-multi-accuracy_0=0.972656\n",
      "INFO:root:Epoch[133] Batch [30]\tSpeed: 435.17 samples/sec\tTrain-multi-accuracy_0=0.972656\n",
      "INFO:root:Epoch[133] Batch [40]\tSpeed: 434.45 samples/sec\tTrain-multi-accuracy_0=0.966406\n",
      "INFO:root:Epoch[133] Batch [50]\tSpeed: 433.71 samples/sec\tTrain-multi-accuracy_0=0.969531\n",
      "INFO:root:Epoch[133] Batch [60]\tSpeed: 432.52 samples/sec\tTrain-multi-accuracy_0=0.966406\n",
      "INFO:root:Epoch[133] Batch [70]\tSpeed: 432.86 samples/sec\tTrain-multi-accuracy_0=0.961719\n",
      "INFO:root:Epoch[133] Train-multi-accuracy_0=0.973214\n",
      "INFO:root:Epoch[133] Time cost=23.214\n"
     ]
    },
    {
     "name": "stdout",
     "output_type": "stream",
     "text": [
      "Epoch[133] Validation-multi-accuracy_0=0.511919\n"
     ]
    },
    {
     "name": "stderr",
     "output_type": "stream",
     "text": [
      "INFO:root:Epoch[134] Batch [10]\tSpeed: 432.74 samples/sec\tTrain-multi-accuracy_0=0.968040\n",
      "INFO:root:Epoch[134] Batch [20]\tSpeed: 433.79 samples/sec\tTrain-multi-accuracy_0=0.970313\n",
      "INFO:root:Epoch[134] Batch [30]\tSpeed: 432.41 samples/sec\tTrain-multi-accuracy_0=0.969531\n",
      "INFO:root:Epoch[134] Batch [40]\tSpeed: 434.15 samples/sec\tTrain-multi-accuracy_0=0.967187\n",
      "INFO:root:Epoch[134] Batch [50]\tSpeed: 431.58 samples/sec\tTrain-multi-accuracy_0=0.965625\n",
      "INFO:root:Epoch[134] Batch [60]\tSpeed: 432.65 samples/sec\tTrain-multi-accuracy_0=0.954688\n",
      "INFO:root:Epoch[134] Batch [70]\tSpeed: 433.34 samples/sec\tTrain-multi-accuracy_0=0.969531\n",
      "INFO:root:Epoch[134] Train-multi-accuracy_0=0.959821\n",
      "INFO:root:Epoch[134] Time cost=22.869\n"
     ]
    },
    {
     "name": "stdout",
     "output_type": "stream",
     "text": [
      "Epoch[134] Validation-multi-accuracy_0=0.507612\n"
     ]
    },
    {
     "name": "stderr",
     "output_type": "stream",
     "text": [
      "INFO:root:Epoch[135] Batch [10]\tSpeed: 433.47 samples/sec\tTrain-multi-accuracy_0=0.970170\n",
      "INFO:root:Epoch[135] Batch [20]\tSpeed: 433.84 samples/sec\tTrain-multi-accuracy_0=0.967969\n",
      "INFO:root:Epoch[135] Batch [30]\tSpeed: 434.56 samples/sec\tTrain-multi-accuracy_0=0.974219\n",
      "INFO:root:Epoch[135] Batch [40]\tSpeed: 433.81 samples/sec\tTrain-multi-accuracy_0=0.975000\n",
      "INFO:root:Epoch[135] Batch [50]\tSpeed: 433.20 samples/sec\tTrain-multi-accuracy_0=0.968750\n",
      "INFO:root:Epoch[135] Batch [60]\tSpeed: 433.58 samples/sec\tTrain-multi-accuracy_0=0.974219\n",
      "INFO:root:Epoch[135] Batch [70]\tSpeed: 432.59 samples/sec\tTrain-multi-accuracy_0=0.964844\n",
      "INFO:root:Epoch[135] Train-multi-accuracy_0=0.975446\n",
      "INFO:root:Epoch[135] Time cost=22.838\n"
     ]
    },
    {
     "name": "stdout",
     "output_type": "stream",
     "text": [
      "Epoch[135] Validation-multi-accuracy_0=0.506510\n"
     ]
    },
    {
     "name": "stderr",
     "output_type": "stream",
     "text": [
      "INFO:root:Epoch[136] Batch [10]\tSpeed: 435.04 samples/sec\tTrain-multi-accuracy_0=0.970881\n",
      "INFO:root:Epoch[136] Batch [20]\tSpeed: 432.30 samples/sec\tTrain-multi-accuracy_0=0.964844\n",
      "INFO:root:Epoch[136] Batch [30]\tSpeed: 432.08 samples/sec\tTrain-multi-accuracy_0=0.964844\n",
      "INFO:root:Epoch[136] Batch [40]\tSpeed: 433.63 samples/sec\tTrain-multi-accuracy_0=0.964844\n",
      "INFO:root:Epoch[136] Batch [50]\tSpeed: 433.46 samples/sec\tTrain-multi-accuracy_0=0.961719\n",
      "INFO:root:Epoch[136] Batch [60]\tSpeed: 434.09 samples/sec\tTrain-multi-accuracy_0=0.971094\n",
      "INFO:root:Epoch[136] Batch [70]\tSpeed: 434.60 samples/sec\tTrain-multi-accuracy_0=0.964063\n",
      "INFO:root:Epoch[136] Train-multi-accuracy_0=0.974609\n",
      "INFO:root:Epoch[136] Time cost=23.270\n"
     ]
    },
    {
     "name": "stdout",
     "output_type": "stream",
     "text": [
      "Epoch[136] Validation-multi-accuracy_0=0.506131\n"
     ]
    },
    {
     "name": "stderr",
     "output_type": "stream",
     "text": [
      "INFO:root:Epoch[137] Batch [10]\tSpeed: 433.20 samples/sec\tTrain-multi-accuracy_0=0.969460\n",
      "INFO:root:Epoch[137] Batch [20]\tSpeed: 433.10 samples/sec\tTrain-multi-accuracy_0=0.971094\n",
      "INFO:root:Epoch[137] Batch [30]\tSpeed: 433.00 samples/sec\tTrain-multi-accuracy_0=0.975781\n",
      "INFO:root:Epoch[137] Batch [40]\tSpeed: 433.86 samples/sec\tTrain-multi-accuracy_0=0.967969\n",
      "INFO:root:Epoch[137] Batch [50]\tSpeed: 433.39 samples/sec\tTrain-multi-accuracy_0=0.965625\n",
      "INFO:root:Epoch[137] Batch [60]\tSpeed: 432.51 samples/sec\tTrain-multi-accuracy_0=0.969531\n",
      "INFO:root:Epoch[137] Batch [70]\tSpeed: 433.30 samples/sec\tTrain-multi-accuracy_0=0.983594\n",
      "INFO:root:Epoch[137] Train-multi-accuracy_0=0.973214\n",
      "INFO:root:Epoch[137] Time cost=22.874\n"
     ]
    },
    {
     "name": "stdout",
     "output_type": "stream",
     "text": [
      "Epoch[137] Validation-multi-accuracy_0=0.509916\n"
     ]
    },
    {
     "name": "stderr",
     "output_type": "stream",
     "text": [
      "INFO:root:Epoch[138] Batch [10]\tSpeed: 433.54 samples/sec\tTrain-multi-accuracy_0=0.971591\n",
      "INFO:root:Epoch[138] Batch [20]\tSpeed: 433.96 samples/sec\tTrain-multi-accuracy_0=0.977344\n",
      "INFO:root:Epoch[138] Batch [30]\tSpeed: 433.65 samples/sec\tTrain-multi-accuracy_0=0.973437\n",
      "INFO:root:Epoch[138] Batch [40]\tSpeed: 433.18 samples/sec\tTrain-multi-accuracy_0=0.967187\n",
      "INFO:root:Epoch[138] Batch [50]\tSpeed: 433.97 samples/sec\tTrain-multi-accuracy_0=0.970313\n",
      "INFO:root:Epoch[138] Batch [60]\tSpeed: 433.55 samples/sec\tTrain-multi-accuracy_0=0.971094\n",
      "INFO:root:Epoch[138] Batch [70]\tSpeed: 432.31 samples/sec\tTrain-multi-accuracy_0=0.975000\n",
      "INFO:root:Epoch[138] Train-multi-accuracy_0=0.973214\n",
      "INFO:root:Epoch[138] Time cost=22.855\n"
     ]
    },
    {
     "name": "stdout",
     "output_type": "stream",
     "text": [
      "Epoch[138] Validation-multi-accuracy_0=0.507312\n"
     ]
    },
    {
     "name": "stderr",
     "output_type": "stream",
     "text": [
      "INFO:root:Epoch[139] Batch [10]\tSpeed: 433.77 samples/sec\tTrain-multi-accuracy_0=0.970881\n",
      "INFO:root:Epoch[139] Batch [20]\tSpeed: 433.46 samples/sec\tTrain-multi-accuracy_0=0.965625\n",
      "INFO:root:Epoch[139] Batch [30]\tSpeed: 433.37 samples/sec\tTrain-multi-accuracy_0=0.967187\n",
      "INFO:root:Epoch[139] Batch [40]\tSpeed: 432.26 samples/sec\tTrain-multi-accuracy_0=0.971875\n",
      "INFO:root:Epoch[139] Batch [50]\tSpeed: 433.97 samples/sec\tTrain-multi-accuracy_0=0.974219\n",
      "INFO:root:Epoch[139] Batch [60]\tSpeed: 433.22 samples/sec\tTrain-multi-accuracy_0=0.970313\n",
      "INFO:root:Epoch[139] Batch [70]\tSpeed: 434.71 samples/sec\tTrain-multi-accuracy_0=0.969531\n",
      "INFO:root:Epoch[139] Train-multi-accuracy_0=0.976562\n",
      "INFO:root:Epoch[139] Time cost=22.840\n"
     ]
    },
    {
     "name": "stdout",
     "output_type": "stream",
     "text": [
      "Epoch[139] Validation-multi-accuracy_0=0.506010\n"
     ]
    },
    {
     "name": "stderr",
     "output_type": "stream",
     "text": [
      "INFO:root:Epoch[140] Batch [10]\tSpeed: 434.92 samples/sec\tTrain-multi-accuracy_0=0.970170\n",
      "INFO:root:Epoch[140] Batch [20]\tSpeed: 434.23 samples/sec\tTrain-multi-accuracy_0=0.970313\n",
      "INFO:root:Epoch[140] Batch [30]\tSpeed: 435.33 samples/sec\tTrain-multi-accuracy_0=0.975781\n",
      "INFO:root:Epoch[140] Batch [40]\tSpeed: 434.54 samples/sec\tTrain-multi-accuracy_0=0.978125\n",
      "INFO:root:Epoch[140] Batch [50]\tSpeed: 434.44 samples/sec\tTrain-multi-accuracy_0=0.971094\n",
      "INFO:root:Epoch[140] Batch [60]\tSpeed: 434.06 samples/sec\tTrain-multi-accuracy_0=0.978125\n",
      "INFO:root:Epoch[140] Batch [70]\tSpeed: 434.60 samples/sec\tTrain-multi-accuracy_0=0.971094\n",
      "INFO:root:Epoch[140] Train-multi-accuracy_0=0.969866\n",
      "INFO:root:Epoch[140] Time cost=22.800\n"
     ]
    },
    {
     "name": "stdout",
     "output_type": "stream",
     "text": [
      "Epoch[140] Validation-multi-accuracy_0=0.509415\n"
     ]
    },
    {
     "name": "stderr",
     "output_type": "stream",
     "text": [
      "INFO:root:Epoch[141] Batch [10]\tSpeed: 433.22 samples/sec\tTrain-multi-accuracy_0=0.963068\n",
      "INFO:root:Epoch[141] Batch [20]\tSpeed: 434.10 samples/sec\tTrain-multi-accuracy_0=0.977344\n",
      "INFO:root:Epoch[141] Batch [30]\tSpeed: 434.64 samples/sec\tTrain-multi-accuracy_0=0.961719\n",
      "INFO:root:Epoch[141] Batch [40]\tSpeed: 434.69 samples/sec\tTrain-multi-accuracy_0=0.974219\n",
      "INFO:root:Epoch[141] Batch [50]\tSpeed: 434.58 samples/sec\tTrain-multi-accuracy_0=0.973437\n",
      "INFO:root:Epoch[141] Batch [60]\tSpeed: 433.74 samples/sec\tTrain-multi-accuracy_0=0.973437\n",
      "INFO:root:Epoch[141] Batch [70]\tSpeed: 433.08 samples/sec\tTrain-multi-accuracy_0=0.973437\n",
      "INFO:root:Epoch[141] Train-multi-accuracy_0=0.973214\n",
      "INFO:root:Epoch[141] Time cost=22.823\n"
     ]
    },
    {
     "name": "stdout",
     "output_type": "stream",
     "text": [
      "Epoch[141] Validation-multi-accuracy_0=0.510317\n"
     ]
    },
    {
     "name": "stderr",
     "output_type": "stream",
     "text": [
      "INFO:root:Epoch[142] Batch [10]\tSpeed: 434.46 samples/sec\tTrain-multi-accuracy_0=0.976562\n",
      "INFO:root:Epoch[142] Batch [20]\tSpeed: 433.94 samples/sec\tTrain-multi-accuracy_0=0.966406\n",
      "INFO:root:Epoch[142] Batch [30]\tSpeed: 432.35 samples/sec\tTrain-multi-accuracy_0=0.975781\n",
      "INFO:root:Epoch[142] Batch [40]\tSpeed: 434.49 samples/sec\tTrain-multi-accuracy_0=0.971875\n",
      "INFO:root:Epoch[142] Batch [50]\tSpeed: 434.33 samples/sec\tTrain-multi-accuracy_0=0.971094\n",
      "INFO:root:Epoch[142] Batch [60]\tSpeed: 433.76 samples/sec\tTrain-multi-accuracy_0=0.972656\n",
      "INFO:root:Epoch[142] Batch [70]\tSpeed: 433.70 samples/sec\tTrain-multi-accuracy_0=0.978906\n",
      "INFO:root:Epoch[142] Train-multi-accuracy_0=0.983259\n",
      "INFO:root:Epoch[142] Time cost=22.828\n"
     ]
    },
    {
     "name": "stdout",
     "output_type": "stream",
     "text": [
      "Epoch[142] Validation-multi-accuracy_0=0.507612\n"
     ]
    },
    {
     "name": "stderr",
     "output_type": "stream",
     "text": [
      "INFO:root:Epoch[143] Batch [10]\tSpeed: 434.35 samples/sec\tTrain-multi-accuracy_0=0.970881\n",
      "INFO:root:Epoch[143] Batch [20]\tSpeed: 434.15 samples/sec\tTrain-multi-accuracy_0=0.971875\n",
      "INFO:root:Epoch[143] Batch [30]\tSpeed: 433.21 samples/sec\tTrain-multi-accuracy_0=0.974219\n",
      "INFO:root:Epoch[143] Batch [40]\tSpeed: 434.62 samples/sec\tTrain-multi-accuracy_0=0.972656\n",
      "INFO:root:Epoch[143] Batch [50]\tSpeed: 433.95 samples/sec\tTrain-multi-accuracy_0=0.975000\n",
      "INFO:root:Epoch[143] Batch [60]\tSpeed: 433.77 samples/sec\tTrain-multi-accuracy_0=0.978125\n",
      "INFO:root:Epoch[143] Batch [70]\tSpeed: 433.33 samples/sec\tTrain-multi-accuracy_0=0.977344\n",
      "INFO:root:Epoch[143] Train-multi-accuracy_0=0.981027\n",
      "INFO:root:Epoch[143] Time cost=22.825\n"
     ]
    },
    {
     "name": "stdout",
     "output_type": "stream",
     "text": [
      "Epoch[143] Validation-multi-accuracy_0=0.508113\n"
     ]
    },
    {
     "name": "stderr",
     "output_type": "stream",
     "text": [
      "INFO:root:Epoch[144] Batch [10]\tSpeed: 434.76 samples/sec\tTrain-multi-accuracy_0=0.973011\n",
      "INFO:root:Epoch[144] Batch [20]\tSpeed: 434.55 samples/sec\tTrain-multi-accuracy_0=0.978906\n",
      "INFO:root:Epoch[144] Batch [30]\tSpeed: 434.22 samples/sec\tTrain-multi-accuracy_0=0.971875\n",
      "INFO:root:Epoch[144] Batch [40]\tSpeed: 434.07 samples/sec\tTrain-multi-accuracy_0=0.970313\n",
      "INFO:root:Epoch[144] Batch [50]\tSpeed: 434.71 samples/sec\tTrain-multi-accuracy_0=0.971875\n",
      "INFO:root:Epoch[144] Batch [60]\tSpeed: 434.57 samples/sec\tTrain-multi-accuracy_0=0.978906\n",
      "INFO:root:Epoch[144] Batch [70]\tSpeed: 433.74 samples/sec\tTrain-multi-accuracy_0=0.968750\n",
      "INFO:root:Epoch[144] Train-multi-accuracy_0=0.977539\n",
      "INFO:root:Epoch[144] Time cost=23.197\n"
     ]
    },
    {
     "name": "stdout",
     "output_type": "stream",
     "text": [
      "Epoch[144] Validation-multi-accuracy_0=0.509296\n"
     ]
    },
    {
     "name": "stderr",
     "output_type": "stream",
     "text": [
      "INFO:root:Epoch[145] Batch [10]\tSpeed: 433.15 samples/sec\tTrain-multi-accuracy_0=0.968040\n",
      "INFO:root:Epoch[145] Batch [20]\tSpeed: 434.44 samples/sec\tTrain-multi-accuracy_0=0.970313\n",
      "INFO:root:Epoch[145] Batch [30]\tSpeed: 434.10 samples/sec\tTrain-multi-accuracy_0=0.974219\n",
      "INFO:root:Epoch[145] Batch [40]\tSpeed: 433.63 samples/sec\tTrain-multi-accuracy_0=0.978125\n",
      "INFO:root:Epoch[145] Batch [50]\tSpeed: 434.90 samples/sec\tTrain-multi-accuracy_0=0.975781\n",
      "INFO:root:Epoch[145] Batch [60]\tSpeed: 433.53 samples/sec\tTrain-multi-accuracy_0=0.975781\n",
      "INFO:root:Epoch[145] Batch [70]\tSpeed: 433.18 samples/sec\tTrain-multi-accuracy_0=0.969531\n",
      "INFO:root:Epoch[145] Train-multi-accuracy_0=0.968750\n",
      "INFO:root:Epoch[145] Time cost=22.837\n"
     ]
    },
    {
     "name": "stdout",
     "output_type": "stream",
     "text": [
      "Epoch[145] Validation-multi-accuracy_0=0.510617\n"
     ]
    },
    {
     "name": "stderr",
     "output_type": "stream",
     "text": [
      "INFO:root:Epoch[146] Batch [10]\tSpeed: 433.64 samples/sec\tTrain-multi-accuracy_0=0.969460\n",
      "INFO:root:Epoch[146] Batch [20]\tSpeed: 434.18 samples/sec\tTrain-multi-accuracy_0=0.975781\n",
      "INFO:root:Epoch[146] Batch [30]\tSpeed: 432.25 samples/sec\tTrain-multi-accuracy_0=0.984375\n",
      "INFO:root:Epoch[146] Batch [40]\tSpeed: 434.37 samples/sec\tTrain-multi-accuracy_0=0.978906\n",
      "INFO:root:Epoch[146] Batch [50]\tSpeed: 433.34 samples/sec\tTrain-multi-accuracy_0=0.972656\n",
      "INFO:root:Epoch[146] Batch [60]\tSpeed: 435.10 samples/sec\tTrain-multi-accuracy_0=0.978906\n",
      "INFO:root:Epoch[146] Batch [70]\tSpeed: 434.74 samples/sec\tTrain-multi-accuracy_0=0.975000\n",
      "INFO:root:Epoch[146] Train-multi-accuracy_0=0.964286\n",
      "INFO:root:Epoch[146] Time cost=22.828\n"
     ]
    },
    {
     "name": "stdout",
     "output_type": "stream",
     "text": [
      "Epoch[146] Validation-multi-accuracy_0=0.511218\n"
     ]
    },
    {
     "name": "stderr",
     "output_type": "stream",
     "text": [
      "INFO:root:Epoch[147] Batch [10]\tSpeed: 432.49 samples/sec\tTrain-multi-accuracy_0=0.970170\n",
      "INFO:root:Epoch[147] Batch [20]\tSpeed: 433.06 samples/sec\tTrain-multi-accuracy_0=0.985938\n",
      "INFO:root:Epoch[147] Batch [30]\tSpeed: 435.13 samples/sec\tTrain-multi-accuracy_0=0.976562\n",
      "INFO:root:Epoch[147] Batch [40]\tSpeed: 434.26 samples/sec\tTrain-multi-accuracy_0=0.979688\n",
      "INFO:root:Epoch[147] Batch [50]\tSpeed: 433.83 samples/sec\tTrain-multi-accuracy_0=0.977344\n",
      "INFO:root:Epoch[147] Batch [60]\tSpeed: 434.04 samples/sec\tTrain-multi-accuracy_0=0.974219\n",
      "INFO:root:Epoch[147] Batch [70]\tSpeed: 433.65 samples/sec\tTrain-multi-accuracy_0=0.972656\n",
      "INFO:root:Epoch[147] Train-multi-accuracy_0=0.977679\n",
      "INFO:root:Epoch[147] Time cost=22.833\n"
     ]
    },
    {
     "name": "stdout",
     "output_type": "stream",
     "text": [
      "Epoch[147] Validation-multi-accuracy_0=0.512320\n"
     ]
    },
    {
     "name": "stderr",
     "output_type": "stream",
     "text": [
      "INFO:root:Epoch[148] Batch [10]\tSpeed: 432.50 samples/sec\tTrain-multi-accuracy_0=0.980824\n",
      "INFO:root:Epoch[148] Batch [20]\tSpeed: 434.27 samples/sec\tTrain-multi-accuracy_0=0.976562\n",
      "INFO:root:Epoch[148] Batch [30]\tSpeed: 434.54 samples/sec\tTrain-multi-accuracy_0=0.971875\n",
      "INFO:root:Epoch[148] Batch [40]\tSpeed: 434.83 samples/sec\tTrain-multi-accuracy_0=0.977344\n",
      "INFO:root:Epoch[148] Batch [50]\tSpeed: 435.32 samples/sec\tTrain-multi-accuracy_0=0.976562\n",
      "INFO:root:Epoch[148] Batch [60]\tSpeed: 435.35 samples/sec\tTrain-multi-accuracy_0=0.968750\n",
      "INFO:root:Epoch[148] Batch [70]\tSpeed: 434.35 samples/sec\tTrain-multi-accuracy_0=0.976562\n",
      "INFO:root:Epoch[148] Train-multi-accuracy_0=0.978795\n",
      "INFO:root:Epoch[148] Time cost=22.800\n"
     ]
    },
    {
     "name": "stdout",
     "output_type": "stream",
     "text": [
      "Epoch[148] Validation-multi-accuracy_0=0.508213\n"
     ]
    },
    {
     "name": "stderr",
     "output_type": "stream",
     "text": [
      "INFO:root:Epoch[149] Batch [10]\tSpeed: 433.26 samples/sec\tTrain-multi-accuracy_0=0.972301\n",
      "INFO:root:Epoch[149] Batch [20]\tSpeed: 434.63 samples/sec\tTrain-multi-accuracy_0=0.971875\n",
      "INFO:root:Epoch[149] Batch [30]\tSpeed: 434.63 samples/sec\tTrain-multi-accuracy_0=0.981250\n",
      "INFO:root:Epoch[149] Batch [40]\tSpeed: 433.60 samples/sec\tTrain-multi-accuracy_0=0.974219\n",
      "INFO:root:Epoch[149] Batch [50]\tSpeed: 433.38 samples/sec\tTrain-multi-accuracy_0=0.974219\n",
      "INFO:root:Epoch[149] Batch [60]\tSpeed: 433.67 samples/sec\tTrain-multi-accuracy_0=0.971094\n",
      "INFO:root:Epoch[149] Batch [70]\tSpeed: 433.48 samples/sec\tTrain-multi-accuracy_0=0.971094\n",
      "INFO:root:Epoch[149] Train-multi-accuracy_0=0.985491\n",
      "INFO:root:Epoch[149] Time cost=22.831\n"
     ]
    },
    {
     "name": "stdout",
     "output_type": "stream",
     "text": [
      "Epoch[149] Validation-multi-accuracy_0=0.512620\n"
     ]
    }
   ],
   "source": [
    "train_sup.reset()\n",
    "train_unsup.reset()\n",
    "\n",
    "net = build()\n",
    "\n",
    "model = fit_model(args, net, (train, val))"
   ]
  },
  {
   "cell_type": "code",
   "execution_count": null,
   "metadata": {
    "collapsed": true
   },
   "outputs": [],
   "source": [
    "# batch 10 train 0.389, valid: 0.40"
   ]
  },
  {
   "cell_type": "code",
   "execution_count": null,
   "metadata": {
    "collapsed": true
   },
   "outputs": [],
   "source": []
  }
 ],
 "metadata": {
  "kernelspec": {
   "display_name": "Python 3",
   "language": "python",
   "name": "python3"
  },
  "language_info": {
   "codemirror_mode": {
    "name": "ipython",
    "version": 3
   },
   "file_extension": ".py",
   "mimetype": "text/x-python",
   "name": "python",
   "nbconvert_exporter": "python",
   "pygments_lexer": "ipython3",
   "version": "3.4.3"
  }
 },
 "nbformat": 4,
 "nbformat_minor": 2
}
