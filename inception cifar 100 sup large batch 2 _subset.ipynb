{
 "cells": [
  {
   "cell_type": "code",
   "execution_count": 29,
   "metadata": {
    "collapsed": true
   },
   "outputs": [],
   "source": [
    "import os\n",
    "import argparse\n",
    "import logging\n",
    "logging.basicConfig(level=logging.INFO)\n",
    "from common import data, fit\n",
    "from common.util import download_file\n",
    "import mxnet as mx\n",
    "import numpy as np\n",
    "from mxnet.symbol import *"
   ]
  },
  {
   "cell_type": "code",
   "execution_count": 30,
   "metadata": {},
   "outputs": [
    {
     "name": "stdout",
     "output_type": "stream",
     "text": [
      "The autoreload extension is already loaded. To reload it, use:\n",
      "  %reload_ext autoreload\n"
     ]
    }
   ],
   "source": [
    "%load_ext autoreload\n",
    "%autoreload 2"
   ]
  },
  {
   "cell_type": "code",
   "execution_count": 31,
   "metadata": {
    "collapsed": true
   },
   "outputs": [],
   "source": [
    "def download_cifar100():\n",
    "    data_dir=\"/efs/data/cifar-100-mxnet\"\n",
    "    #data_dir=\"/data/cifar-100-mxnet\"\n",
    "    fnames = (os.path.join(data_dir, \"train.rec\"),\n",
    "              os.path.join(data_dir, \"test.rec\"))\n",
    "    return fnames"
   ]
  },
  {
   "cell_type": "code",
   "execution_count": 37,
   "metadata": {
    "collapsed": true
   },
   "outputs": [],
   "source": [
    "(train_fname, val_fname) = download_cifar100()\n",
    "\n",
    "# parse args\n",
    "parser = argparse.ArgumentParser(description=\"train cifar100\",\n",
    "                                 formatter_class=argparse.ArgumentDefaultsHelpFormatter)\n",
    "fit.add_fit_args(parser)\n",
    "data.add_data_args(parser)\n",
    "data.add_data_aug_args(parser)\n",
    "data.set_data_aug_level(parser, 2)\n",
    "\n",
    "num_unsup_examples = 50000\n",
    "subset_factor = 5\n",
    "\n",
    "parser.set_defaults(\n",
    "    # data\n",
    "    data_train     = train_fname,\n",
    "    data_val       = val_fname,\n",
    "    num_classes    = 100,\n",
    "    image_shape    = '3,28,28',\n",
    "    prefix         = 'cifar_sup_subset2',\n",
    "    pad_size       = 2,\n",
    "    # train\n",
    "    batch_size     = 80,  # todo currently has to devide 'num_validation_samples'\n",
    "    num_epochs     = 120,\n",
    "    lr_step_epochs = '90',\n",
    "    gpus           = '4,5,6,7',\n",
    "    loss_gpu       = 0,\n",
    "    disp_batches   = 20,\n",
    "    num_examples   = num_unsup_examples / subset_factor, \n",
    "    wd             = 1e-4,\n",
    "    lr             = .05,\n",
    "    lr_factor      = .2,\n",
    "    nembeddings    = 256,\n",
    "    optimizer      = 'sgd'\n",
    ")\n",
    "\n",
    "args = parser.parse_args(\"\")\n",
    "\n",
    "unsup_multiplier = 0\n",
    "labeled_per_class = 500 / subset_factor\n",
    "\n",
    "sample_seed = 47\n",
    "val_interval = 1\n",
    "save_interval = 5"
   ]
  },
  {
   "cell_type": "code",
   "execution_count": 38,
   "metadata": {},
   "outputs": [
    {
     "name": "stdout",
     "output_type": "stream",
     "text": [
      "0  times more unsup data than sup data\n"
     ]
    }
   ],
   "source": [
    "from common.multi_iterator import Multi_iterator\n",
    "from common.data import get_partial_rec_iter\n",
    "\n",
    "(train_sup, val) = get_partial_rec_iter(args, get_val=True, devide_by=subset_factor, shuffle=True)\n",
    "(train_unsup, _) = get_partial_rec_iter(args, get_val=False, devide_by=1, shuffle=True)\n",
    "    \n",
    "num_sup_examples = labeled_per_class * args.num_classes\n",
    "train = Multi_iterator(train_sup, train_unsup, unsup_multiplier, num_unsup_examples, num_sup_examples)"
   ]
  },
  {
   "cell_type": "code",
   "execution_count": 39,
   "metadata": {},
   "outputs": [
    {
     "name": "stdout",
     "output_type": "stream",
     "text": [
      "[11250.0]\n"
     ]
    }
   ],
   "source": [
    "from symbols import inception_cifar as base_net\n",
    "from common.lba import compute_semisup_loss, logit_loss\n",
    "from common.wrapper_module import get_embedding_shapes\n",
    "\n",
    "# kvstore\n",
    "kv = mx.kvstore.create(args.kv_store)\n",
    "\n",
    "t_nb = args.batch_size * unsup_multiplier\n",
    "#initializer = mx.init.Xavier(rnd_type='gaussian', factor_type=\"avg\", magnitude=2.34)\n",
    "initializer = mx.init.Uniform(0.01)\n",
    "\n",
    "lr, lr_scheduler = fit._get_lr_scheduler(args, kv)\n",
    "\n",
    "def buildEmbeddingModule(arg_p=None, aux_p=None):\n",
    "    dataSup = mx.symbol.Variable(name=\"dataSup\")\n",
    "    dataUnsup = []\n",
    "    for i in range(unsup_multiplier):\n",
    "        dataUnsup.append(Variable(name=\"dataUnsup\"+str(i)))\n",
    "\n",
    "    # concat data, feed both through the network\n",
    "    # then split it up again\n",
    "    data = concat(dataSup, *dataUnsup, dim=0)\n",
    "\n",
    "    embeddings = base_net.build_embeddings(data, nembeddings=args.nembeddings)\n",
    "    splitted = split(embeddings, num_outputs=(unsup_multiplier+1), axis=0, name='split')\n",
    "    \n",
    "    # devices for training\n",
    "    devs = mx.cpu() if args.gpus is None or args.gpus is '' else [\n",
    "        mx.gpu(int(i)) for i in args.gpus.split(',')]\n",
    "\n",
    "    data_names = ['dataSup'] + ['dataUnsup'+str(i) for i in range(unsup_multiplier)]\n",
    "        \n",
    "    # create model\n",
    "    model = mx.mod.Module(\n",
    "        context       = devs,\n",
    "        symbol        = splitted,\n",
    "        data_names    = data_names,\n",
    "        label_names   = None)\n",
    "    \n",
    "    model.bind(data_shapes=train.provide_data)         \n",
    "    model.init_params(initializer, arg_p, aux_p)    \n",
    "    model.init_optimizer(optimizer=args.optimizer, optimizer_params=(\n",
    "       ('learning_rate', lr), \n",
    "       ('wd', 1e-4),\n",
    "       ('momentum', args.mom),\n",
    "       #('rescale_grad', 1/args),\n",
    "       ('lr_scheduler', lr_scheduler)))\n",
    "\n",
    "    return model\n",
    "\n",
    "\n",
    "def buildSupLossModule(arg_p=None, aux_p=None):\n",
    "    supEmbeddings = Variable(name=\"embeddings_sup\")\n",
    "    labelSup = mx.symbol.Variable(name='labelSup')\n",
    "    overall_loss = []\n",
    "    \n",
    "    if unsup_multiplier >= 1:\n",
    "        unsupEmbeddings = []\n",
    "        for i in range(unsup_multiplier):\n",
    "            unsupEmbeddings.append(Variable(name=\"embeddings_unsup\"+str(i)))\n",
    "    \n",
    "        unsupEmbeddings = concat(*unsupEmbeddings, dim=0)\n",
    "            \n",
    "        (walker_loss, visit_loss) = compute_semisup_loss(supEmbeddings, unsupEmbeddings, labelSup, t_nb, \n",
    "                                                     walker_weight=1.0, visit_weight=0.5)\n",
    "        #overall_loss = [walker_loss, visit_loss]\n",
    "        \n",
    "    overall_loss = [logit_loss(supEmbeddings, labelSup, args.num_classes)] + overall_loss\n",
    "    \n",
    "    # todo maybe use gpu\n",
    "    devs = mx.cpu() if args.loss_gpu is None or args.loss_gpu is '' else mx.gpu(args.loss_gpu)\n",
    "\n",
    "    # create module\n",
    "    model = mx.mod.Module(\n",
    "        context = devs,\n",
    "        symbol  = Group(overall_loss),\n",
    "        data_names = ['embeddings_sup'],#+['embeddings_unsup'+str(i) for i in range(unsup_multiplier)],\n",
    "        label_names = ['labelSup'])\n",
    "    \n",
    "    # allocate memory by given the input data and label shapes\n",
    "    model.bind(data_shapes=[get_embedding_shapes(args.batch_size, args.nembeddings, unsup_multiplier)[0]], \n",
    "               label_shapes=train.provide_label,\n",
    "               inputs_need_grad=True)\n",
    "            \n",
    "    model.init_params(initializer, arg_p, aux_p)    \n",
    "    model.init_optimizer(optimizer=args.optimizer, optimizer_params=(\n",
    "        ('learning_rate', lr), \n",
    "        #('rescale_grad', 0.005),\n",
    "        ('momentum', args.mom),\n",
    "        ('wd', 1e-4),\n",
    "        ('lr_scheduler', lr_scheduler)))\n",
    "    \n",
    "    return model\n",
    "\n",
    "\n",
    "def buildLossModule(arg_p=None, aux_p=None):\n",
    "    supEmbeddings = Variable(name=\"embeddings_sup\")\n",
    "    labelSup = mx.symbol.Variable(name='labelSup')\n",
    "    overall_loss = []\n",
    "    \n",
    "    if unsup_multiplier >= 1:\n",
    "        unsupEmbeddings = []\n",
    "        for i in range(unsup_multiplier):\n",
    "            unsupEmbeddings.append(Variable(name=\"embeddings_unsup\"+str(i)))\n",
    "    \n",
    "        unsupEmbeddings = concat(*unsupEmbeddings, dim=0)\n",
    "            \n",
    "        (walker_loss, visit_loss) = compute_semisup_loss(supEmbeddings, unsupEmbeddings, labelSup, t_nb, \n",
    "                                                     walker_weight=0.8, visit_weight=0.5)\n",
    "        overall_loss = [walker_loss, visit_loss]\n",
    "        \n",
    "    overall_loss = [logit_loss(supEmbeddings, labelSup, args.num_classes)] + overall_loss\n",
    "    \n",
    "    # todo maybe use gpu\n",
    "    devs = mx.cpu() if args.loss_gpu is None or args.loss_gpu is '' else mx.gpu(args.loss_gpu)\n",
    "\n",
    "    # create module\n",
    "    model = mx.mod.Module(\n",
    "        context = devs,\n",
    "        symbol  = Group(overall_loss),\n",
    "        data_names = ['embeddings_sup']+['embeddings_unsup'+str(i) for i in range(unsup_multiplier)],\n",
    "        label_names = ['labelSup'])\n",
    "    \n",
    "    # allocate memory by given the input data and label shapes\n",
    "    model.bind(data_shapes=get_embedding_shapes(args.batch_size, args.nembeddings, unsup_multiplier), \n",
    "               label_shapes=train.provide_label,\n",
    "               inputs_need_grad=True)\n",
    "            \n",
    "    model.init_params(initializer, arg_p, aux_p)    \n",
    "    model.init_optimizer(optimizer=args.optimizer, optimizer_params=(\n",
    "        ('learning_rate', lr), \n",
    "        #('rescale_grad', 0.005),\n",
    "        ('momentum', args.mom),\n",
    "        ('wd', 1e-4),\n",
    "        ('lr_scheduler', lr_scheduler)))\n",
    "    \n",
    "    return model"
   ]
  },
  {
   "cell_type": "code",
   "execution_count": null,
   "metadata": {
    "collapsed": true
   },
   "outputs": [],
   "source": [
    "from common.wrapper_module import WrapperModule\n",
    "#eval_metrics = Multi_Accuracy(num= 3 if unsup_multiplier >= 1 else 1)\n",
    "                    \n",
    "def fit_model(args, embeddingModule, lossModule, data, **kwargs):\n",
    "    \"\"\"\n",
    "    train a model\n",
    "    args : argparse returns\n",
    "    data_loader : function that returns the train and val data iterators\n",
    "    \"\"\"\n",
    "    # logging\n",
    "    head = '%(asctime)-15s Node[' + str(kv.rank) + '] %(message)s'\n",
    "    logging.basicConfig(level=logging.DEBUG, format=head)\n",
    "    logging.info('start with arguments %s', args)\n",
    "    \n",
    "    # data iterators\n",
    "    (train, val) = data\n",
    "\n",
    "    # load model\n",
    "    if 'arg_params' in kwargs and 'aux_params' in kwargs:\n",
    "        arg_params = kwargs['arg_params']\n",
    "        aux_params = kwargs['aux_params']\n",
    "    else: \n",
    "        sym, arg_params, aux_params = fit._load_model(args, kv.rank)\n",
    "        \n",
    "    # save model\n",
    "    checkpoint = fit._save_model(args, kv.rank)\n",
    "\n",
    "    model = WrapperModule(embeddingModule, lossModule, unsup_multiplier)\n",
    "    \n",
    "    logf = open(args.prefix+'logs', 'w')\n",
    "    def validate_model(epoch, *args_):\n",
    "        if epoch % val_interval != 0: \n",
    "            return\n",
    "        res = model.score(val)\n",
    "        #TODO: pull this into default\n",
    "        print('Epoch[%d] Validation-accuracy=%f' % (epoch,  res))\n",
    "        logf.write('Epoch[%d] Validation-accuracy=%f \\n' % (epoch,  res))  # python will convert \\n to os.linesep\n",
    "        logf.flush()\n",
    "\n",
    "        if epoch % save_interval == 0:\n",
    "            model.save_checkpoint(args.prefix, epoch)\n",
    "\n",
    "    #monitor = mx.mon.Monitor(interval=1000, pattern='.*aba_backward.*') \n",
    "    monitor = mx.mon.Monitor(interval=1000, pattern='.*') \n",
    "    \n",
    "    # callbacks that run after each batch\n",
    "    batch_end_callbacks = [mx.callback.Speedometer(args.batch_size*(unsup_multiplier+1), args.disp_batches)]\n",
    "    \n",
    "    epoch_end_callbacks = validate_model\n",
    "\n",
    "    # run\n",
    "    model.fit(train,\n",
    "        begin_epoch        = args.load_epoch if args.load_epoch else 0,\n",
    "        num_epoch          = args.num_epochs,\n",
    "        #eval_data          = val,\n",
    "        #eval_metric        = eval_metrics,\n",
    "        kvstore            = kv,\n",
    "        arg_params         = arg_params,\n",
    "        aux_params         = aux_params,\n",
    "        batch_end_callback = batch_end_callbacks,\n",
    "        epoch_end_callback = epoch_end_callbacks,\n",
    "        allow_missing      = True\n",
    "        #monitor            = monitor\n",
    "             )\n",
    "    logf.close()\n",
    "    return model"
   ]
  },
  {
   "cell_type": "code",
   "execution_count": null,
   "metadata": {
    "scrolled": true
   },
   "outputs": [
    {
     "name": "stderr",
     "output_type": "stream",
     "text": [
      "INFO:root:start with arguments Namespace(batch_size=80, benchmark=0, data_nthreads=4, data_train='/efs/data/cifar-100-mxnet/train.rec', data_val='/efs/data/cifar-100-mxnet/test.rec', disp_batches=20, dtype='float32', gpus='4,5,6,7', image_shape='3,28,28', kv_store='device', load_epoch=None, loss_gpu=0, lr=0.05, lr_factor=0.2, lr_step_epochs='90', max_random_aspect_ratio=0, max_random_h=36, max_random_l=50, max_random_rotate_angle=0, max_random_s=50, max_random_scale=1, max_random_shear_ratio=0, min_random_scale=1, model_prefix=None, mom=0.9, monitor=0, nembeddings=256, network=None, num_classes=100, num_epochs=120, num_examples=10000.0, num_layers=None, optimizer='sgd', pad_size=2, prefix='cifar_sup_subset2', random_crop=1, random_mirror=1, rgb_mean='123.68,116.779,103.939', test_io=0, top_k=0, wd=0.0001)\n",
      "INFO:root:Epoch[0] Batch [20]\tSpeed: 385.12 samples/sec\taccuracy=nan\n",
      "INFO:root:Epoch[0] Batch [40]\tSpeed: 378.89 samples/sec\taccuracy=nan\n",
      "INFO:root:Epoch[0] Batch [60]\tSpeed: 379.85 samples/sec\taccuracy=nan\n",
      "INFO:root:Epoch[0] Batch [80]\tSpeed: 381.89 samples/sec\taccuracy=nan\n",
      "INFO:root:Epoch[0] Batch [100]\tSpeed: 382.42 samples/sec\taccuracy=nan\n",
      "INFO:root:Epoch[0] Batch [120]\tSpeed: 380.62 samples/sec\taccuracy=nan\n",
      "INFO:root:Epoch[0] Train-accuracy=nan\n",
      "INFO:root:Epoch[0] Time cost=26.627\n"
     ]
    },
    {
     "name": "stdout",
     "output_type": "stream",
     "text": [
      "Epoch[0] Validation-accuracy=0.023400\n"
     ]
    },
    {
     "name": "stderr",
     "output_type": "stream",
     "text": [
      "INFO:root:Saved checkpoint to \"emb_cifar_sup_subset2-0000.params\"\n",
      "INFO:root:Saved checkpoint to \"loss_cifar_sup_subset2-0000.params\"\n",
      "INFO:root:Epoch[1] Batch [20]\tSpeed: 377.57 samples/sec\taccuracy=nan\n",
      "INFO:root:Epoch[1] Batch [40]\tSpeed: 378.49 samples/sec\taccuracy=nan\n",
      "INFO:root:Epoch[1] Batch [60]\tSpeed: 376.90 samples/sec\taccuracy=nan\n",
      "INFO:root:Epoch[1] Batch [80]\tSpeed: 379.19 samples/sec\taccuracy=nan\n",
      "INFO:root:Epoch[1] Batch [100]\tSpeed: 378.85 samples/sec\taccuracy=nan\n",
      "INFO:root:Epoch[1] Batch [120]\tSpeed: 379.10 samples/sec\taccuracy=nan\n",
      "INFO:root:Epoch[1] Train-accuracy=nan\n",
      "INFO:root:Epoch[1] Time cost=26.473\n"
     ]
    },
    {
     "name": "stdout",
     "output_type": "stream",
     "text": [
      "Epoch[1] Validation-accuracy=0.041100\n"
     ]
    },
    {
     "name": "stderr",
     "output_type": "stream",
     "text": [
      "INFO:root:Epoch[2] Batch [20]\tSpeed: 378.71 samples/sec\taccuracy=nan\n",
      "INFO:root:Epoch[2] Batch [40]\tSpeed: 378.51 samples/sec\taccuracy=nan\n",
      "INFO:root:Epoch[2] Batch [60]\tSpeed: 378.14 samples/sec\taccuracy=nan\n",
      "INFO:root:Epoch[2] Batch [80]\tSpeed: 376.75 samples/sec\taccuracy=nan\n",
      "INFO:root:Epoch[2] Batch [100]\tSpeed: 377.37 samples/sec\taccuracy=nan\n",
      "INFO:root:Epoch[2] Batch [120]\tSpeed: 379.48 samples/sec\taccuracy=nan\n",
      "INFO:root:Epoch[2] Train-accuracy=nan\n",
      "INFO:root:Epoch[2] Time cost=26.472\n"
     ]
    },
    {
     "name": "stdout",
     "output_type": "stream",
     "text": [
      "Epoch[2] Validation-accuracy=0.057300\n"
     ]
    },
    {
     "name": "stderr",
     "output_type": "stream",
     "text": [
      "INFO:root:Epoch[3] Batch [20]\tSpeed: 377.48 samples/sec\taccuracy=nan\n",
      "INFO:root:Epoch[3] Batch [40]\tSpeed: 378.14 samples/sec\taccuracy=nan\n",
      "INFO:root:Epoch[3] Batch [60]\tSpeed: 377.38 samples/sec\taccuracy=nan\n",
      "INFO:root:Epoch[3] Batch [80]\tSpeed: 376.73 samples/sec\taccuracy=nan\n",
      "INFO:root:Epoch[3] Batch [100]\tSpeed: 375.45 samples/sec\taccuracy=nan\n",
      "INFO:root:Epoch[3] Batch [120]\tSpeed: 377.09 samples/sec\taccuracy=nan\n",
      "INFO:root:Epoch[3] Train-accuracy=nan\n",
      "INFO:root:Epoch[3] Time cost=26.514\n"
     ]
    },
    {
     "name": "stdout",
     "output_type": "stream",
     "text": [
      "Epoch[3] Validation-accuracy=0.075300\n"
     ]
    },
    {
     "name": "stderr",
     "output_type": "stream",
     "text": [
      "INFO:root:Epoch[4] Batch [20]\tSpeed: 378.93 samples/sec\taccuracy=nan\n",
      "INFO:root:Epoch[4] Batch [40]\tSpeed: 376.90 samples/sec\taccuracy=nan\n",
      "INFO:root:Epoch[4] Batch [60]\tSpeed: 376.53 samples/sec\taccuracy=nan\n",
      "INFO:root:Epoch[4] Batch [80]\tSpeed: 376.23 samples/sec\taccuracy=nan\n",
      "INFO:root:Epoch[4] Batch [100]\tSpeed: 375.92 samples/sec\taccuracy=nan\n",
      "INFO:root:Epoch[4] Batch [120]\tSpeed: 377.36 samples/sec\taccuracy=nan\n",
      "INFO:root:Epoch[4] Train-accuracy=nan\n",
      "INFO:root:Epoch[4] Time cost=26.572\n"
     ]
    },
    {
     "name": "stdout",
     "output_type": "stream",
     "text": [
      "Epoch[4] Validation-accuracy=0.104800\n"
     ]
    },
    {
     "name": "stderr",
     "output_type": "stream",
     "text": [
      "INFO:root:Epoch[5] Batch [20]\tSpeed: 377.51 samples/sec\taccuracy=nan\n",
      "INFO:root:Epoch[5] Batch [40]\tSpeed: 376.96 samples/sec\taccuracy=nan\n",
      "INFO:root:Epoch[5] Batch [60]\tSpeed: 376.54 samples/sec\taccuracy=nan\n",
      "INFO:root:Epoch[5] Batch [80]\tSpeed: 378.16 samples/sec\taccuracy=nan\n",
      "INFO:root:Epoch[5] Batch [100]\tSpeed: 379.54 samples/sec\taccuracy=nan\n",
      "INFO:root:Epoch[5] Batch [120]\tSpeed: 379.47 samples/sec\taccuracy=nan\n",
      "INFO:root:Epoch[5] Train-accuracy=nan\n",
      "INFO:root:Epoch[5] Time cost=26.446\n"
     ]
    },
    {
     "name": "stdout",
     "output_type": "stream",
     "text": [
      "Epoch[5] Validation-accuracy=0.125800\n"
     ]
    },
    {
     "name": "stderr",
     "output_type": "stream",
     "text": [
      "INFO:root:Saved checkpoint to \"emb_cifar_sup_subset2-0005.params\"\n",
      "INFO:root:Saved checkpoint to \"loss_cifar_sup_subset2-0005.params\"\n",
      "INFO:root:Epoch[6] Batch [20]\tSpeed: 377.68 samples/sec\taccuracy=nan\n",
      "INFO:root:Epoch[6] Batch [40]\tSpeed: 377.02 samples/sec\taccuracy=nan\n",
      "INFO:root:Epoch[6] Batch [60]\tSpeed: 376.88 samples/sec\taccuracy=nan\n",
      "INFO:root:Epoch[6] Batch [80]\tSpeed: 376.05 samples/sec\taccuracy=nan\n",
      "INFO:root:Epoch[6] Batch [100]\tSpeed: 375.51 samples/sec\taccuracy=nan\n",
      "INFO:root:Epoch[6] Batch [120]\tSpeed: 377.21 samples/sec\taccuracy=nan\n",
      "INFO:root:Epoch[6] Train-accuracy=nan\n",
      "INFO:root:Epoch[6] Time cost=26.583\n"
     ]
    },
    {
     "name": "stdout",
     "output_type": "stream",
     "text": [
      "Epoch[6] Validation-accuracy=0.094700\n"
     ]
    },
    {
     "name": "stderr",
     "output_type": "stream",
     "text": [
      "INFO:root:Epoch[7] Batch [20]\tSpeed: 376.56 samples/sec\taccuracy=nan\n",
      "INFO:root:Epoch[7] Batch [40]\tSpeed: 375.67 samples/sec\taccuracy=nan\n",
      "INFO:root:Epoch[7] Batch [60]\tSpeed: 376.81 samples/sec\taccuracy=nan\n",
      "INFO:root:Epoch[7] Batch [80]\tSpeed: 377.81 samples/sec\taccuracy=nan\n",
      "INFO:root:Epoch[7] Batch [100]\tSpeed: 377.88 samples/sec\taccuracy=nan\n",
      "INFO:root:Epoch[7] Batch [120]\tSpeed: 375.62 samples/sec\taccuracy=nan\n",
      "INFO:root:Epoch[7] Train-accuracy=nan\n",
      "INFO:root:Epoch[7] Time cost=26.538\n"
     ]
    },
    {
     "name": "stdout",
     "output_type": "stream",
     "text": [
      "Epoch[7] Validation-accuracy=0.153800\n"
     ]
    },
    {
     "name": "stderr",
     "output_type": "stream",
     "text": [
      "INFO:root:Epoch[8] Batch [20]\tSpeed: 377.65 samples/sec\taccuracy=nan\n",
      "INFO:root:Epoch[8] Batch [40]\tSpeed: 378.64 samples/sec\taccuracy=nan\n",
      "INFO:root:Epoch[8] Batch [60]\tSpeed: 375.32 samples/sec\taccuracy=nan\n",
      "INFO:root:Epoch[8] Batch [80]\tSpeed: 382.41 samples/sec\taccuracy=nan\n",
      "INFO:root:Epoch[8] Batch [100]\tSpeed: 384.10 samples/sec\taccuracy=nan\n",
      "INFO:root:Epoch[8] Batch [120]\tSpeed: 383.92 samples/sec\taccuracy=nan\n",
      "INFO:root:Epoch[8] Train-accuracy=nan\n",
      "INFO:root:Epoch[8] Time cost=26.326\n"
     ]
    },
    {
     "name": "stdout",
     "output_type": "stream",
     "text": [
      "Epoch[8] Validation-accuracy=0.161000\n"
     ]
    },
    {
     "name": "stderr",
     "output_type": "stream",
     "text": [
      "INFO:root:Epoch[9] Batch [20]\tSpeed: 378.62 samples/sec\taccuracy=nan\n",
      "INFO:root:Epoch[9] Batch [40]\tSpeed: 375.40 samples/sec\taccuracy=nan\n",
      "INFO:root:Epoch[9] Batch [60]\tSpeed: 372.58 samples/sec\taccuracy=nan\n",
      "INFO:root:Epoch[9] Batch [80]\tSpeed: 376.19 samples/sec\taccuracy=nan\n",
      "INFO:root:Epoch[9] Batch [100]\tSpeed: 374.49 samples/sec\taccuracy=nan\n",
      "INFO:root:Epoch[9] Batch [120]\tSpeed: 376.07 samples/sec\taccuracy=nan\n",
      "INFO:root:Epoch[9] Train-accuracy=nan\n",
      "INFO:root:Epoch[9] Time cost=26.665\n"
     ]
    },
    {
     "name": "stdout",
     "output_type": "stream",
     "text": [
      "Epoch[9] Validation-accuracy=0.162500\n"
     ]
    },
    {
     "name": "stderr",
     "output_type": "stream",
     "text": [
      "INFO:root:Epoch[10] Batch [20]\tSpeed: 375.64 samples/sec\taccuracy=nan\n",
      "INFO:root:Epoch[10] Batch [40]\tSpeed: 376.68 samples/sec\taccuracy=nan\n",
      "INFO:root:Epoch[10] Batch [60]\tSpeed: 374.97 samples/sec\taccuracy=nan\n",
      "INFO:root:Epoch[10] Batch [80]\tSpeed: 377.37 samples/sec\taccuracy=nan\n",
      "INFO:root:Epoch[10] Batch [100]\tSpeed: 376.09 samples/sec\taccuracy=nan\n",
      "INFO:root:Epoch[10] Batch [120]\tSpeed: 375.82 samples/sec\taccuracy=nan\n",
      "INFO:root:Epoch[10] Train-accuracy=nan\n",
      "INFO:root:Epoch[10] Time cost=26.611\n"
     ]
    },
    {
     "name": "stdout",
     "output_type": "stream",
     "text": [
      "Epoch[10] Validation-accuracy=0.208600\n"
     ]
    },
    {
     "name": "stderr",
     "output_type": "stream",
     "text": [
      "INFO:root:Saved checkpoint to \"emb_cifar_sup_subset2-0010.params\"\n",
      "INFO:root:Saved checkpoint to \"loss_cifar_sup_subset2-0010.params\"\n",
      "INFO:root:Epoch[11] Batch [20]\tSpeed: 375.47 samples/sec\taccuracy=nan\n",
      "INFO:root:Epoch[11] Batch [40]\tSpeed: 374.78 samples/sec\taccuracy=nan\n",
      "INFO:root:Epoch[11] Batch [60]\tSpeed: 376.57 samples/sec\taccuracy=nan\n",
      "INFO:root:Epoch[11] Batch [80]\tSpeed: 375.54 samples/sec\taccuracy=nan\n",
      "INFO:root:Epoch[11] Batch [100]\tSpeed: 375.72 samples/sec\taccuracy=nan\n",
      "INFO:root:Epoch[11] Batch [120]\tSpeed: 378.50 samples/sec\taccuracy=nan\n",
      "INFO:root:Epoch[11] Train-accuracy=nan\n",
      "INFO:root:Epoch[11] Time cost=26.616\n"
     ]
    },
    {
     "name": "stdout",
     "output_type": "stream",
     "text": [
      "Epoch[11] Validation-accuracy=0.202800\n"
     ]
    },
    {
     "name": "stderr",
     "output_type": "stream",
     "text": [
      "INFO:root:Epoch[12] Batch [20]\tSpeed: 375.41 samples/sec\taccuracy=nan\n",
      "INFO:root:Epoch[12] Batch [40]\tSpeed: 376.47 samples/sec\taccuracy=nan\n",
      "INFO:root:Epoch[12] Batch [60]\tSpeed: 375.70 samples/sec\taccuracy=nan\n",
      "INFO:root:Epoch[12] Batch [80]\tSpeed: 375.03 samples/sec\taccuracy=nan\n",
      "INFO:root:Epoch[12] Batch [100]\tSpeed: 375.33 samples/sec\taccuracy=nan\n",
      "INFO:root:Epoch[12] Batch [120]\tSpeed: 376.43 samples/sec\taccuracy=nan\n",
      "INFO:root:Epoch[12] Train-accuracy=nan\n",
      "INFO:root:Epoch[12] Time cost=26.668\n"
     ]
    },
    {
     "name": "stdout",
     "output_type": "stream",
     "text": [
      "Epoch[12] Validation-accuracy=0.205000\n"
     ]
    },
    {
     "name": "stderr",
     "output_type": "stream",
     "text": [
      "INFO:root:Epoch[13] Batch [20]\tSpeed: 378.57 samples/sec\taccuracy=nan\n",
      "INFO:root:Epoch[13] Batch [40]\tSpeed: 377.38 samples/sec\taccuracy=nan\n",
      "INFO:root:Epoch[13] Batch [60]\tSpeed: 375.91 samples/sec\taccuracy=nan\n",
      "INFO:root:Epoch[13] Batch [80]\tSpeed: 375.55 samples/sec\taccuracy=nan\n",
      "INFO:root:Epoch[13] Batch [100]\tSpeed: 378.60 samples/sec\taccuracy=nan\n",
      "INFO:root:Epoch[13] Batch [120]\tSpeed: 375.46 samples/sec\taccuracy=nan\n",
      "INFO:root:Epoch[13] Train-accuracy=nan\n",
      "INFO:root:Epoch[13] Time cost=26.564\n"
     ]
    },
    {
     "name": "stdout",
     "output_type": "stream",
     "text": [
      "Epoch[13] Validation-accuracy=0.231400\n"
     ]
    },
    {
     "name": "stderr",
     "output_type": "stream",
     "text": [
      "INFO:root:Epoch[14] Batch [20]\tSpeed: 375.85 samples/sec\taccuracy=nan\n",
      "INFO:root:Epoch[14] Batch [40]\tSpeed: 376.55 samples/sec\taccuracy=nan\n",
      "INFO:root:Epoch[14] Batch [60]\tSpeed: 374.37 samples/sec\taccuracy=nan\n",
      "INFO:root:Epoch[14] Batch [80]\tSpeed: 375.61 samples/sec\taccuracy=nan\n",
      "INFO:root:Epoch[14] Batch [100]\tSpeed: 376.73 samples/sec\taccuracy=nan\n",
      "INFO:root:Epoch[14] Batch [120]\tSpeed: 375.69 samples/sec\taccuracy=nan\n",
      "INFO:root:Epoch[14] Train-accuracy=nan\n",
      "INFO:root:Epoch[14] Time cost=26.609\n"
     ]
    },
    {
     "name": "stdout",
     "output_type": "stream",
     "text": [
      "Epoch[14] Validation-accuracy=0.252000\n"
     ]
    },
    {
     "name": "stderr",
     "output_type": "stream",
     "text": [
      "INFO:root:Epoch[15] Batch [20]\tSpeed: 377.31 samples/sec\taccuracy=nan\n",
      "INFO:root:Epoch[15] Batch [40]\tSpeed: 375.22 samples/sec\taccuracy=nan\n",
      "INFO:root:Epoch[15] Batch [60]\tSpeed: 377.83 samples/sec\taccuracy=nan\n",
      "INFO:root:Epoch[15] Batch [80]\tSpeed: 375.47 samples/sec\taccuracy=nan\n",
      "INFO:root:Epoch[15] Batch [100]\tSpeed: 376.79 samples/sec\taccuracy=nan\n",
      "INFO:root:Epoch[15] Batch [120]\tSpeed: 375.95 samples/sec\taccuracy=nan\n",
      "INFO:root:Epoch[15] Train-accuracy=nan\n",
      "INFO:root:Epoch[15] Time cost=26.589\n"
     ]
    },
    {
     "name": "stdout",
     "output_type": "stream",
     "text": [
      "Epoch[15] Validation-accuracy=0.253700\n"
     ]
    },
    {
     "name": "stderr",
     "output_type": "stream",
     "text": [
      "INFO:root:Saved checkpoint to \"emb_cifar_sup_subset2-0015.params\"\n",
      "INFO:root:Saved checkpoint to \"loss_cifar_sup_subset2-0015.params\"\n",
      "INFO:root:Epoch[16] Batch [20]\tSpeed: 377.40 samples/sec\taccuracy=nan\n",
      "INFO:root:Epoch[16] Batch [40]\tSpeed: 375.25 samples/sec\taccuracy=nan\n",
      "INFO:root:Epoch[16] Batch [60]\tSpeed: 374.55 samples/sec\taccuracy=nan\n",
      "INFO:root:Epoch[16] Batch [80]\tSpeed: 376.74 samples/sec\taccuracy=nan\n",
      "INFO:root:Epoch[16] Batch [100]\tSpeed: 376.29 samples/sec\taccuracy=nan\n",
      "INFO:root:Epoch[16] Batch [120]\tSpeed: 373.73 samples/sec\taccuracy=nan\n",
      "INFO:root:Epoch[16] Train-accuracy=nan\n",
      "INFO:root:Epoch[16] Time cost=26.638\n"
     ]
    },
    {
     "name": "stdout",
     "output_type": "stream",
     "text": [
      "Epoch[16] Validation-accuracy=0.278300\n"
     ]
    },
    {
     "name": "stderr",
     "output_type": "stream",
     "text": [
      "INFO:root:Epoch[17] Batch [20]\tSpeed: 378.42 samples/sec\taccuracy=nan\n",
      "INFO:root:Epoch[17] Batch [40]\tSpeed: 375.24 samples/sec\taccuracy=nan\n",
      "INFO:root:Epoch[17] Batch [60]\tSpeed: 375.95 samples/sec\taccuracy=nan\n",
      "INFO:root:Epoch[17] Batch [80]\tSpeed: 373.19 samples/sec\taccuracy=nan\n",
      "INFO:root:Epoch[17] Batch [100]\tSpeed: 376.55 samples/sec\taccuracy=nan\n",
      "INFO:root:Epoch[17] Batch [120]\tSpeed: 373.82 samples/sec\taccuracy=nan\n",
      "INFO:root:Epoch[17] Train-accuracy=nan\n",
      "INFO:root:Epoch[17] Time cost=26.656\n"
     ]
    },
    {
     "name": "stdout",
     "output_type": "stream",
     "text": [
      "Epoch[17] Validation-accuracy=0.265700\n"
     ]
    },
    {
     "name": "stderr",
     "output_type": "stream",
     "text": [
      "INFO:root:Epoch[18] Batch [20]\tSpeed: 377.17 samples/sec\taccuracy=nan\n",
      "INFO:root:Epoch[18] Batch [40]\tSpeed: 375.73 samples/sec\taccuracy=nan\n",
      "INFO:root:Epoch[18] Batch [60]\tSpeed: 375.08 samples/sec\taccuracy=nan\n",
      "INFO:root:Epoch[18] Batch [80]\tSpeed: 376.43 samples/sec\taccuracy=nan\n",
      "INFO:root:Epoch[18] Batch [100]\tSpeed: 375.51 samples/sec\taccuracy=nan\n",
      "INFO:root:Epoch[18] Batch [120]\tSpeed: 377.51 samples/sec\taccuracy=nan\n",
      "INFO:root:Epoch[18] Train-accuracy=nan\n",
      "INFO:root:Epoch[18] Time cost=26.626\n"
     ]
    },
    {
     "name": "stdout",
     "output_type": "stream",
     "text": [
      "Epoch[18] Validation-accuracy=0.289200\n"
     ]
    },
    {
     "name": "stderr",
     "output_type": "stream",
     "text": [
      "INFO:root:Epoch[19] Batch [20]\tSpeed: 374.76 samples/sec\taccuracy=nan\n",
      "INFO:root:Epoch[19] Batch [40]\tSpeed: 376.31 samples/sec\taccuracy=nan\n",
      "INFO:root:Epoch[19] Batch [60]\tSpeed: 376.44 samples/sec\taccuracy=nan\n",
      "INFO:root:Epoch[19] Batch [80]\tSpeed: 376.13 samples/sec\taccuracy=nan\n",
      "INFO:root:Epoch[19] Batch [100]\tSpeed: 375.40 samples/sec\taccuracy=nan\n",
      "INFO:root:Epoch[19] Batch [120]\tSpeed: 377.81 samples/sec\taccuracy=nan\n",
      "INFO:root:Epoch[19] Train-accuracy=nan\n",
      "INFO:root:Epoch[19] Time cost=26.642\n"
     ]
    },
    {
     "name": "stdout",
     "output_type": "stream",
     "text": [
      "Epoch[19] Validation-accuracy=0.295600\n"
     ]
    },
    {
     "name": "stderr",
     "output_type": "stream",
     "text": [
      "INFO:root:Epoch[20] Batch [20]\tSpeed: 377.33 samples/sec\taccuracy=nan\n",
      "INFO:root:Epoch[20] Batch [40]\tSpeed: 376.36 samples/sec\taccuracy=nan\n",
      "INFO:root:Epoch[20] Batch [60]\tSpeed: 375.42 samples/sec\taccuracy=nan\n",
      "INFO:root:Epoch[20] Batch [80]\tSpeed: 376.82 samples/sec\taccuracy=nan\n",
      "INFO:root:Epoch[20] Batch [100]\tSpeed: 376.13 samples/sec\taccuracy=nan\n",
      "INFO:root:Epoch[20] Batch [120]\tSpeed: 375.16 samples/sec\taccuracy=nan\n",
      "INFO:root:Epoch[20] Train-accuracy=nan\n",
      "INFO:root:Epoch[20] Time cost=26.638\n"
     ]
    },
    {
     "name": "stdout",
     "output_type": "stream",
     "text": [
      "Epoch[20] Validation-accuracy=0.309300\n"
     ]
    },
    {
     "name": "stderr",
     "output_type": "stream",
     "text": [
      "INFO:root:Saved checkpoint to \"emb_cifar_sup_subset2-0020.params\"\n",
      "INFO:root:Saved checkpoint to \"loss_cifar_sup_subset2-0020.params\"\n",
      "INFO:root:Epoch[21] Batch [20]\tSpeed: 380.05 samples/sec\taccuracy=nan\n",
      "INFO:root:Epoch[21] Batch [40]\tSpeed: 377.48 samples/sec\taccuracy=nan\n",
      "INFO:root:Epoch[21] Batch [60]\tSpeed: 376.28 samples/sec\taccuracy=nan\n",
      "INFO:root:Epoch[21] Batch [80]\tSpeed: 374.38 samples/sec\taccuracy=nan\n",
      "INFO:root:Epoch[21] Batch [100]\tSpeed: 375.24 samples/sec\taccuracy=nan\n",
      "INFO:root:Epoch[21] Batch [120]\tSpeed: 377.47 samples/sec\taccuracy=nan\n",
      "INFO:root:Epoch[21] Train-accuracy=nan\n",
      "INFO:root:Epoch[21] Time cost=26.582\n"
     ]
    },
    {
     "name": "stdout",
     "output_type": "stream",
     "text": [
      "Epoch[21] Validation-accuracy=0.303100\n"
     ]
    },
    {
     "name": "stderr",
     "output_type": "stream",
     "text": [
      "INFO:root:Epoch[22] Batch [20]\tSpeed: 376.30 samples/sec\taccuracy=nan\n",
      "INFO:root:Epoch[22] Batch [40]\tSpeed: 375.90 samples/sec\taccuracy=nan\n",
      "INFO:root:Epoch[22] Batch [60]\tSpeed: 375.40 samples/sec\taccuracy=nan\n",
      "INFO:root:Epoch[22] Batch [80]\tSpeed: 378.66 samples/sec\taccuracy=nan\n",
      "INFO:root:Epoch[22] Batch [100]\tSpeed: 376.17 samples/sec\taccuracy=nan\n",
      "INFO:root:Epoch[22] Batch [120]\tSpeed: 374.77 samples/sec\taccuracy=nan\n",
      "INFO:root:Epoch[22] Train-accuracy=nan\n",
      "INFO:root:Epoch[22] Time cost=26.597\n"
     ]
    },
    {
     "name": "stdout",
     "output_type": "stream",
     "text": [
      "Epoch[22] Validation-accuracy=0.316700\n"
     ]
    },
    {
     "name": "stderr",
     "output_type": "stream",
     "text": [
      "INFO:root:Epoch[23] Batch [20]\tSpeed: 376.47 samples/sec\taccuracy=nan\n",
      "INFO:root:Epoch[23] Batch [40]\tSpeed: 375.75 samples/sec\taccuracy=nan\n",
      "INFO:root:Epoch[23] Batch [60]\tSpeed: 375.11 samples/sec\taccuracy=nan\n",
      "INFO:root:Epoch[23] Batch [80]\tSpeed: 377.83 samples/sec\taccuracy=nan\n",
      "INFO:root:Epoch[23] Batch [100]\tSpeed: 374.17 samples/sec\taccuracy=nan\n",
      "INFO:root:Epoch[23] Batch [120]\tSpeed: 376.34 samples/sec\taccuracy=nan\n",
      "INFO:root:Epoch[23] Train-accuracy=nan\n",
      "INFO:root:Epoch[23] Time cost=26.651\n"
     ]
    },
    {
     "name": "stdout",
     "output_type": "stream",
     "text": [
      "Epoch[23] Validation-accuracy=0.342600\n"
     ]
    },
    {
     "name": "stderr",
     "output_type": "stream",
     "text": [
      "INFO:root:Epoch[24] Batch [20]\tSpeed: 373.61 samples/sec\taccuracy=nan\n",
      "INFO:root:Epoch[24] Batch [40]\tSpeed: 375.12 samples/sec\taccuracy=nan\n",
      "INFO:root:Epoch[24] Batch [60]\tSpeed: 374.73 samples/sec\taccuracy=nan\n",
      "INFO:root:Epoch[24] Batch [80]\tSpeed: 376.24 samples/sec\taccuracy=nan\n",
      "INFO:root:Epoch[24] Batch [100]\tSpeed: 373.17 samples/sec\taccuracy=nan\n",
      "INFO:root:Epoch[24] Batch [120]\tSpeed: 375.93 samples/sec\taccuracy=nan\n",
      "INFO:root:Epoch[24] Train-accuracy=nan\n",
      "INFO:root:Epoch[24] Time cost=26.715\n"
     ]
    },
    {
     "name": "stdout",
     "output_type": "stream",
     "text": [
      "Epoch[24] Validation-accuracy=0.296400\n"
     ]
    },
    {
     "name": "stderr",
     "output_type": "stream",
     "text": [
      "INFO:root:Epoch[25] Batch [20]\tSpeed: 380.57 samples/sec\taccuracy=nan\n",
      "INFO:root:Epoch[25] Batch [40]\tSpeed: 378.72 samples/sec\taccuracy=nan\n",
      "INFO:root:Epoch[25] Batch [60]\tSpeed: 375.80 samples/sec\taccuracy=nan\n",
      "INFO:root:Epoch[25] Batch [80]\tSpeed: 377.02 samples/sec\taccuracy=nan\n",
      "INFO:root:Epoch[25] Batch [100]\tSpeed: 376.12 samples/sec\taccuracy=nan\n",
      "INFO:root:Epoch[25] Batch [120]\tSpeed: 377.44 samples/sec\taccuracy=nan\n",
      "INFO:root:Epoch[25] Train-accuracy=nan\n",
      "INFO:root:Epoch[25] Time cost=26.511\n"
     ]
    },
    {
     "name": "stdout",
     "output_type": "stream",
     "text": [
      "Epoch[25] Validation-accuracy=0.333500\n"
     ]
    },
    {
     "name": "stderr",
     "output_type": "stream",
     "text": [
      "INFO:root:Saved checkpoint to \"emb_cifar_sup_subset2-0025.params\"\n",
      "INFO:root:Saved checkpoint to \"loss_cifar_sup_subset2-0025.params\"\n",
      "INFO:root:Epoch[26] Batch [20]\tSpeed: 373.37 samples/sec\taccuracy=nan\n",
      "INFO:root:Epoch[26] Batch [40]\tSpeed: 375.70 samples/sec\taccuracy=nan\n",
      "INFO:root:Epoch[26] Batch [60]\tSpeed: 373.59 samples/sec\taccuracy=nan\n",
      "INFO:root:Epoch[26] Batch [80]\tSpeed: 375.84 samples/sec\taccuracy=nan\n",
      "INFO:root:Epoch[26] Batch [100]\tSpeed: 375.89 samples/sec\taccuracy=nan\n",
      "INFO:root:Epoch[26] Batch [120]\tSpeed: 377.97 samples/sec\taccuracy=nan\n",
      "INFO:root:Epoch[26] Train-accuracy=nan\n",
      "INFO:root:Epoch[26] Time cost=26.655\n"
     ]
    },
    {
     "name": "stdout",
     "output_type": "stream",
     "text": [
      "Epoch[26] Validation-accuracy=0.366000\n"
     ]
    },
    {
     "name": "stderr",
     "output_type": "stream",
     "text": [
      "INFO:root:Epoch[27] Batch [20]\tSpeed: 373.65 samples/sec\taccuracy=nan\n",
      "INFO:root:Epoch[27] Batch [40]\tSpeed: 377.67 samples/sec\taccuracy=nan\n",
      "INFO:root:Epoch[27] Batch [60]\tSpeed: 376.30 samples/sec\taccuracy=nan\n",
      "INFO:root:Epoch[27] Batch [80]\tSpeed: 375.55 samples/sec\taccuracy=nan\n",
      "INFO:root:Epoch[27] Batch [100]\tSpeed: 376.59 samples/sec\taccuracy=nan\n",
      "INFO:root:Epoch[27] Batch [120]\tSpeed: 373.52 samples/sec\taccuracy=nan\n",
      "INFO:root:Epoch[27] Train-accuracy=nan\n",
      "INFO:root:Epoch[27] Time cost=26.665\n"
     ]
    },
    {
     "name": "stdout",
     "output_type": "stream",
     "text": [
      "Epoch[27] Validation-accuracy=0.345900\n"
     ]
    },
    {
     "name": "stderr",
     "output_type": "stream",
     "text": [
      "INFO:root:Epoch[28] Batch [20]\tSpeed: 376.15 samples/sec\taccuracy=nan\n",
      "INFO:root:Epoch[28] Batch [40]\tSpeed: 374.13 samples/sec\taccuracy=nan\n",
      "INFO:root:Epoch[28] Batch [60]\tSpeed: 377.14 samples/sec\taccuracy=nan\n",
      "INFO:root:Epoch[28] Batch [80]\tSpeed: 374.56 samples/sec\taccuracy=nan\n",
      "INFO:root:Epoch[28] Batch [100]\tSpeed: 375.22 samples/sec\taccuracy=nan\n",
      "INFO:root:Epoch[28] Batch [120]\tSpeed: 377.24 samples/sec\taccuracy=nan\n",
      "INFO:root:Epoch[28] Train-accuracy=nan\n",
      "INFO:root:Epoch[28] Time cost=26.655\n"
     ]
    },
    {
     "name": "stdout",
     "output_type": "stream",
     "text": [
      "Epoch[28] Validation-accuracy=0.347500\n"
     ]
    },
    {
     "name": "stderr",
     "output_type": "stream",
     "text": [
      "INFO:root:Epoch[29] Batch [20]\tSpeed: 377.76 samples/sec\taccuracy=nan\n",
      "INFO:root:Epoch[29] Batch [40]\tSpeed: 378.57 samples/sec\taccuracy=nan\n",
      "INFO:root:Epoch[29] Batch [60]\tSpeed: 379.69 samples/sec\taccuracy=nan\n",
      "INFO:root:Epoch[29] Batch [80]\tSpeed: 375.19 samples/sec\taccuracy=nan\n",
      "INFO:root:Epoch[29] Batch [100]\tSpeed: 374.97 samples/sec\taccuracy=nan\n",
      "INFO:root:Epoch[29] Batch [120]\tSpeed: 374.33 samples/sec\taccuracy=nan\n",
      "INFO:root:Epoch[29] Train-accuracy=nan\n",
      "INFO:root:Epoch[29] Time cost=26.567\n"
     ]
    },
    {
     "name": "stdout",
     "output_type": "stream",
     "text": [
      "Epoch[29] Validation-accuracy=0.373300\n"
     ]
    },
    {
     "name": "stderr",
     "output_type": "stream",
     "text": [
      "INFO:root:Epoch[30] Batch [20]\tSpeed: 377.51 samples/sec\taccuracy=nan\n",
      "INFO:root:Epoch[30] Batch [40]\tSpeed: 375.89 samples/sec\taccuracy=nan\n",
      "INFO:root:Epoch[30] Batch [60]\tSpeed: 376.90 samples/sec\taccuracy=nan\n",
      "INFO:root:Epoch[30] Batch [80]\tSpeed: 374.87 samples/sec\taccuracy=nan\n",
      "INFO:root:Epoch[30] Batch [100]\tSpeed: 377.53 samples/sec\taccuracy=nan\n",
      "INFO:root:Epoch[30] Batch [120]\tSpeed: 376.06 samples/sec\taccuracy=nan\n",
      "INFO:root:Epoch[30] Train-accuracy=nan\n",
      "INFO:root:Epoch[30] Time cost=26.601\n"
     ]
    },
    {
     "name": "stdout",
     "output_type": "stream",
     "text": [
      "Epoch[30] Validation-accuracy=0.372200\n"
     ]
    },
    {
     "name": "stderr",
     "output_type": "stream",
     "text": [
      "INFO:root:Saved checkpoint to \"emb_cifar_sup_subset2-0030.params\"\n",
      "INFO:root:Saved checkpoint to \"loss_cifar_sup_subset2-0030.params\"\n",
      "INFO:root:Epoch[31] Batch [20]\tSpeed: 375.20 samples/sec\taccuracy=nan\n",
      "INFO:root:Epoch[31] Batch [40]\tSpeed: 376.24 samples/sec\taccuracy=nan\n",
      "INFO:root:Epoch[31] Batch [60]\tSpeed: 377.30 samples/sec\taccuracy=nan\n",
      "INFO:root:Epoch[31] Batch [80]\tSpeed: 376.08 samples/sec\taccuracy=nan\n",
      "INFO:root:Epoch[31] Batch [100]\tSpeed: 376.74 samples/sec\taccuracy=nan\n",
      "INFO:root:Epoch[31] Batch [120]\tSpeed: 374.95 samples/sec\taccuracy=nan\n",
      "INFO:root:Epoch[31] Train-accuracy=nan\n",
      "INFO:root:Epoch[31] Time cost=26.596\n"
     ]
    },
    {
     "name": "stdout",
     "output_type": "stream",
     "text": [
      "Epoch[31] Validation-accuracy=0.377900\n"
     ]
    },
    {
     "name": "stderr",
     "output_type": "stream",
     "text": [
      "INFO:root:Epoch[32] Batch [20]\tSpeed: 375.69 samples/sec\taccuracy=nan\n",
      "INFO:root:Epoch[32] Batch [40]\tSpeed: 376.13 samples/sec\taccuracy=nan\n",
      "INFO:root:Epoch[32] Batch [60]\tSpeed: 373.28 samples/sec\taccuracy=nan\n",
      "INFO:root:Epoch[32] Batch [80]\tSpeed: 374.60 samples/sec\taccuracy=nan\n",
      "INFO:root:Epoch[32] Batch [100]\tSpeed: 375.25 samples/sec\taccuracy=nan\n",
      "INFO:root:Epoch[32] Batch [120]\tSpeed: 374.82 samples/sec\taccuracy=nan\n",
      "INFO:root:Epoch[32] Train-accuracy=nan\n",
      "INFO:root:Epoch[32] Time cost=26.676\n"
     ]
    },
    {
     "name": "stdout",
     "output_type": "stream",
     "text": [
      "Epoch[32] Validation-accuracy=0.372400\n"
     ]
    },
    {
     "name": "stderr",
     "output_type": "stream",
     "text": [
      "INFO:root:Epoch[33] Batch [20]\tSpeed: 375.55 samples/sec\taccuracy=nan\n",
      "INFO:root:Epoch[33] Batch [40]\tSpeed: 379.96 samples/sec\taccuracy=nan\n",
      "INFO:root:Epoch[33] Batch [60]\tSpeed: 382.07 samples/sec\taccuracy=nan\n",
      "INFO:root:Epoch[33] Batch [80]\tSpeed: 377.84 samples/sec\taccuracy=nan\n",
      "INFO:root:Epoch[33] Batch [100]\tSpeed: 373.94 samples/sec\taccuracy=nan\n",
      "INFO:root:Epoch[33] Batch [120]\tSpeed: 377.13 samples/sec\taccuracy=nan\n",
      "INFO:root:Epoch[33] Train-accuracy=nan\n",
      "INFO:root:Epoch[33] Time cost=26.516\n"
     ]
    },
    {
     "name": "stdout",
     "output_type": "stream",
     "text": [
      "Epoch[33] Validation-accuracy=0.376700\n"
     ]
    },
    {
     "name": "stderr",
     "output_type": "stream",
     "text": [
      "INFO:root:Epoch[34] Batch [20]\tSpeed: 373.48 samples/sec\taccuracy=nan\n",
      "INFO:root:Epoch[34] Batch [40]\tSpeed: 374.85 samples/sec\taccuracy=nan\n",
      "INFO:root:Epoch[34] Batch [60]\tSpeed: 375.96 samples/sec\taccuracy=nan\n",
      "INFO:root:Epoch[34] Batch [80]\tSpeed: 374.42 samples/sec\taccuracy=nan\n",
      "INFO:root:Epoch[34] Batch [100]\tSpeed: 376.08 samples/sec\taccuracy=nan\n",
      "INFO:root:Epoch[34] Batch [120]\tSpeed: 375.61 samples/sec\taccuracy=nan\n",
      "INFO:root:Epoch[34] Train-accuracy=nan\n",
      "INFO:root:Epoch[34] Time cost=26.703\n"
     ]
    },
    {
     "name": "stdout",
     "output_type": "stream",
     "text": [
      "Epoch[34] Validation-accuracy=0.366400\n"
     ]
    },
    {
     "name": "stderr",
     "output_type": "stream",
     "text": [
      "INFO:root:Epoch[35] Batch [20]\tSpeed: 376.41 samples/sec\taccuracy=nan\n",
      "INFO:root:Epoch[35] Batch [40]\tSpeed: 375.03 samples/sec\taccuracy=nan\n",
      "INFO:root:Epoch[35] Batch [60]\tSpeed: 377.09 samples/sec\taccuracy=nan\n",
      "INFO:root:Epoch[35] Batch [80]\tSpeed: 375.16 samples/sec\taccuracy=nan\n",
      "INFO:root:Epoch[35] Batch [100]\tSpeed: 377.53 samples/sec\taccuracy=nan\n",
      "INFO:root:Epoch[35] Batch [120]\tSpeed: 377.46 samples/sec\taccuracy=nan\n",
      "INFO:root:Epoch[35] Train-accuracy=nan\n",
      "INFO:root:Epoch[35] Time cost=26.621\n"
     ]
    },
    {
     "name": "stdout",
     "output_type": "stream",
     "text": [
      "Epoch[35] Validation-accuracy=0.383300\n"
     ]
    },
    {
     "name": "stderr",
     "output_type": "stream",
     "text": [
      "INFO:root:Saved checkpoint to \"emb_cifar_sup_subset2-0035.params\"\n",
      "INFO:root:Saved checkpoint to \"loss_cifar_sup_subset2-0035.params\"\n",
      "INFO:root:Epoch[36] Batch [20]\tSpeed: 375.56 samples/sec\taccuracy=nan\n",
      "INFO:root:Epoch[36] Batch [40]\tSpeed: 377.00 samples/sec\taccuracy=nan\n",
      "INFO:root:Epoch[36] Batch [60]\tSpeed: 376.13 samples/sec\taccuracy=nan\n",
      "INFO:root:Epoch[36] Batch [80]\tSpeed: 376.54 samples/sec\taccuracy=nan\n",
      "INFO:root:Epoch[36] Batch [100]\tSpeed: 375.57 samples/sec\taccuracy=nan\n",
      "INFO:root:Epoch[36] Batch [120]\tSpeed: 375.93 samples/sec\taccuracy=nan\n",
      "INFO:root:Epoch[36] Train-accuracy=nan\n",
      "INFO:root:Epoch[36] Time cost=26.618\n"
     ]
    },
    {
     "name": "stdout",
     "output_type": "stream",
     "text": [
      "Epoch[36] Validation-accuracy=0.382200\n"
     ]
    },
    {
     "name": "stderr",
     "output_type": "stream",
     "text": [
      "INFO:root:Epoch[37] Batch [20]\tSpeed: 374.61 samples/sec\taccuracy=nan\n",
      "INFO:root:Epoch[37] Batch [40]\tSpeed: 375.45 samples/sec\taccuracy=nan\n",
      "INFO:root:Epoch[37] Batch [60]\tSpeed: 381.06 samples/sec\taccuracy=nan\n",
      "INFO:root:Epoch[37] Batch [80]\tSpeed: 377.60 samples/sec\taccuracy=nan\n",
      "INFO:root:Epoch[37] Batch [100]\tSpeed: 376.30 samples/sec\taccuracy=nan\n",
      "INFO:root:Epoch[37] Batch [120]\tSpeed: 373.50 samples/sec\taccuracy=nan\n",
      "INFO:root:Epoch[37] Train-accuracy=nan\n",
      "INFO:root:Epoch[37] Time cost=26.593\n"
     ]
    },
    {
     "name": "stdout",
     "output_type": "stream",
     "text": [
      "Epoch[37] Validation-accuracy=0.404700\n"
     ]
    },
    {
     "name": "stderr",
     "output_type": "stream",
     "text": [
      "INFO:root:Epoch[38] Batch [20]\tSpeed: 376.59 samples/sec\taccuracy=nan\n",
      "INFO:root:Epoch[38] Batch [40]\tSpeed: 377.11 samples/sec\taccuracy=nan\n",
      "INFO:root:Epoch[38] Batch [60]\tSpeed: 376.98 samples/sec\taccuracy=nan\n",
      "INFO:root:Epoch[38] Batch [80]\tSpeed: 376.08 samples/sec\taccuracy=nan\n",
      "INFO:root:Epoch[38] Batch [100]\tSpeed: 375.53 samples/sec\taccuracy=nan\n",
      "INFO:root:Epoch[38] Batch [120]\tSpeed: 377.43 samples/sec\taccuracy=nan\n",
      "INFO:root:Epoch[38] Train-accuracy=nan\n",
      "INFO:root:Epoch[38] Time cost=26.592\n"
     ]
    },
    {
     "name": "stdout",
     "output_type": "stream",
     "text": [
      "Epoch[38] Validation-accuracy=0.368700\n"
     ]
    },
    {
     "name": "stderr",
     "output_type": "stream",
     "text": [
      "INFO:root:Epoch[39] Batch [20]\tSpeed: 377.30 samples/sec\taccuracy=nan\n",
      "INFO:root:Epoch[39] Batch [40]\tSpeed: 374.30 samples/sec\taccuracy=nan\n",
      "INFO:root:Epoch[39] Batch [60]\tSpeed: 376.30 samples/sec\taccuracy=nan\n",
      "INFO:root:Epoch[39] Batch [80]\tSpeed: 375.25 samples/sec\taccuracy=nan\n",
      "INFO:root:Epoch[39] Batch [100]\tSpeed: 375.49 samples/sec\taccuracy=nan\n",
      "INFO:root:Epoch[39] Batch [120]\tSpeed: 375.18 samples/sec\taccuracy=nan\n",
      "INFO:root:Epoch[39] Train-accuracy=nan\n",
      "INFO:root:Epoch[39] Time cost=26.658\n"
     ]
    },
    {
     "name": "stdout",
     "output_type": "stream",
     "text": [
      "Epoch[39] Validation-accuracy=0.397300\n"
     ]
    },
    {
     "name": "stderr",
     "output_type": "stream",
     "text": [
      "INFO:root:Epoch[40] Batch [20]\tSpeed: 373.40 samples/sec\taccuracy=nan\n",
      "INFO:root:Epoch[40] Batch [40]\tSpeed: 376.13 samples/sec\taccuracy=nan\n",
      "INFO:root:Epoch[40] Batch [60]\tSpeed: 375.05 samples/sec\taccuracy=nan\n",
      "INFO:root:Epoch[40] Batch [80]\tSpeed: 375.06 samples/sec\taccuracy=nan\n",
      "INFO:root:Epoch[40] Batch [100]\tSpeed: 375.29 samples/sec\taccuracy=nan\n",
      "INFO:root:Epoch[40] Batch [120]\tSpeed: 375.29 samples/sec\taccuracy=nan\n",
      "INFO:root:Epoch[40] Train-accuracy=nan\n",
      "INFO:root:Epoch[40] Time cost=26.673\n"
     ]
    },
    {
     "name": "stdout",
     "output_type": "stream",
     "text": [
      "Epoch[40] Validation-accuracy=0.376500\n"
     ]
    },
    {
     "name": "stderr",
     "output_type": "stream",
     "text": [
      "INFO:root:Saved checkpoint to \"emb_cifar_sup_subset2-0040.params\"\n",
      "INFO:root:Saved checkpoint to \"loss_cifar_sup_subset2-0040.params\"\n",
      "INFO:root:Epoch[41] Batch [20]\tSpeed: 375.44 samples/sec\taccuracy=nan\n",
      "INFO:root:Epoch[41] Batch [40]\tSpeed: 374.74 samples/sec\taccuracy=nan\n",
      "INFO:root:Epoch[41] Batch [60]\tSpeed: 378.98 samples/sec\taccuracy=nan\n",
      "INFO:root:Epoch[41] Batch [80]\tSpeed: 379.60 samples/sec\taccuracy=nan\n",
      "INFO:root:Epoch[41] Batch [100]\tSpeed: 375.69 samples/sec\taccuracy=nan\n",
      "INFO:root:Epoch[41] Batch [120]\tSpeed: 374.91 samples/sec\taccuracy=nan\n",
      "INFO:root:Epoch[41] Train-accuracy=nan\n",
      "INFO:root:Epoch[41] Time cost=26.555\n"
     ]
    }
   ],
   "source": [
    "train.reset()\n",
    "\n",
    "# train using a checkpoint with 20% validation accuracy, trained only supervised\n",
    "#(sym, arg_p, aux_p) = mx.model.load_checkpoint('embedding_val30',25)\n",
    "#embeddingModule = buildEmbeddingModule(arg_p, aux_p)      \n",
    "\n",
    "# train from previous iteration\n",
    "#(arg_p_emb, aux_p_emb, arg_p_loss, aux_p_loss) = WrapperModule.load_checkpoint('cifarsemisup', 200)\n",
    "#embeddingModule = buildEmbeddingModule(arg_p_emb, aux_p_emb)      \n",
    "#lossModule = buildLossModule(arg_p_loss, aux_p_loss)\n",
    "\n",
    "# train from scratch\n",
    "embeddingModule = buildEmbeddingModule()\n",
    "\n",
    "#semisupervised loss module\n",
    "#lossModule = buildLossModule()\n",
    "\n",
    "#supervised loss module\n",
    "lossModule = buildSupLossModule()\n",
    "\n",
    "m = fit_model(args, embeddingModule, lossModule, (train, val))"
   ]
  },
  {
   "cell_type": "code",
   "execution_count": null,
   "metadata": {
    "collapsed": true
   },
   "outputs": [],
   "source": [
    "aux_p"
   ]
  },
  {
   "cell_type": "code",
   "execution_count": null,
   "metadata": {
    "collapsed": true
   },
   "outputs": [],
   "source": [
    "embeddingModule.save_checkpoint('cifarsemisup200', 200)"
   ]
  },
  {
   "cell_type": "code",
   "execution_count": null,
   "metadata": {
    "collapsed": true
   },
   "outputs": [],
   "source": [
    "lossModule.save_checkpoint('cifarsemisup200_loss', 200)"
   ]
  },
  {
   "cell_type": "code",
   "execution_count": null,
   "metadata": {
    "collapsed": true
   },
   "outputs": [],
   "source": [
    "val.reset()\n",
    "val.next().label[0].shape[0]"
   ]
  },
  {
   "cell_type": "code",
   "execution_count": null,
   "metadata": {
    "collapsed": true
   },
   "outputs": [],
   "source": [
    "class Multi_Accuracy(mx.metric.EvalMetric):\n",
    "    \"\"\"Calculate accuracies of multi label\"\"\"\n",
    "\n",
    "    def __init__(self, num=None):\n",
    "        super(Multi_Accuracy, self).__init__('multi-accuracy', num)\n",
    "\n",
    "    def update(self, labels, preds):\n",
    "\n",
    "        #for i in range(len(preds)):\n",
    "        for i in range(1):\n",
    "            pred_label = mx.nd.argmax_channel(preds[i]).asnumpy().astype('int32')\n",
    "            label = labels[0].asnumpy().astype('int32')\n",
    "\n",
    "            #mx.metric.check_label_shapes(label, pred_label)\n",
    "            \n",
    "            #print((pred_label.flat == label.flat).sum())\n",
    "            #print(len(pred_label.flat))\n",
    "\n",
    "            \n",
    "            self.sum_metric[i] += (pred_label.flat == label.flat).sum()\n",
    "            self.num_inst[i] += len(pred_label.flat)"
   ]
  },
  {
   "cell_type": "code",
   "execution_count": null,
   "metadata": {
    "collapsed": true
   },
   "outputs": [],
   "source": [
    "# batch 10 train 0.389, valid: 0.40"
   ]
  },
  {
   "cell_type": "code",
   "execution_count": null,
   "metadata": {
    "collapsed": true
   },
   "outputs": [],
   "source": []
  },
  {
   "cell_type": "code",
   "execution_count": null,
   "metadata": {
    "collapsed": true
   },
   "outputs": [],
   "source": []
  }
 ],
 "metadata": {
  "kernelspec": {
   "display_name": "Python 3",
   "language": "python",
   "name": "python3"
  },
  "language_info": {
   "codemirror_mode": {
    "name": "ipython",
    "version": 3
   },
   "file_extension": ".py",
   "mimetype": "text/x-python",
   "name": "python",
   "nbconvert_exporter": "python",
   "pygments_lexer": "ipython3",
   "version": "3.4.3"
  }
 },
 "nbformat": 4,
 "nbformat_minor": 2
}
