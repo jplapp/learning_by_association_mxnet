{
 "cells": [
  {
   "cell_type": "code",
   "execution_count": 1,
   "metadata": {
    "collapsed": true
   },
   "outputs": [],
   "source": [
    "import os\n",
    "import argparse\n",
    "import logging\n",
    "logging.basicConfig(level=logging.INFO)\n",
    "from common import data, fit\n",
    "from common.util import download_file\n",
    "import mxnet as mx\n",
    "import numpy as np\n",
    "from mxnet.symbol import *"
   ]
  },
  {
   "cell_type": "code",
   "execution_count": 2,
   "metadata": {},
   "outputs": [],
   "source": [
    "%load_ext autoreload\n",
    "%autoreload 2"
   ]
  },
  {
   "cell_type": "code",
   "execution_count": 3,
   "metadata": {
    "collapsed": true
   },
   "outputs": [],
   "source": [
    "def download_cifar100():\n",
    "    data_dir=\"/efs/data/cifar-100-mxnet\"\n",
    "    #data_dir=\"/data/cifar-100-mxnet\"\n",
    "    fnames = (os.path.join(data_dir, \"train.rec\"),\n",
    "              os.path.join(data_dir, \"test.rec\"))\n",
    "    return fnames"
   ]
  },
  {
   "cell_type": "code",
   "execution_count": 4,
   "metadata": {
    "collapsed": true
   },
   "outputs": [],
   "source": [
    "(train_fname, val_fname) = download_cifar100()\n",
    "\n",
    "# parse args\n",
    "parser = argparse.ArgumentParser(description=\"train cifar100\",\n",
    "                                 formatter_class=argparse.ArgumentDefaultsHelpFormatter)\n",
    "fit.add_fit_args(parser)\n",
    "data.add_data_args(parser)\n",
    "data.add_data_aug_args(parser)\n",
    "data.set_data_aug_level(parser, 2)\n",
    "\n",
    "num_unsup_examples = 50000\n",
    "subset_factor = 1\n",
    "\n",
    "parser.set_defaults(\n",
    "    # data\n",
    "    data_train     = train_fname,\n",
    "    data_val       = val_fname,\n",
    "    num_classes    = 100,\n",
    "    image_shape    = '3,28,28',\n",
    "    prefix         = 'cifar_sup_all2',\n",
    "    pad_size       = 2,\n",
    "    # train\n",
    "    batch_size     = 80,  # todo currently has to devide 'num_validation_samples'\n",
    "    num_epochs     = 60,\n",
    "    lr_step_epochs = '38,45',\n",
    "    gpus           = '0,1,2,3',\n",
    "    loss_gpu       = 0,\n",
    "    disp_batches   = 20,\n",
    "    num_examples   = num_unsup_examples / subset_factor, \n",
    "    wd             = 1e-4,\n",
    "    lr             = .05,\n",
    "    lr_factor      = .2,\n",
    "    nembeddings    = 256,\n",
    "    optimizer      = 'sgd'\n",
    ")\n",
    "\n",
    "args = parser.parse_args(\"\")\n",
    "\n",
    "unsup_multiplier = 0\n",
    "labeled_per_class = 500 / subset_factor\n",
    "\n",
    "sample_seed = 47\n",
    "val_interval = 1\n",
    "save_interval = 5"
   ]
  },
  {
   "cell_type": "code",
   "execution_count": 5,
   "metadata": {},
   "outputs": [
    {
     "name": "stdout",
     "output_type": "stream",
     "text": [
      "0  times more unsup data than sup data\n"
     ]
    }
   ],
   "source": [
    "from common.multi_iterator import Multi_iterator\n",
    "from common.data import get_partial_rec_iter\n",
    "\n",
    "(train_sup, val) = get_partial_rec_iter(args, get_val=True, devide_by=subset_factor, shuffle=True)\n",
    "(train_unsup, _) = get_partial_rec_iter(args, get_val=False, devide_by=1, shuffle=True)\n",
    "    \n",
    "num_sup_examples = labeled_per_class * args.num_classes\n",
    "train = Multi_iterator(train_sup, train_unsup, unsup_multiplier, num_unsup_examples, num_sup_examples)"
   ]
  },
  {
   "cell_type": "code",
   "execution_count": 6,
   "metadata": {},
   "outputs": [
    {
     "name": "stdout",
     "output_type": "stream",
     "text": [
      "[23750.0, 28125.0]\n"
     ]
    }
   ],
   "source": [
    "from symbols import inception_cifar as base_net\n",
    "from common.lba import compute_semisup_loss, logit_loss\n",
    "from common.wrapper_module import get_embedding_shapes\n",
    "\n",
    "# kvstore\n",
    "kv = mx.kvstore.create(args.kv_store)\n",
    "\n",
    "t_nb = args.batch_size * unsup_multiplier\n",
    "#initializer = mx.init.Xavier(rnd_type='gaussian', factor_type=\"avg\", magnitude=2.34)\n",
    "initializer = mx.init.Uniform(0.01)\n",
    "\n",
    "lr, lr_scheduler = fit._get_lr_scheduler(args, kv)\n",
    "\n",
    "def buildEmbeddingModule(arg_p=None, aux_p=None):\n",
    "    dataSup = mx.symbol.Variable(name=\"dataSup\")\n",
    "    dataUnsup = []\n",
    "    for i in range(unsup_multiplier):\n",
    "        dataUnsup.append(Variable(name=\"dataUnsup\"+str(i)))\n",
    "\n",
    "    # concat data, feed both through the network\n",
    "    # then split it up again\n",
    "    data = concat(dataSup, *dataUnsup, dim=0)\n",
    "\n",
    "    embeddings = base_net.build_embeddings(data, nembeddings=args.nembeddings)\n",
    "    splitted = split(embeddings, num_outputs=(unsup_multiplier+1), axis=0, name='split')\n",
    "    \n",
    "    # devices for training\n",
    "    devs = mx.cpu() if args.gpus is None or args.gpus is '' else [\n",
    "        mx.gpu(int(i)) for i in args.gpus.split(',')]\n",
    "\n",
    "    data_names = ['dataSup'] + ['dataUnsup'+str(i) for i in range(unsup_multiplier)]\n",
    "        \n",
    "    # create model\n",
    "    model = mx.mod.Module(\n",
    "        context       = devs,\n",
    "        symbol        = splitted,\n",
    "        data_names    = data_names,\n",
    "        label_names   = None)\n",
    "    \n",
    "    model.bind(data_shapes=train.provide_data)         \n",
    "    model.init_params(initializer, arg_p, aux_p)    \n",
    "    model.init_optimizer(optimizer=args.optimizer, optimizer_params=(\n",
    "       ('learning_rate', lr), \n",
    "       ('wd', 1e-4),\n",
    "       ('momentum', args.mom),\n",
    "      # ('rescale_grad', 0.005),\n",
    "       ('lr_scheduler', lr_scheduler)))\n",
    "\n",
    "    return model\n",
    "\n",
    "\n",
    "def buildSupLossModule(arg_p=None, aux_p=None):\n",
    "    supEmbeddings = Variable(name=\"embeddings_sup\")\n",
    "    labelSup = mx.symbol.Variable(name='labelSup')\n",
    "    overall_loss = []\n",
    "    \n",
    "    if unsup_multiplier >= 1:\n",
    "        unsupEmbeddings = []\n",
    "        for i in range(unsup_multiplier):\n",
    "            unsupEmbeddings.append(Variable(name=\"embeddings_unsup\"+str(i)))\n",
    "    \n",
    "        unsupEmbeddings = concat(*unsupEmbeddings, dim=0)\n",
    "            \n",
    "        (walker_loss, visit_loss) = compute_semisup_loss(supEmbeddings, unsupEmbeddings, labelSup, t_nb, \n",
    "                                                     walker_weight=1.0, visit_weight=0.5)\n",
    "        #overall_loss = [walker_loss, visit_loss]\n",
    "        \n",
    "    overall_loss = [logit_loss(supEmbeddings, labelSup, args.num_classes)] + overall_loss\n",
    "    \n",
    "    # todo maybe use gpu\n",
    "    devs = mx.cpu() if args.loss_gpu is None or args.loss_gpu is '' else mx.gpu(args.loss_gpu)\n",
    "\n",
    "    # create module\n",
    "    model = mx.mod.Module(\n",
    "        context = devs,\n",
    "        symbol  = Group(overall_loss),\n",
    "        data_names = ['embeddings_sup'],#+['embeddings_unsup'+str(i) for i in range(unsup_multiplier)],\n",
    "        label_names = ['labelSup'])\n",
    "    \n",
    "    # allocate memory by given the input data and label shapes\n",
    "    model.bind(data_shapes=[get_embedding_shapes(args.batch_size, args.nembeddings, unsup_multiplier)[0]], \n",
    "               label_shapes=train.provide_label,\n",
    "               inputs_need_grad=True)\n",
    "            \n",
    "    model.init_params(initializer, arg_p, aux_p)    \n",
    "    model.init_optimizer(optimizer=args.optimizer, optimizer_params=(\n",
    "        ('learning_rate', lr), \n",
    "        #('rescale_grad', 0.005),\n",
    "        ('momentum', args.mom),\n",
    "        ('wd', 1e-4),\n",
    "        ('lr_scheduler', lr_scheduler)))\n",
    "    \n",
    "    return model\n",
    "\n",
    "\n",
    "def buildLossModule(arg_p=None, aux_p=None):\n",
    "    supEmbeddings = Variable(name=\"embeddings_sup\")\n",
    "    labelSup = mx.symbol.Variable(name='labelSup')\n",
    "    overall_loss = []\n",
    "    \n",
    "    if unsup_multiplier >= 1:\n",
    "        unsupEmbeddings = []\n",
    "        for i in range(unsup_multiplier):\n",
    "            unsupEmbeddings.append(Variable(name=\"embeddings_unsup\"+str(i)))\n",
    "    \n",
    "        unsupEmbeddings = concat(*unsupEmbeddings, dim=0)\n",
    "            \n",
    "        (walker_loss, visit_loss) = compute_semisup_loss(supEmbeddings, unsupEmbeddings, labelSup, t_nb, \n",
    "                                                     walker_weight=0.8, visit_weight=0.5)\n",
    "        overall_loss = [walker_loss, visit_loss]\n",
    "        \n",
    "    overall_loss = [logit_loss(supEmbeddings, labelSup, args.num_classes)] + overall_loss\n",
    "    \n",
    "    # todo maybe use gpu\n",
    "    devs = mx.cpu() if args.loss_gpu is None or args.loss_gpu is '' else mx.gpu(args.loss_gpu)\n",
    "\n",
    "    # create module\n",
    "    model = mx.mod.Module(\n",
    "        context = devs,\n",
    "        symbol  = Group(overall_loss),\n",
    "        data_names = ['embeddings_sup']+['embeddings_unsup'+str(i) for i in range(unsup_multiplier)],\n",
    "        label_names = ['labelSup'])\n",
    "    \n",
    "    # allocate memory by given the input data and label shapes\n",
    "    model.bind(data_shapes=get_embedding_shapes(args.batch_size, args.nembeddings, unsup_multiplier), \n",
    "               label_shapes=train.provide_label,\n",
    "               inputs_need_grad=True)\n",
    "            \n",
    "    model.init_params(initializer, arg_p, aux_p)    \n",
    "    model.init_optimizer(optimizer=args.optimizer, optimizer_params=(\n",
    "        ('learning_rate', lr), \n",
    "        #('rescale_grad', 0.005),\n",
    "        ('momentum', args.mom),\n",
    "        ('wd', 1e-4),\n",
    "        ('lr_scheduler', lr_scheduler)))\n",
    "    \n",
    "    return model"
   ]
  },
  {
   "cell_type": "code",
   "execution_count": null,
   "metadata": {
    "collapsed": true
   },
   "outputs": [],
   "source": [
    "from common.wrapper_module import WrapperModule\n",
    "#eval_metrics = Multi_Accuracy(num= 3 if unsup_multiplier >= 1 else 1)\n",
    "                    \n",
    "def fit_model(args, embeddingModule, lossModule, data, **kwargs):\n",
    "    \"\"\"\n",
    "    train a model\n",
    "    args : argparse returns\n",
    "    data_loader : function that returns the train and val data iterators\n",
    "    \"\"\"\n",
    "    # logging\n",
    "    head = '%(asctime)-15s Node[' + str(kv.rank) + '] %(message)s'\n",
    "    logging.basicConfig(level=logging.DEBUG, format=head)\n",
    "    logging.info('start with arguments %s', args)\n",
    "    \n",
    "    # data iterators\n",
    "    (train, val) = data\n",
    "\n",
    "    # load model\n",
    "    if 'arg_params' in kwargs and 'aux_params' in kwargs:\n",
    "        arg_params = kwargs['arg_params']\n",
    "        aux_params = kwargs['aux_params']\n",
    "    else: \n",
    "        sym, arg_params, aux_params = fit._load_model(args, kv.rank)\n",
    "        \n",
    "    # save model\n",
    "    checkpoint = fit._save_model(args, kv.rank)\n",
    "\n",
    "    model = WrapperModule(embeddingModule, lossModule, unsup_multiplier)\n",
    "    \n",
    "    logf = open(args.prefix+'logs', 'w')\n",
    "    def validate_model(epoch, *args_):\n",
    "        if epoch % val_interval != 0: \n",
    "            return\n",
    "        res = model.score(val)\n",
    "        #TODO: pull this into default\n",
    "        print('Epoch[%d] Validation-accuracy=%f' % (epoch,  res))\n",
    "        logf.write('Epoch[%d] Validation-accuracy=%f \\n' % (epoch,  res))  # python will convert \\n to os.linesep\n",
    "        logf.flush()\n",
    "\n",
    "        if epoch % save_interval == 0:\n",
    "            model.save_checkpoint(args.prefix, epoch)\n",
    "\n",
    "    #monitor = mx.mon.Monitor(interval=1000, pattern='.*aba_backward.*') \n",
    "    monitor = mx.mon.Monitor(interval=1000, pattern='.*') \n",
    "    \n",
    "    # callbacks that run after each batch\n",
    "    batch_end_callbacks = [mx.callback.Speedometer(args.batch_size*(unsup_multiplier+1), args.disp_batches)]\n",
    "    \n",
    "    epoch_end_callbacks = validate_model\n",
    "\n",
    "    # run\n",
    "    model.fit(train,\n",
    "        begin_epoch        = args.load_epoch if args.load_epoch else 0,\n",
    "        num_epoch          = args.num_epochs,\n",
    "        #eval_data          = val,\n",
    "        #eval_metric        = eval_metrics,\n",
    "        kvstore            = kv,\n",
    "        arg_params         = arg_params,\n",
    "        aux_params         = aux_params,\n",
    "        batch_end_callback = batch_end_callbacks,\n",
    "        epoch_end_callback = epoch_end_callbacks,\n",
    "        allow_missing      = True\n",
    "        #monitor            = monitor\n",
    "             )\n",
    "    logf.close()\n",
    "    return model"
   ]
  },
  {
   "cell_type": "code",
   "execution_count": null,
   "metadata": {
    "scrolled": false
   },
   "outputs": [
    {
     "name": "stderr",
     "output_type": "stream",
     "text": [
      "INFO:root:start with arguments Namespace(batch_size=80, benchmark=0, data_nthreads=4, data_train='/efs/data/cifar-100-mxnet/train.rec', data_val='/efs/data/cifar-100-mxnet/test.rec', disp_batches=20, dtype='float32', gpus='0,1,2,3', image_shape='3,28,28', kv_store='device', load_epoch=None, loss_gpu=0, lr=0.05, lr_factor=0.2, lr_step_epochs='38,45', max_random_aspect_ratio=0, max_random_h=36, max_random_l=50, max_random_rotate_angle=0, max_random_s=50, max_random_scale=1, max_random_shear_ratio=0, min_random_scale=1, model_prefix=None, mom=0.9, monitor=0, nembeddings=256, network=None, num_classes=100, num_epochs=60, num_examples=50000.0, num_layers=None, optimizer='sgd', pad_size=2, prefix='cifar_sup_all2', random_crop=1, random_mirror=1, rgb_mean='123.68,116.779,103.939', test_io=0, top_k=0, wd=0.0001)\n",
      "INFO:root:Epoch[0] Batch [20]\tSpeed: 382.38 samples/sec\taccuracy=nan\n",
      "INFO:root:Epoch[0] Batch [40]\tSpeed: 374.65 samples/sec\taccuracy=nan\n",
      "INFO:root:Epoch[0] Batch [60]\tSpeed: 379.06 samples/sec\taccuracy=nan\n",
      "INFO:root:Epoch[0] Batch [80]\tSpeed: 379.26 samples/sec\taccuracy=nan\n",
      "INFO:root:Epoch[0] Batch [100]\tSpeed: 376.89 samples/sec\taccuracy=nan\n",
      "INFO:root:Epoch[0] Batch [120]\tSpeed: 378.11 samples/sec\taccuracy=nan\n",
      "INFO:root:Epoch[0] Batch [140]\tSpeed: 377.61 samples/sec\taccuracy=nan\n",
      "INFO:root:Epoch[0] Batch [160]\tSpeed: 381.85 samples/sec\taccuracy=nan\n",
      "INFO:root:Epoch[0] Batch [180]\tSpeed: 376.75 samples/sec\taccuracy=nan\n",
      "INFO:root:Epoch[0] Batch [200]\tSpeed: 376.21 samples/sec\taccuracy=nan\n",
      "INFO:root:Epoch[0] Batch [220]\tSpeed: 377.53 samples/sec\taccuracy=nan\n",
      "INFO:root:Epoch[0] Batch [240]\tSpeed: 378.55 samples/sec\taccuracy=nan\n",
      "INFO:root:Epoch[0] Batch [260]\tSpeed: 374.85 samples/sec\taccuracy=nan\n",
      "INFO:root:Epoch[0] Batch [280]\tSpeed: 376.39 samples/sec\taccuracy=nan\n",
      "INFO:root:Epoch[0] Batch [300]\tSpeed: 379.01 samples/sec\taccuracy=nan\n",
      "INFO:root:Epoch[0] Batch [320]\tSpeed: 379.07 samples/sec\taccuracy=nan\n",
      "INFO:root:Epoch[0] Batch [340]\tSpeed: 376.10 samples/sec\taccuracy=nan\n",
      "INFO:root:Epoch[0] Batch [360]\tSpeed: 373.97 samples/sec\taccuracy=nan\n",
      "INFO:root:Epoch[0] Batch [380]\tSpeed: 374.97 samples/sec\taccuracy=nan\n",
      "INFO:root:Epoch[0] Batch [400]\tSpeed: 374.35 samples/sec\taccuracy=nan\n",
      "INFO:root:Epoch[0] Batch [420]\tSpeed: 376.03 samples/sec\taccuracy=nan\n",
      "INFO:root:Epoch[0] Batch [440]\tSpeed: 374.62 samples/sec\taccuracy=nan\n",
      "INFO:root:Epoch[0] Batch [460]\tSpeed: 377.57 samples/sec\taccuracy=nan\n",
      "INFO:root:Epoch[0] Batch [480]\tSpeed: 379.30 samples/sec\taccuracy=nan\n",
      "INFO:root:Epoch[0] Batch [500]\tSpeed: 377.35 samples/sec\taccuracy=nan\n",
      "INFO:root:Epoch[0] Batch [520]\tSpeed: 376.57 samples/sec\taccuracy=nan\n",
      "INFO:root:Epoch[0] Batch [540]\tSpeed: 376.88 samples/sec\taccuracy=nan\n",
      "INFO:root:Epoch[0] Batch [560]\tSpeed: 375.50 samples/sec\taccuracy=nan\n",
      "INFO:root:Epoch[0] Batch [580]\tSpeed: 376.23 samples/sec\taccuracy=nan\n",
      "INFO:root:Epoch[0] Batch [600]\tSpeed: 375.35 samples/sec\taccuracy=nan\n",
      "INFO:root:Epoch[0] Batch [620]\tSpeed: 377.30 samples/sec\taccuracy=nan\n",
      "INFO:root:Epoch[0] Train-accuracy=nan\n",
      "INFO:root:Epoch[0] Time cost=133.071\n"
     ]
    },
    {
     "name": "stdout",
     "output_type": "stream",
     "text": [
      "Epoch[0] Validation-accuracy=0.099300\n"
     ]
    },
    {
     "name": "stderr",
     "output_type": "stream",
     "text": [
      "INFO:root:Saved checkpoint to \"emb_cifar_sup_all2-0000.params\"\n",
      "INFO:root:Saved checkpoint to \"loss_cifar_sup_all2-0000.params\"\n",
      "INFO:root:Epoch[1] Batch [20]\tSpeed: 376.16 samples/sec\taccuracy=nan\n",
      "INFO:root:Epoch[1] Batch [40]\tSpeed: 374.52 samples/sec\taccuracy=nan\n",
      "INFO:root:Epoch[1] Batch [60]\tSpeed: 376.37 samples/sec\taccuracy=nan\n",
      "INFO:root:Epoch[1] Batch [80]\tSpeed: 375.42 samples/sec\taccuracy=nan\n",
      "INFO:root:Epoch[1] Batch [100]\tSpeed: 376.72 samples/sec\taccuracy=nan\n",
      "INFO:root:Epoch[1] Batch [120]\tSpeed: 377.97 samples/sec\taccuracy=nan\n",
      "INFO:root:Epoch[1] Batch [140]\tSpeed: 379.05 samples/sec\taccuracy=nan\n",
      "INFO:root:Epoch[1] Batch [160]\tSpeed: 376.54 samples/sec\taccuracy=nan\n",
      "INFO:root:Epoch[1] Batch [180]\tSpeed: 376.13 samples/sec\taccuracy=nan\n",
      "INFO:root:Epoch[1] Batch [200]\tSpeed: 376.95 samples/sec\taccuracy=nan\n",
      "INFO:root:Epoch[1] Batch [220]\tSpeed: 375.53 samples/sec\taccuracy=nan\n",
      "INFO:root:Epoch[1] Batch [240]\tSpeed: 375.73 samples/sec\taccuracy=nan\n",
      "INFO:root:Epoch[1] Batch [260]\tSpeed: 375.05 samples/sec\taccuracy=nan\n",
      "INFO:root:Epoch[1] Batch [280]\tSpeed: 378.72 samples/sec\taccuracy=nan\n",
      "INFO:root:Epoch[1] Batch [300]\tSpeed: 378.56 samples/sec\taccuracy=nan\n",
      "INFO:root:Epoch[1] Batch [320]\tSpeed: 375.39 samples/sec\taccuracy=nan\n",
      "INFO:root:Epoch[1] Batch [340]\tSpeed: 376.10 samples/sec\taccuracy=nan\n",
      "INFO:root:Epoch[1] Batch [360]\tSpeed: 374.95 samples/sec\taccuracy=nan\n",
      "INFO:root:Epoch[1] Batch [380]\tSpeed: 375.15 samples/sec\taccuracy=nan\n",
      "INFO:root:Epoch[1] Batch [400]\tSpeed: 375.83 samples/sec\taccuracy=nan\n",
      "INFO:root:Epoch[1] Batch [420]\tSpeed: 376.27 samples/sec\taccuracy=nan\n",
      "INFO:root:Epoch[1] Batch [440]\tSpeed: 377.26 samples/sec\taccuracy=nan\n",
      "INFO:root:Epoch[1] Batch [460]\tSpeed: 378.42 samples/sec\taccuracy=nan\n",
      "INFO:root:Epoch[1] Batch [480]\tSpeed: 379.05 samples/sec\taccuracy=nan\n",
      "INFO:root:Epoch[1] Batch [500]\tSpeed: 376.05 samples/sec\taccuracy=nan\n",
      "INFO:root:Epoch[1] Batch [520]\tSpeed: 376.80 samples/sec\taccuracy=nan\n",
      "INFO:root:Epoch[1] Batch [540]\tSpeed: 373.69 samples/sec\taccuracy=nan\n",
      "INFO:root:Epoch[1] Batch [560]\tSpeed: 376.70 samples/sec\taccuracy=nan\n",
      "INFO:root:Epoch[1] Batch [580]\tSpeed: 375.89 samples/sec\taccuracy=nan\n",
      "INFO:root:Epoch[1] Batch [600]\tSpeed: 376.65 samples/sec\taccuracy=nan\n",
      "INFO:root:Epoch[1] Batch [620]\tSpeed: 378.52 samples/sec\taccuracy=nan\n",
      "INFO:root:Epoch[1] Train-accuracy=nan\n",
      "INFO:root:Epoch[1] Time cost=132.856\n"
     ]
    },
    {
     "name": "stdout",
     "output_type": "stream",
     "text": [
      "Epoch[1] Validation-accuracy=0.158200\n"
     ]
    },
    {
     "name": "stderr",
     "output_type": "stream",
     "text": [
      "INFO:root:Epoch[2] Batch [20]\tSpeed: 376.21 samples/sec\taccuracy=nan\n",
      "INFO:root:Epoch[2] Batch [40]\tSpeed: 375.75 samples/sec\taccuracy=nan\n",
      "INFO:root:Epoch[2] Batch [60]\tSpeed: 375.30 samples/sec\taccuracy=nan\n",
      "INFO:root:Epoch[2] Batch [80]\tSpeed: 375.44 samples/sec\taccuracy=nan\n",
      "INFO:root:Epoch[2] Batch [100]\tSpeed: 375.53 samples/sec\taccuracy=nan\n",
      "INFO:root:Epoch[2] Batch [120]\tSpeed: 378.47 samples/sec\taccuracy=nan\n",
      "INFO:root:Epoch[2] Batch [140]\tSpeed: 377.89 samples/sec\taccuracy=nan\n",
      "INFO:root:Epoch[2] Batch [160]\tSpeed: 373.38 samples/sec\taccuracy=nan\n",
      "INFO:root:Epoch[2] Batch [180]\tSpeed: 374.72 samples/sec\taccuracy=nan\n",
      "INFO:root:Epoch[2] Batch [200]\tSpeed: 375.70 samples/sec\taccuracy=nan\n",
      "INFO:root:Epoch[2] Batch [220]\tSpeed: 375.01 samples/sec\taccuracy=nan\n",
      "INFO:root:Epoch[2] Batch [240]\tSpeed: 375.62 samples/sec\taccuracy=nan\n",
      "INFO:root:Epoch[2] Batch [260]\tSpeed: 376.67 samples/sec\taccuracy=nan\n",
      "INFO:root:Epoch[2] Batch [280]\tSpeed: 378.59 samples/sec\taccuracy=nan\n",
      "INFO:root:Epoch[2] Batch [300]\tSpeed: 379.32 samples/sec\taccuracy=nan\n",
      "INFO:root:Epoch[2] Batch [320]\tSpeed: 375.40 samples/sec\taccuracy=nan\n",
      "INFO:root:Epoch[2] Batch [340]\tSpeed: 377.57 samples/sec\taccuracy=nan\n",
      "INFO:root:Epoch[2] Batch [360]\tSpeed: 375.92 samples/sec\taccuracy=nan\n",
      "INFO:root:Epoch[2] Batch [380]\tSpeed: 375.16 samples/sec\taccuracy=nan\n",
      "INFO:root:Epoch[2] Batch [400]\tSpeed: 376.38 samples/sec\taccuracy=nan\n",
      "INFO:root:Epoch[2] Batch [420]\tSpeed: 377.58 samples/sec\taccuracy=nan\n",
      "INFO:root:Epoch[2] Batch [440]\tSpeed: 375.47 samples/sec\taccuracy=nan\n",
      "INFO:root:Epoch[2] Batch [460]\tSpeed: 379.80 samples/sec\taccuracy=nan\n",
      "INFO:root:Epoch[2] Batch [480]\tSpeed: 377.49 samples/sec\taccuracy=nan\n",
      "INFO:root:Epoch[2] Batch [500]\tSpeed: 377.15 samples/sec\taccuracy=nan\n",
      "INFO:root:Epoch[2] Batch [520]\tSpeed: 374.25 samples/sec\taccuracy=nan\n",
      "INFO:root:Epoch[2] Batch [540]\tSpeed: 377.75 samples/sec\taccuracy=nan\n",
      "INFO:root:Epoch[2] Batch [560]\tSpeed: 376.00 samples/sec\taccuracy=nan\n",
      "INFO:root:Epoch[2] Batch [580]\tSpeed: 376.03 samples/sec\taccuracy=nan\n",
      "INFO:root:Epoch[2] Batch [600]\tSpeed: 377.21 samples/sec\taccuracy=nan\n",
      "INFO:root:Epoch[2] Batch [620]\tSpeed: 378.83 samples/sec\taccuracy=nan\n",
      "INFO:root:Epoch[2] Train-accuracy=nan\n",
      "INFO:root:Epoch[2] Time cost=132.856\n"
     ]
    },
    {
     "name": "stdout",
     "output_type": "stream",
     "text": [
      "Epoch[2] Validation-accuracy=0.219400\n"
     ]
    },
    {
     "name": "stderr",
     "output_type": "stream",
     "text": [
      "INFO:root:Epoch[3] Batch [20]\tSpeed: 375.43 samples/sec\taccuracy=nan\n",
      "INFO:root:Epoch[3] Batch [40]\tSpeed: 376.75 samples/sec\taccuracy=nan\n",
      "INFO:root:Epoch[3] Batch [60]\tSpeed: 375.79 samples/sec\taccuracy=nan\n",
      "INFO:root:Epoch[3] Batch [80]\tSpeed: 376.04 samples/sec\taccuracy=nan\n",
      "INFO:root:Epoch[3] Batch [100]\tSpeed: 376.42 samples/sec\taccuracy=nan\n",
      "INFO:root:Epoch[3] Batch [120]\tSpeed: 377.66 samples/sec\taccuracy=nan\n",
      "INFO:root:Epoch[3] Batch [140]\tSpeed: 376.34 samples/sec\taccuracy=nan\n",
      "INFO:root:Epoch[3] Batch [160]\tSpeed: 373.07 samples/sec\taccuracy=nan\n",
      "INFO:root:Epoch[3] Batch [180]\tSpeed: 375.63 samples/sec\taccuracy=nan\n",
      "INFO:root:Epoch[3] Batch [200]\tSpeed: 375.89 samples/sec\taccuracy=nan\n",
      "INFO:root:Epoch[3] Batch [220]\tSpeed: 375.39 samples/sec\taccuracy=nan\n",
      "INFO:root:Epoch[3] Batch [240]\tSpeed: 377.86 samples/sec\taccuracy=nan\n",
      "INFO:root:Epoch[3] Batch [260]\tSpeed: 376.93 samples/sec\taccuracy=nan\n",
      "INFO:root:Epoch[3] Batch [280]\tSpeed: 379.70 samples/sec\taccuracy=nan\n",
      "INFO:root:Epoch[3] Batch [300]\tSpeed: 376.57 samples/sec\taccuracy=nan\n",
      "INFO:root:Epoch[3] Batch [320]\tSpeed: 376.16 samples/sec\taccuracy=nan\n",
      "INFO:root:Epoch[3] Batch [340]\tSpeed: 376.21 samples/sec\taccuracy=nan\n",
      "INFO:root:Epoch[3] Batch [360]\tSpeed: 376.95 samples/sec\taccuracy=nan\n",
      "INFO:root:Epoch[3] Batch [380]\tSpeed: 375.69 samples/sec\taccuracy=nan\n",
      "INFO:root:Epoch[3] Batch [400]\tSpeed: 375.12 samples/sec\taccuracy=nan\n",
      "INFO:root:Epoch[3] Batch [420]\tSpeed: 375.87 samples/sec\taccuracy=nan\n",
      "INFO:root:Epoch[3] Batch [440]\tSpeed: 380.17 samples/sec\taccuracy=nan\n",
      "INFO:root:Epoch[3] Batch [460]\tSpeed: 378.14 samples/sec\taccuracy=nan\n",
      "INFO:root:Epoch[3] Batch [480]\tSpeed: 374.69 samples/sec\taccuracy=nan\n",
      "INFO:root:Epoch[3] Batch [500]\tSpeed: 375.93 samples/sec\taccuracy=nan\n",
      "INFO:root:Epoch[3] Batch [520]\tSpeed: 375.34 samples/sec\taccuracy=nan\n",
      "INFO:root:Epoch[3] Batch [540]\tSpeed: 377.88 samples/sec\taccuracy=nan\n",
      "INFO:root:Epoch[3] Batch [560]\tSpeed: 374.26 samples/sec\taccuracy=nan\n",
      "INFO:root:Epoch[3] Batch [580]\tSpeed: 375.68 samples/sec\taccuracy=nan\n",
      "INFO:root:Epoch[3] Batch [600]\tSpeed: 378.05 samples/sec\taccuracy=nan\n",
      "INFO:root:Epoch[3] Batch [620]\tSpeed: 378.68 samples/sec\taccuracy=nan\n",
      "INFO:root:Epoch[3] Train-accuracy=nan\n",
      "INFO:root:Epoch[3] Time cost=132.873\n"
     ]
    },
    {
     "name": "stdout",
     "output_type": "stream",
     "text": [
      "Epoch[3] Validation-accuracy=0.278300\n"
     ]
    },
    {
     "name": "stderr",
     "output_type": "stream",
     "text": [
      "INFO:root:Epoch[4] Batch [20]\tSpeed: 376.15 samples/sec\taccuracy=nan\n",
      "INFO:root:Epoch[4] Batch [40]\tSpeed: 377.49 samples/sec\taccuracy=nan\n",
      "INFO:root:Epoch[4] Batch [60]\tSpeed: 375.31 samples/sec\taccuracy=nan\n",
      "INFO:root:Epoch[4] Batch [80]\tSpeed: 376.92 samples/sec\taccuracy=nan\n",
      "INFO:root:Epoch[4] Batch [100]\tSpeed: 376.12 samples/sec\taccuracy=nan\n",
      "INFO:root:Epoch[4] Batch [120]\tSpeed: 380.04 samples/sec\taccuracy=nan\n",
      "INFO:root:Epoch[4] Batch [140]\tSpeed: 375.24 samples/sec\taccuracy=nan\n",
      "INFO:root:Epoch[4] Batch [160]\tSpeed: 374.64 samples/sec\taccuracy=nan\n",
      "INFO:root:Epoch[4] Batch [180]\tSpeed: 375.57 samples/sec\taccuracy=nan\n",
      "INFO:root:Epoch[4] Batch [200]\tSpeed: 378.29 samples/sec\taccuracy=nan\n",
      "INFO:root:Epoch[4] Batch [220]\tSpeed: 375.68 samples/sec\taccuracy=nan\n",
      "INFO:root:Epoch[4] Batch [240]\tSpeed: 377.78 samples/sec\taccuracy=nan\n",
      "INFO:root:Epoch[4] Batch [260]\tSpeed: 377.57 samples/sec\taccuracy=nan\n",
      "INFO:root:Epoch[4] Batch [280]\tSpeed: 376.31 samples/sec\taccuracy=nan\n",
      "INFO:root:Epoch[4] Batch [300]\tSpeed: 376.32 samples/sec\taccuracy=nan\n",
      "INFO:root:Epoch[4] Batch [320]\tSpeed: 373.26 samples/sec\taccuracy=nan\n",
      "INFO:root:Epoch[4] Batch [340]\tSpeed: 374.92 samples/sec\taccuracy=nan\n",
      "INFO:root:Epoch[4] Batch [360]\tSpeed: 376.06 samples/sec\taccuracy=nan\n",
      "INFO:root:Epoch[4] Batch [380]\tSpeed: 376.39 samples/sec\taccuracy=nan\n",
      "INFO:root:Epoch[4] Batch [400]\tSpeed: 375.64 samples/sec\taccuracy=nan\n",
      "INFO:root:Epoch[4] Batch [420]\tSpeed: 376.61 samples/sec\taccuracy=nan\n",
      "INFO:root:Epoch[4] Batch [440]\tSpeed: 378.35 samples/sec\taccuracy=nan\n",
      "INFO:root:Epoch[4] Batch [460]\tSpeed: 377.25 samples/sec\taccuracy=nan\n",
      "INFO:root:Epoch[4] Batch [480]\tSpeed: 375.73 samples/sec\taccuracy=nan\n",
      "INFO:root:Epoch[4] Batch [500]\tSpeed: 375.62 samples/sec\taccuracy=nan\n",
      "INFO:root:Epoch[4] Batch [520]\tSpeed: 377.25 samples/sec\taccuracy=nan\n",
      "INFO:root:Epoch[4] Batch [540]\tSpeed: 377.10 samples/sec\taccuracy=nan\n",
      "INFO:root:Epoch[4] Batch [560]\tSpeed: 375.78 samples/sec\taccuracy=nan\n",
      "INFO:root:Epoch[4] Batch [580]\tSpeed: 376.95 samples/sec\taccuracy=nan\n",
      "INFO:root:Epoch[4] Batch [600]\tSpeed: 378.21 samples/sec\taccuracy=nan\n",
      "INFO:root:Epoch[4] Batch [620]\tSpeed: 377.10 samples/sec\taccuracy=nan\n",
      "INFO:root:Epoch[4] Train-accuracy=nan\n",
      "INFO:root:Epoch[4] Time cost=132.878\n"
     ]
    },
    {
     "name": "stdout",
     "output_type": "stream",
     "text": [
      "Epoch[4] Validation-accuracy=0.327200\n"
     ]
    },
    {
     "name": "stderr",
     "output_type": "stream",
     "text": [
      "INFO:root:Epoch[5] Batch [20]\tSpeed: 376.66 samples/sec\taccuracy=nan\n",
      "INFO:root:Epoch[5] Batch [40]\tSpeed: 374.44 samples/sec\taccuracy=nan\n",
      "INFO:root:Epoch[5] Batch [60]\tSpeed: 375.91 samples/sec\taccuracy=nan\n",
      "INFO:root:Epoch[5] Batch [80]\tSpeed: 377.51 samples/sec\taccuracy=nan\n",
      "INFO:root:Epoch[5] Batch [100]\tSpeed: 379.31 samples/sec\taccuracy=nan\n",
      "INFO:root:Epoch[5] Batch [120]\tSpeed: 376.67 samples/sec\taccuracy=nan\n",
      "INFO:root:Epoch[5] Batch [140]\tSpeed: 373.11 samples/sec\taccuracy=nan\n",
      "INFO:root:Epoch[5] Batch [160]\tSpeed: 375.25 samples/sec\taccuracy=nan\n",
      "INFO:root:Epoch[5] Batch [180]\tSpeed: 374.60 samples/sec\taccuracy=nan\n",
      "INFO:root:Epoch[5] Batch [200]\tSpeed: 376.79 samples/sec\taccuracy=nan\n",
      "INFO:root:Epoch[5] Batch [220]\tSpeed: 375.70 samples/sec\taccuracy=nan\n",
      "INFO:root:Epoch[5] Batch [240]\tSpeed: 377.17 samples/sec\taccuracy=nan\n",
      "INFO:root:Epoch[5] Batch [260]\tSpeed: 379.07 samples/sec\taccuracy=nan\n",
      "INFO:root:Epoch[5] Batch [280]\tSpeed: 380.71 samples/sec\taccuracy=nan\n",
      "INFO:root:Epoch[5] Batch [300]\tSpeed: 374.47 samples/sec\taccuracy=nan\n",
      "INFO:root:Epoch[5] Batch [320]\tSpeed: 377.64 samples/sec\taccuracy=nan\n",
      "INFO:root:Epoch[5] Batch [340]\tSpeed: 376.31 samples/sec\taccuracy=nan\n",
      "INFO:root:Epoch[5] Batch [360]\tSpeed: 375.58 samples/sec\taccuracy=nan\n",
      "INFO:root:Epoch[5] Batch [380]\tSpeed: 375.97 samples/sec\taccuracy=nan\n",
      "INFO:root:Epoch[5] Batch [400]\tSpeed: 375.71 samples/sec\taccuracy=nan\n",
      "INFO:root:Epoch[5] Batch [420]\tSpeed: 378.86 samples/sec\taccuracy=nan\n",
      "INFO:root:Epoch[5] Batch [440]\tSpeed: 378.04 samples/sec\taccuracy=nan\n",
      "INFO:root:Epoch[5] Batch [460]\tSpeed: 375.56 samples/sec\taccuracy=nan\n",
      "INFO:root:Epoch[5] Batch [480]\tSpeed: 374.55 samples/sec\taccuracy=nan\n",
      "INFO:root:Epoch[5] Batch [500]\tSpeed: 374.08 samples/sec\taccuracy=nan\n",
      "INFO:root:Epoch[5] Batch [520]\tSpeed: 375.55 samples/sec\taccuracy=nan\n",
      "INFO:root:Epoch[5] Batch [540]\tSpeed: 375.52 samples/sec\taccuracy=nan\n",
      "INFO:root:Epoch[5] Batch [560]\tSpeed: 375.53 samples/sec\taccuracy=nan\n",
      "INFO:root:Epoch[5] Batch [580]\tSpeed: 377.94 samples/sec\taccuracy=nan\n",
      "INFO:root:Epoch[5] Batch [600]\tSpeed: 377.95 samples/sec\taccuracy=nan\n",
      "INFO:root:Epoch[5] Batch [620]\tSpeed: 373.68 samples/sec\taccuracy=nan\n",
      "INFO:root:Epoch[5] Train-accuracy=nan\n",
      "INFO:root:Epoch[5] Time cost=132.916\n"
     ]
    },
    {
     "name": "stdout",
     "output_type": "stream",
     "text": [
      "Epoch[5] Validation-accuracy=0.380600\n"
     ]
    },
    {
     "name": "stderr",
     "output_type": "stream",
     "text": [
      "INFO:root:Saved checkpoint to \"emb_cifar_sup_all2-0005.params\"\n",
      "INFO:root:Saved checkpoint to \"loss_cifar_sup_all2-0005.params\"\n",
      "INFO:root:Epoch[6] Batch [20]\tSpeed: 376.33 samples/sec\taccuracy=nan\n",
      "INFO:root:Epoch[6] Batch [40]\tSpeed: 378.64 samples/sec\taccuracy=nan\n",
      "INFO:root:Epoch[6] Batch [60]\tSpeed: 376.35 samples/sec\taccuracy=nan\n",
      "INFO:root:Epoch[6] Batch [80]\tSpeed: 378.75 samples/sec\taccuracy=nan\n",
      "INFO:root:Epoch[6] Batch [100]\tSpeed: 377.03 samples/sec\taccuracy=nan\n",
      "INFO:root:Epoch[6] Batch [120]\tSpeed: 376.19 samples/sec\taccuracy=nan\n",
      "INFO:root:Epoch[6] Batch [140]\tSpeed: 375.53 samples/sec\taccuracy=nan\n",
      "INFO:root:Epoch[6] Batch [160]\tSpeed: 375.24 samples/sec\taccuracy=nan\n",
      "INFO:root:Epoch[6] Batch [180]\tSpeed: 376.71 samples/sec\taccuracy=nan\n",
      "INFO:root:Epoch[6] Batch [200]\tSpeed: 375.56 samples/sec\taccuracy=nan\n",
      "INFO:root:Epoch[6] Batch [220]\tSpeed: 376.13 samples/sec\taccuracy=nan\n",
      "INFO:root:Epoch[6] Batch [240]\tSpeed: 377.27 samples/sec\taccuracy=nan\n",
      "INFO:root:Epoch[6] Batch [260]\tSpeed: 378.10 samples/sec\taccuracy=nan\n",
      "INFO:root:Epoch[6] Batch [280]\tSpeed: 374.47 samples/sec\taccuracy=nan\n",
      "INFO:root:Epoch[6] Batch [300]\tSpeed: 374.56 samples/sec\taccuracy=nan\n",
      "INFO:root:Epoch[6] Batch [320]\tSpeed: 375.05 samples/sec\taccuracy=nan\n",
      "INFO:root:Epoch[6] Batch [340]\tSpeed: 376.21 samples/sec\taccuracy=nan\n",
      "INFO:root:Epoch[6] Batch [360]\tSpeed: 374.77 samples/sec\taccuracy=nan\n",
      "INFO:root:Epoch[6] Batch [380]\tSpeed: 376.66 samples/sec\taccuracy=nan\n",
      "INFO:root:Epoch[6] Batch [400]\tSpeed: 379.50 samples/sec\taccuracy=nan\n",
      "INFO:root:Epoch[6] Batch [420]\tSpeed: 379.08 samples/sec\taccuracy=nan\n",
      "INFO:root:Epoch[6] Batch [440]\tSpeed: 378.55 samples/sec\taccuracy=nan\n",
      "INFO:root:Epoch[6] Batch [460]\tSpeed: 375.36 samples/sec\taccuracy=nan\n",
      "INFO:root:Epoch[6] Batch [480]\tSpeed: 375.86 samples/sec\taccuracy=nan\n",
      "INFO:root:Epoch[6] Batch [500]\tSpeed: 375.96 samples/sec\taccuracy=nan\n",
      "INFO:root:Epoch[6] Batch [520]\tSpeed: 377.00 samples/sec\taccuracy=nan\n",
      "INFO:root:Epoch[6] Batch [540]\tSpeed: 377.02 samples/sec\taccuracy=nan\n",
      "INFO:root:Epoch[6] Batch [560]\tSpeed: 375.84 samples/sec\taccuracy=nan\n",
      "INFO:root:Epoch[6] Batch [580]\tSpeed: 378.49 samples/sec\taccuracy=nan\n",
      "INFO:root:Epoch[6] Batch [600]\tSpeed: 377.62 samples/sec\taccuracy=nan\n",
      "INFO:root:Epoch[6] Batch [620]\tSpeed: 376.13 samples/sec\taccuracy=nan\n",
      "INFO:root:Epoch[6] Train-accuracy=nan\n",
      "INFO:root:Epoch[6] Time cost=132.798\n"
     ]
    },
    {
     "name": "stdout",
     "output_type": "stream",
     "text": [
      "Epoch[6] Validation-accuracy=0.391900\n"
     ]
    },
    {
     "name": "stderr",
     "output_type": "stream",
     "text": [
      "INFO:root:Epoch[7] Batch [20]\tSpeed: 377.32 samples/sec\taccuracy=nan\n",
      "INFO:root:Epoch[7] Batch [40]\tSpeed: 374.04 samples/sec\taccuracy=nan\n",
      "INFO:root:Epoch[7] Batch [60]\tSpeed: 376.97 samples/sec\taccuracy=nan\n",
      "INFO:root:Epoch[7] Batch [80]\tSpeed: 378.29 samples/sec\taccuracy=nan\n",
      "INFO:root:Epoch[7] Batch [100]\tSpeed: 375.07 samples/sec\taccuracy=nan\n",
      "INFO:root:Epoch[7] Batch [120]\tSpeed: 375.90 samples/sec\taccuracy=nan\n",
      "INFO:root:Epoch[7] Batch [140]\tSpeed: 375.14 samples/sec\taccuracy=nan\n",
      "INFO:root:Epoch[7] Batch [160]\tSpeed: 376.53 samples/sec\taccuracy=nan\n",
      "INFO:root:Epoch[7] Batch [180]\tSpeed: 374.82 samples/sec\taccuracy=nan\n",
      "INFO:root:Epoch[7] Batch [200]\tSpeed: 376.18 samples/sec\taccuracy=nan\n",
      "INFO:root:Epoch[7] Batch [220]\tSpeed: 376.75 samples/sec\taccuracy=nan\n",
      "INFO:root:Epoch[7] Batch [240]\tSpeed: 378.81 samples/sec\taccuracy=nan\n",
      "INFO:root:Epoch[7] Batch [260]\tSpeed: 377.90 samples/sec\taccuracy=nan\n",
      "INFO:root:Epoch[7] Batch [280]\tSpeed: 376.69 samples/sec\taccuracy=nan\n",
      "INFO:root:Epoch[7] Batch [300]\tSpeed: 374.84 samples/sec\taccuracy=nan\n",
      "INFO:root:Epoch[7] Batch [320]\tSpeed: 376.77 samples/sec\taccuracy=nan\n",
      "INFO:root:Epoch[7] Batch [340]\tSpeed: 375.10 samples/sec\taccuracy=nan\n",
      "INFO:root:Epoch[7] Batch [360]\tSpeed: 376.53 samples/sec\taccuracy=nan\n",
      "INFO:root:Epoch[7] Batch [380]\tSpeed: 376.18 samples/sec\taccuracy=nan\n",
      "INFO:root:Epoch[7] Batch [400]\tSpeed: 378.21 samples/sec\taccuracy=nan\n",
      "INFO:root:Epoch[7] Batch [420]\tSpeed: 377.66 samples/sec\taccuracy=nan\n",
      "INFO:root:Epoch[7] Batch [440]\tSpeed: 374.44 samples/sec\taccuracy=nan\n",
      "INFO:root:Epoch[7] Batch [460]\tSpeed: 375.82 samples/sec\taccuracy=nan\n",
      "INFO:root:Epoch[7] Batch [480]\tSpeed: 375.14 samples/sec\taccuracy=nan\n",
      "INFO:root:Epoch[7] Batch [500]\tSpeed: 377.19 samples/sec\taccuracy=nan\n",
      "INFO:root:Epoch[7] Batch [520]\tSpeed: 376.54 samples/sec\taccuracy=nan\n",
      "INFO:root:Epoch[7] Batch [540]\tSpeed: 377.04 samples/sec\taccuracy=nan\n",
      "INFO:root:Epoch[7] Batch [560]\tSpeed: 378.05 samples/sec\taccuracy=nan\n",
      "INFO:root:Epoch[7] Batch [580]\tSpeed: 381.84 samples/sec\taccuracy=nan\n",
      "INFO:root:Epoch[7] Batch [600]\tSpeed: 376.12 samples/sec\taccuracy=nan\n",
      "INFO:root:Epoch[7] Batch [620]\tSpeed: 375.40 samples/sec\taccuracy=nan\n",
      "INFO:root:Epoch[7] Train-accuracy=nan\n",
      "INFO:root:Epoch[7] Time cost=132.849\n"
     ]
    },
    {
     "name": "stdout",
     "output_type": "stream",
     "text": [
      "Epoch[7] Validation-accuracy=0.431500\n"
     ]
    },
    {
     "name": "stderr",
     "output_type": "stream",
     "text": [
      "INFO:root:Epoch[8] Batch [20]\tSpeed: 373.71 samples/sec\taccuracy=nan\n",
      "INFO:root:Epoch[8] Batch [40]\tSpeed: 375.56 samples/sec\taccuracy=nan\n",
      "INFO:root:Epoch[8] Batch [60]\tSpeed: 375.91 samples/sec\taccuracy=nan\n",
      "INFO:root:Epoch[8] Batch [80]\tSpeed: 379.05 samples/sec\taccuracy=nan\n",
      "INFO:root:Epoch[8] Batch [100]\tSpeed: 374.84 samples/sec\taccuracy=nan\n",
      "INFO:root:Epoch[8] Batch [120]\tSpeed: 376.83 samples/sec\taccuracy=nan\n",
      "INFO:root:Epoch[8] Batch [140]\tSpeed: 375.18 samples/sec\taccuracy=nan\n",
      "INFO:root:Epoch[8] Batch [160]\tSpeed: 375.50 samples/sec\taccuracy=nan\n",
      "INFO:root:Epoch[8] Batch [180]\tSpeed: 376.39 samples/sec\taccuracy=nan\n",
      "INFO:root:Epoch[8] Batch [200]\tSpeed: 375.39 samples/sec\taccuracy=nan\n"
     ]
    }
   ],
   "source": [
    "train.reset()\n",
    "\n",
    "# train using a checkpoint with 20% validation accuracy, trained only supervised\n",
    "#(sym, arg_p, aux_p) = mx.model.load_checkpoint('embedding_val30',25)\n",
    "#embeddingModule = buildEmbeddingModule(arg_p, aux_p)      \n",
    "\n",
    "# train from previous iteration\n",
    "#(arg_p_emb, aux_p_emb, arg_p_loss, aux_p_loss) = WrapperModule.load_checkpoint('cifarsemisup', 200)\n",
    "#embeddingModule = buildEmbeddingModule(arg_p_emb, aux_p_emb)      \n",
    "#lossModule = buildLossModule(arg_p_loss, aux_p_loss)\n",
    "\n",
    "# train from scratch\n",
    "embeddingModule = buildEmbeddingModule()\n",
    "\n",
    "#semisupervised loss module\n",
    "#lossModule = buildLossModule()\n",
    "\n",
    "#supervised loss module\n",
    "lossModule = buildSupLossModule()\n",
    "\n",
    "m = fit_model(args, embeddingModule, lossModule, (train, val))"
   ]
  },
  {
   "cell_type": "code",
   "execution_count": null,
   "metadata": {
    "collapsed": true
   },
   "outputs": [],
   "source": [
    "aux_p"
   ]
  },
  {
   "cell_type": "code",
   "execution_count": null,
   "metadata": {
    "collapsed": true
   },
   "outputs": [],
   "source": [
    "embeddingModule.save_checkpoint('cifarsemisup200', 200)"
   ]
  },
  {
   "cell_type": "code",
   "execution_count": null,
   "metadata": {
    "collapsed": true
   },
   "outputs": [],
   "source": [
    "lossModule.save_checkpoint('cifarsemisup200_loss', 200)"
   ]
  },
  {
   "cell_type": "code",
   "execution_count": null,
   "metadata": {
    "collapsed": true
   },
   "outputs": [],
   "source": [
    "val.reset()\n",
    "val.next().label[0].shape[0]"
   ]
  },
  {
   "cell_type": "code",
   "execution_count": null,
   "metadata": {
    "collapsed": true
   },
   "outputs": [],
   "source": [
    "class Multi_Accuracy(mx.metric.EvalMetric):\n",
    "    \"\"\"Calculate accuracies of multi label\"\"\"\n",
    "\n",
    "    def __init__(self, num=None):\n",
    "        super(Multi_Accuracy, self).__init__('multi-accuracy', num)\n",
    "\n",
    "    def update(self, labels, preds):\n",
    "\n",
    "        #for i in range(len(preds)):\n",
    "        for i in range(1):\n",
    "            pred_label = mx.nd.argmax_channel(preds[i]).asnumpy().astype('int32')\n",
    "            label = labels[0].asnumpy().astype('int32')\n",
    "\n",
    "            #mx.metric.check_label_shapes(label, pred_label)\n",
    "            \n",
    "            #print((pred_label.flat == label.flat).sum())\n",
    "            #print(len(pred_label.flat))\n",
    "\n",
    "            \n",
    "            self.sum_metric[i] += (pred_label.flat == label.flat).sum()\n",
    "            self.num_inst[i] += len(pred_label.flat)"
   ]
  },
  {
   "cell_type": "code",
   "execution_count": null,
   "metadata": {
    "collapsed": true
   },
   "outputs": [],
   "source": [
    "# batch 10 train 0.389, valid: 0.40"
   ]
  },
  {
   "cell_type": "code",
   "execution_count": null,
   "metadata": {
    "collapsed": true
   },
   "outputs": [],
   "source": []
  },
  {
   "cell_type": "code",
   "execution_count": null,
   "metadata": {
    "collapsed": true
   },
   "outputs": [],
   "source": []
  }
 ],
 "metadata": {
  "kernelspec": {
   "display_name": "Python 3",
   "language": "python",
   "name": "python3"
  },
  "language_info": {
   "codemirror_mode": {
    "name": "ipython",
    "version": 3
   },
   "file_extension": ".py",
   "mimetype": "text/x-python",
   "name": "python",
   "nbconvert_exporter": "python",
   "pygments_lexer": "ipython3",
   "version": "3.4.3"
  }
 },
 "nbformat": 4,
 "nbformat_minor": 2
}
