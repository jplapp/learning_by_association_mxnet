{
 "cells": [
  {
   "cell_type": "code",
   "execution_count": 1,
   "metadata": {},
   "outputs": [],
   "source": [
    "import os\n",
    "import argparse\n",
    "import logging\n",
    "logging.basicConfig(level=logging.INFO)\n",
    "from common import data, fit\n",
    "from common.util import download_file\n",
    "import mxnet as mx\n",
    "import numpy as np\n",
    "from mxnet.symbol import *"
   ]
  },
  {
   "cell_type": "code",
   "execution_count": 2,
   "metadata": {
    "collapsed": true
   },
   "outputs": [],
   "source": [
    "%load_ext autoreload\n",
    "%autoreload 2"
   ]
  },
  {
   "cell_type": "code",
   "execution_count": 3,
   "metadata": {
    "collapsed": true
   },
   "outputs": [],
   "source": [
    "def download_cifar100():\n",
    "    data_dir=\"/usr/stud/plapp/data/cifar100_mxnet\"\n",
    "    #data_dir=\"/data/cifar-100-mxnet\"\n",
    "    fnames = (os.path.join(data_dir, \"train.rec\"),\n",
    "              os.path.join(data_dir, \"test.rec\"))\n",
    "    return fnames"
   ]
  },
  {
   "cell_type": "code",
   "execution_count": 4,
   "metadata": {
    "collapsed": true
   },
   "outputs": [],
   "source": [
    "(train_fname, val_fname) = download_cifar100()\n",
    "\n",
    "# parse args\n",
    "parser = argparse.ArgumentParser(description=\"train cifar100\",\n",
    "                                 formatter_class=argparse.ArgumentDefaultsHelpFormatter)\n",
    "fit.add_fit_args(parser)\n",
    "data.add_data_args(parser)\n",
    "data.add_data_aug_args(parser)\n",
    "data.set_data_aug_level(parser, 2)\n",
    "\n",
    "num_unsup_examples = 50000\n",
    "subset_factor = 5\n",
    "\n",
    "parser.set_defaults(\n",
    "    # data\n",
    "    data_train     = train_fname,\n",
    "    data_val       = val_fname,\n",
    "    num_classes    = 100,\n",
    "    image_shape    = '3,28,28',\n",
    "    log_prefix     = './logs/cifar_b250_tree_semisup',\n",
    "    prefix         = './checkpoints/cifar_b250_tree_semisup',\n",
    "    pad_size       = 2,\n",
    "    # train\n",
    "    batch_size     = 50,  # todo currently has to devide 'num_validation_samples'\n",
    "    num_epochs     = 200,\n",
    "    lr_step_epochs = '80,120',  # this setting should converge to a good result\n",
    "    gpus           = '0',\n",
    "    loss_gpu       = 0,\n",
    "    disp_batches   = 40,\n",
    "    num_examples   = num_unsup_examples / subset_factor, \n",
    "    wd             = 1e-4,\n",
    "    lr             = .03,\n",
    "    lr_factor      = .33,\n",
    "    nembeddings    = 256,\n",
    "    optimizer      = 'sgd',\n",
    "    max_tree_depth = 2\n",
    ")\n",
    "\n",
    "args = parser.parse_args(\"\")\n",
    "\n",
    "unsup_multiplier = 1\n",
    "labeled_per_class = 500 / subset_factor\n",
    "\n",
    "sample_seed = 47\n",
    "val_interval = 1\n",
    "save_interval = 10"
   ]
  },
  {
   "cell_type": "code",
   "execution_count": 5,
   "metadata": {
    "collapsed": true
   },
   "outputs": [],
   "source": [
    "from data.tree import TreeNode, TreeStructure\n",
    "\n",
    "nodes = []\n",
    "\n",
    "# tree from coarse labels\n",
    "for i in range(20):\n",
    "    n = TreeNode(\"superclass \" + str(i), leafs=range(i * 5, i * 5 + 5))\n",
    "    nodes = nodes + [n]\n",
    "\n",
    "root = TreeNode(\"root\", children=nodes)\n",
    "\n",
    "#for testing: tree with only leafs\n",
    "#coarseTree = TreeStructure(TreeNode(\"root\", leafs=range(100)))\n",
    "\n",
    "tree = TreeStructure(root)"
   ]
  },
  {
   "cell_type": "code",
   "execution_count": 6,
   "metadata": {},
   "outputs": [
    {
     "name": "stdout",
     "output_type": "stream",
     "text": [
      "5  times more unsup data than sup data\n"
     ]
    }
   ],
   "source": [
    "from common.multi_iterator import Multi_iterator\n",
    "from common.tree_iterator import Tree_iterator\n",
    "from common.data import get_partial_rec_iter\n",
    "\n",
    "(train_sup, val) = get_partial_rec_iter(args, get_val=True, devide_by=subset_factor, shuffle=True)\n",
    "(train_unsup, _) = get_partial_rec_iter(args, get_val=False, devide_by=1, shuffle=True)\n",
    "\n",
    "train_sup_tree = Tree_iterator(train_sup, tree, args.max_tree_depth)\n",
    "val_tree = Tree_iterator(val, tree, args.max_tree_depth)\n",
    "    \n",
    "num_sup_examples = labeled_per_class * args.num_classes\n",
    "train = Multi_iterator(train_sup_tree, train_unsup, unsup_multiplier, num_unsup_examples, num_sup_examples)"
   ]
  },
  {
   "cell_type": "code",
   "execution_count": 7,
   "metadata": {},
   "outputs": [
    {
     "name": "stdout",
     "output_type": "stream",
     "text": [
      "[16000.0, 24000.0]\n"
     ]
    }
   ],
   "source": [
    "from symbols import inception_cifar as base_net\n",
    "from common.lba import compute_semisup_loss_tree, logit_loss_tree\n",
    "from common.wrapper_module import get_embedding_shapes\n",
    "\n",
    "# kvstore\n",
    "kv = mx.kvstore.create(args.kv_store)\n",
    "\n",
    "t_nb = args.batch_size * unsup_multiplier\n",
    "#initializer = mx.init.Xavier(rnd_type='gaussian', factor_type=\"avg\", magnitude=2.34)\n",
    "initializer = mx.init.Uniform(0.01)\n",
    "\n",
    "lr, lr_scheduler = fit._get_lr_scheduler(args, kv)\n",
    "\n",
    "def buildEmbeddingModule(arg_p=None, aux_p=None):\n",
    "    dataSup = mx.symbol.Variable(name=\"dataSup\")\n",
    "    dataUnsup = []\n",
    "    for i in range(unsup_multiplier):\n",
    "        dataUnsup.append(Variable(name=\"dataUnsup\"+str(i)))\n",
    "\n",
    "    # concat data, feed both through the network\n",
    "    # then split it up again\n",
    "    data = concat(dataSup, *dataUnsup, dim=0)\n",
    "\n",
    "    embeddings = base_net.build_embeddings(data, nembeddings=args.nembeddings)\n",
    "    splitted = split(embeddings, num_outputs=(unsup_multiplier+1), axis=0, name='split')\n",
    "    \n",
    "    # devices for training\n",
    "    devs = mx.cpu() if args.gpus is None or args.gpus is '' else [\n",
    "        mx.gpu(int(i)) for i in args.gpus.split(',')]\n",
    "\n",
    "    data_names = ['dataSup'] + ['dataUnsup'+str(i) for i in range(unsup_multiplier)]\n",
    "        \n",
    "    # create model\n",
    "    model = mx.mod.Module(\n",
    "        context       = devs,\n",
    "        symbol        = splitted,\n",
    "        data_names    = data_names,\n",
    "        label_names   = None)\n",
    "    \n",
    "    model.bind(data_shapes=train.provide_data)         \n",
    "    model.init_params(initializer, arg_p, aux_p)    \n",
    "    model.init_optimizer(optimizer=args.optimizer, optimizer_params=(\n",
    "       ('learning_rate', lr), \n",
    "       ('wd', 1e-4),\n",
    "       #('momentum', args.mom),\n",
    "       ('rescale_grad', 0.005),\n",
    "       ('lr_scheduler', lr_scheduler)))\n",
    "\n",
    "    return model\n",
    "\n",
    "\n",
    "def buildLossModule(arg_p=None, aux_p=None):\n",
    "    supEmbeddings = Variable(name=\"embeddings_sup\")\n",
    "    labels = [Variable(name='labelSup'+str(d)) for d in range(np.min([args.max_tree_depth, tree.depth]))]\n",
    "    overall_loss = []\n",
    "    \n",
    "    if unsup_multiplier >= 1:\n",
    "        unsupEmbeddings = []\n",
    "        for i in range(unsup_multiplier):\n",
    "            unsupEmbeddings.append(Variable(name=\"embeddings_unsup\"+str(i)))\n",
    "    \n",
    "        unsupEmbeddings = concat(*unsupEmbeddings, dim=0)\n",
    "            \n",
    "        (walker_losses, visit_loss) = compute_semisup_loss_tree(supEmbeddings, unsupEmbeddings, labels, t_nb, \n",
    "                                                     tree, walker_weights=[1.,1.], visit_weight=0.5, \n",
    "                                                     maxDepth=args.max_tree_depth)\n",
    "        overall_loss = walker_losses + [visit_loss]\n",
    "        \n",
    "    overall_loss = logit_loss_tree(supEmbeddings, labels, tree) + overall_loss\n",
    "    \n",
    "    # todo maybe use gpu\n",
    "    devs = mx.cpu() if args.loss_gpu is None or args.loss_gpu is '' else mx.gpu(args.loss_gpu)\n",
    "\n",
    "    # create module\n",
    "    model = mx.mod.Module(\n",
    "        context = devs,\n",
    "        symbol  = Group(overall_loss),\n",
    "        data_names = ['embeddings_sup']+['embeddings_unsup'+str(i) for i in range(unsup_multiplier)],\n",
    "        label_names = ['labelSup'+str(d) for d in range(np.min([args.max_tree_depth, tree.depth]))])\n",
    "    \n",
    "    # allocate memory by given the input data and label shapes\n",
    "    model.bind(data_shapes=get_embedding_shapes(args.batch_size, args.nembeddings, unsup_multiplier), \n",
    "               label_shapes=train.provide_label,\n",
    "               inputs_need_grad=True)\n",
    "            \n",
    "    model.init_params(initializer, arg_p, aux_p)    \n",
    "    model.init_optimizer(optimizer=args.optimizer, optimizer_params=(\n",
    "        ('learning_rate', lr), \n",
    "        ('rescale_grad', 0.005),\n",
    "        #('momentum', args.mom),\n",
    "        ('wd', 1e-4),\n",
    "        ('lr_scheduler', lr_scheduler)))\n",
    "    \n",
    "    return model"
   ]
  },
  {
   "cell_type": "code",
   "execution_count": 8,
   "metadata": {
    "collapsed": true
   },
   "outputs": [],
   "source": [
    "from common.wrapper_module import WrapperModule\n",
    "from common.lba import MultiAccuracy\n",
    "#eval_metrics = Multi_Accuracy(num= 3 if unsup_multiplier >= 1 else 1)\n",
    "                    \n",
    "def fit_model(args, embeddingModule, lossModule, data, **kwargs):\n",
    "    \"\"\"\n",
    "    train a model\n",
    "    args : argparse returns\n",
    "    data_loader : function that returns the train and val data iterators\n",
    "    \"\"\"\n",
    "    # logging\n",
    "    head = '%(asctime)-15s Node[' + str(kv.rank) + '] %(message)s'\n",
    "    logging.basicConfig(level=logging.DEBUG, format=head)\n",
    "    logging.info('start with arguments %s', args)\n",
    "    \n",
    "    # data iterators\n",
    "    (train, val) = data\n",
    "\n",
    "    # load model\n",
    "    if 'arg_params' in kwargs and 'aux_params' in kwargs:\n",
    "        arg_params = kwargs['arg_params']\n",
    "        aux_params = kwargs['aux_params']\n",
    "    else: \n",
    "        sym, arg_params, aux_params = fit._load_model(args, kv.rank)\n",
    "        \n",
    "    # save model\n",
    "    checkpoint = fit._save_model(args, kv.rank)\n",
    "\n",
    "    model = WrapperModule(embeddingModule, lossModule, unsup_multiplier)\n",
    "    \n",
    "    logf = open(args.log_prefix+'logs', 'w')\n",
    "    def validate_model(epoch, *args_):\n",
    "        if epoch % val_interval != 0: \n",
    "            return\n",
    "        res = model.score(val)\n",
    "        #TODO: pull this into default\n",
    "        print('Epoch[%d] Validation-accuracy=%f' % (epoch,  res))\n",
    "        logf.write('Epoch[%d] Validation-accuracy=%f \\n' % (epoch,  res))  # python will convert \\n to os.linesep\n",
    "        logf.flush()\n",
    "\n",
    "        if epoch % save_interval == 0:\n",
    "            model.save_checkpoint(args.prefix, epoch)\n",
    "\n",
    "    #monitor = mx.mon.Monitor(interval=1000, pattern='.*aba_backward.*') \n",
    "    monitor = mx.mon.Monitor(interval=1000, pattern='.*') \n",
    "    \n",
    "    # callbacks that run after each batch\n",
    "    batch_end_callbacks = [mx.callback.Speedometer(args.batch_size*(unsup_multiplier+1), args.disp_batches)]\n",
    "    \n",
    "    epoch_end_callbacks = validate_model\n",
    "    ma = MultiAccuracy(num=2)\n",
    "\n",
    "    # run\n",
    "    model.fit(train,\n",
    "        begin_epoch        = args.load_epoch if args.load_epoch else 0,\n",
    "        num_epoch          = args.num_epochs,\n",
    "        #eval_data          = val,\n",
    "        eval_metric        = ma,\n",
    "        kvstore            = kv,\n",
    "        arg_params         = arg_params,\n",
    "        aux_params         = aux_params,\n",
    "        batch_end_callback = batch_end_callbacks,\n",
    "        epoch_end_callback = epoch_end_callbacks,\n",
    "        allow_missing      = True\n",
    "        #monitor            = monitor\n",
    "             )\n",
    "    logf.close()\n",
    "    return model"
   ]
  },
  {
   "cell_type": "code",
   "execution_count": null,
   "metadata": {
    "scrolled": true
   },
   "outputs": [
    {
     "name": "stderr",
     "output_type": "stream",
     "text": [
      "INFO:root:start with arguments Namespace(batch_size=50, benchmark=0, data_nthreads=4, data_train='/usr/stud/plapp/data/cifar100_mxnet/train.rec', data_val='/usr/stud/plapp/data/cifar100_mxnet/test.rec', disp_batches=40, dtype='float32', gpus='0', image_shape='3,28,28', kv_store='device', load_epoch=None, log_prefix='./logs/cifar_b250_tree_semisup', loss_gpu=0, lr=0.03, lr_factor=0.33, lr_step_epochs='80,120', max_random_aspect_ratio=0, max_random_h=36, max_random_l=50, max_random_rotate_angle=0, max_random_s=50, max_random_scale=1, max_random_shear_ratio=0, max_tree_depth=2, min_random_scale=1, model_prefix=None, mom=0.9, monitor=0, nembeddings=256, network=None, num_classes=100, num_epochs=200, num_examples=10000.0, num_layers=None, optimizer='sgd', pad_size=2, prefix='./checkpoints/cifar_b250_tree_semisup', random_crop=1, random_mirror=1, rgb_mean='123.68,116.779,103.939', test_io=0, top_k=0, wd=0.0001)\n",
      "INFO:root:Epoch[0] Batch [40]\tSpeed: 318.92 samples/sec\tmulti-accuracy_0=0.066829\tmulti-accuracy_1=0.015122\n",
      "INFO:root:Epoch[0] Batch [80]\tSpeed: 298.77 samples/sec\tmulti-accuracy_0=0.074000\tmulti-accuracy_1=0.017000\n",
      "INFO:root:Epoch[0] Batch [120]\tSpeed: 281.44 samples/sec\tmulti-accuracy_0=0.057000\tmulti-accuracy_1=0.015000\n",
      "INFO:root:Epoch[0] Batch [160]\tSpeed: 285.32 samples/sec\tmulti-accuracy_0=0.062000\tmulti-accuracy_1=0.021000\n",
      "INFO:root:Epoch[0] Train-multi-accuracy_0=0.073846\n",
      "INFO:root:Epoch[0] Train-multi-accuracy_1=0.026667\n",
      "INFO:root:Epoch[0] Time cost=67.918\n"
     ]
    },
    {
     "name": "stdout",
     "output_type": "stream",
     "text": [
      "acc level  0 0.0647\n",
      "acc level  1 0.0157\n",
      "Epoch[0] Validation-accuracy=0.015700\n"
     ]
    },
    {
     "name": "stderr",
     "output_type": "stream",
     "text": [
      "INFO:root:Saved checkpoint to \"./checkpoints/cifar_b250_tree_semisup_emb-0000.params\"\n",
      "INFO:root:Saved checkpoint to \"./checkpoints/cifar_b250_tree_semisup_loss-0000.params\"\n",
      "INFO:root:Epoch[1] Batch [40]\tSpeed: 279.59 samples/sec\tmulti-accuracy_0=0.081951\tmulti-accuracy_1=0.025854\n",
      "INFO:root:Epoch[1] Batch [80]\tSpeed: 263.32 samples/sec\tmulti-accuracy_0=0.075500\tmulti-accuracy_1=0.025500\n",
      "INFO:root:Epoch[1] Batch [120]\tSpeed: 257.94 samples/sec\tmulti-accuracy_0=0.079500\tmulti-accuracy_1=0.024500\n",
      "INFO:root:Epoch[1] Batch [160]\tSpeed: 256.07 samples/sec\tmulti-accuracy_0=0.070000\tmulti-accuracy_1=0.024000\n",
      "INFO:root:Epoch[1] Train-multi-accuracy_0=0.073333\n",
      "INFO:root:Epoch[1] Train-multi-accuracy_1=0.025128\n",
      "INFO:root:Epoch[1] Time cost=75.870\n"
     ]
    },
    {
     "name": "stdout",
     "output_type": "stream",
     "text": [
      "acc level  0 0.0559\n",
      "acc level  1 0.0239\n",
      "Epoch[1] Validation-accuracy=0.023900\n"
     ]
    },
    {
     "name": "stderr",
     "output_type": "stream",
     "text": [
      "INFO:root:Epoch[2] Batch [40]\tSpeed: 257.14 samples/sec\tmulti-accuracy_0=0.060000\tmulti-accuracy_1=0.026341\n",
      "INFO:root:Epoch[2] Batch [80]\tSpeed: 261.41 samples/sec\tmulti-accuracy_0=0.057500\tmulti-accuracy_1=0.018500\n",
      "INFO:root:Epoch[2] Batch [120]\tSpeed: 257.87 samples/sec\tmulti-accuracy_0=0.076500\tmulti-accuracy_1=0.025500\n",
      "INFO:root:Epoch[2] Batch [160]\tSpeed: 256.44 samples/sec\tmulti-accuracy_0=0.071000\tmulti-accuracy_1=0.033000\n",
      "INFO:root:Epoch[2] Train-multi-accuracy_0=0.075897\n",
      "INFO:root:Epoch[2] Train-multi-accuracy_1=0.017949\n",
      "INFO:root:Epoch[2] Time cost=77.617\n"
     ]
    },
    {
     "name": "stdout",
     "output_type": "stream",
     "text": [
      "acc level  0 0.0876\n",
      "acc level  1 0.0369\n",
      "Epoch[2] Validation-accuracy=0.036900\n"
     ]
    },
    {
     "name": "stderr",
     "output_type": "stream",
     "text": [
      "INFO:root:Epoch[3] Batch [40]\tSpeed: 260.05 samples/sec\tmulti-accuracy_0=0.082927\tmulti-accuracy_1=0.036585\n",
      "INFO:root:Epoch[3] Batch [80]\tSpeed: 257.29 samples/sec\tmulti-accuracy_0=0.080500\tmulti-accuracy_1=0.027500\n",
      "INFO:root:Epoch[3] Batch [120]\tSpeed: 262.91 samples/sec\tmulti-accuracy_0=0.075000\tmulti-accuracy_1=0.034000\n",
      "INFO:root:Epoch[3] Batch [160]\tSpeed: 264.22 samples/sec\tmulti-accuracy_0=0.078000\tmulti-accuracy_1=0.029500\n",
      "INFO:root:Epoch[3] Train-multi-accuracy_0=0.079487\n",
      "INFO:root:Epoch[3] Train-multi-accuracy_1=0.029744\n",
      "INFO:root:Epoch[3] Time cost=76.761\n"
     ]
    },
    {
     "name": "stdout",
     "output_type": "stream",
     "text": [
      "acc level  0 0.0872\n",
      "acc level  1 0.0297\n",
      "Epoch[3] Validation-accuracy=0.029700\n"
     ]
    },
    {
     "name": "stderr",
     "output_type": "stream",
     "text": [
      "INFO:root:Epoch[4] Batch [40]\tSpeed: 257.25 samples/sec\tmulti-accuracy_0=0.089268\tmulti-accuracy_1=0.040000\n"
     ]
    }
   ],
   "source": [
    "train.reset()\n",
    "\n",
    "# train using a checkpoint with 20% validation accuracy, trained only supervised\n",
    "#(sym, arg_p, aux_p) = mx.model.load_checkpoint('embedding_val30',25)\n",
    "#embeddingModule = buildEmbeddingModule(arg_p, aux_p)      \n",
    "\n",
    "# train from previous iteration\n",
    "(arg_p_emb, aux_p_emb, arg_p_loss, aux_p_loss) = WrapperModule.load_checkpoint('cifar_b250_tree_semisup', 10)\n",
    "embeddingModule = buildEmbeddingModule(arg_p_emb, aux_p_emb)      \n",
    "lossModule = buildLossModule(arg_p_loss, aux_p_loss)\n",
    "# train from scratch\n",
    "#embeddingModule = buildEmbeddingModule()\n",
    "\n",
    "#(semi)supervised loss module\n",
    "#lossModule = buildLossModule()\n",
    "\n",
    "m = fit_model(args, embeddingModule, lossModule, (train, val_tree))"
   ]
  },
  {
   "cell_type": "code",
   "execution_count": null,
   "metadata": {
    "collapsed": true
   },
   "outputs": [],
   "source": [
    "np.min([1,2])"
   ]
  },
  {
   "cell_type": "code",
   "execution_count": null,
   "metadata": {
    "collapsed": true
   },
   "outputs": [],
   "source": [
    "a = train.next().label\n",
    "len(a)\n",
    "#len(a[0])"
   ]
  },
  {
   "cell_type": "code",
   "execution_count": null,
   "metadata": {
    "collapsed": true
   },
   "outputs": [],
   "source": [
    "aux_p"
   ]
  },
  {
   "cell_type": "code",
   "execution_count": null,
   "metadata": {
    "collapsed": true
   },
   "outputs": [],
   "source": [
    "embeddingModule.save_checkpoint('cifarsemisup200', 200)"
   ]
  },
  {
   "cell_type": "code",
   "execution_count": null,
   "metadata": {
    "collapsed": true
   },
   "outputs": [],
   "source": [
    "lossModule.save_checkpoint('cifarsemisup200_loss', 200)"
   ]
  },
  {
   "cell_type": "code",
   "execution_count": null,
   "metadata": {
    "collapsed": true
   },
   "outputs": [],
   "source": [
    "val.reset()\n",
    "val.next().label[0].shape[0]"
   ]
  }
 ],
 "metadata": {
  "kernelspec": {
   "display_name": "Python 3",
   "language": "python",
   "name": "python3"
  },
  "language_info": {
   "codemirror_mode": {
    "name": "ipython",
    "version": 3
   },
   "file_extension": ".py",
   "mimetype": "text/x-python",
   "name": "python",
   "nbconvert_exporter": "python",
   "pygments_lexer": "ipython3",
   "version": "3.5.2"
  }
 },
 "nbformat": 4,
 "nbformat_minor": 2
}
